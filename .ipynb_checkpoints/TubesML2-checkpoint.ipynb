{
 "cells": [
  {
   "cell_type": "markdown",
   "metadata": {},
   "source": [
    "# Tugas Besar Pembelajaran Mesin 2"
   ]
  },
  {
   "cell_type": "markdown",
   "metadata": {},
   "source": [
    "Muhammad Rizki Duwinanto - 13515006<br/>\n",
    "Kevin Erdiza Yogatama - 13515016<br/>\n",
    "Edwin Rachman - 13515042"
   ]
  },
  {
   "cell_type": "markdown",
   "metadata": {},
   "source": [
    "#### Pustaka Terkait"
   ]
  },
  {
   "cell_type": "code",
   "execution_count": 1,
   "metadata": {},
   "outputs": [],
   "source": [
    "import pandas as pd\n",
    "import numpy as np\n",
    "from sklearn.preprocessing import LabelEncoder\n",
    "from sklearn.model_selection import train_test_split\n",
    "from sklearn import datasets, metrics\n",
    "import time\n",
    "import random\n",
    "import matplotlib.pyplot as plt\n",
    "import math"
   ]
  },
  {
   "cell_type": "code",
   "execution_count": 2,
   "metadata": {},
   "outputs": [],
   "source": [
    "iris = datasets.load_iris()\n",
    "X_train, X_test, y_train, y_test = train_test_split(iris.data, iris.target, test_size=0.1)"
   ]
  },
  {
   "cell_type": "code",
   "execution_count": 3,
   "metadata": {},
   "outputs": [],
   "source": [
    "train_data = [(x, y) for x, y in zip(X_train, y_train)]\n",
    "test_data = [(x, y) for x, y in zip(X_test, y_test)]"
   ]
  },
  {
   "cell_type": "markdown",
   "metadata": {},
   "source": [
    "## 1.a. Create a Classifier "
   ]
  },
  {
   "cell_type": "markdown",
   "metadata": {},
   "source": [
    "#### Deskripsi Algoritma"
   ]
  },
  {
   "cell_type": "markdown",
   "metadata": {},
   "source": [
    "Inisialisasi model neural network ini menggunakan langkah-langkah sebagai berikut:\n",
    "1. Jumlah node setiap layer (parameter sizes) dispesifikasikan.\n",
    "2. Bias dan weight untuk setiap layer setelah layer pertama dihitung secara acak.\n",
    "\n",
    "Proses fitting model sebelumnya menggunakan algoritma sebagai berikut:\n",
    "1. Dalam fungsi fit dibutuhkan parameter jumlah data training (training_data), jumlah epoch (epochs), ukuran mini-batch (mini_batch_size), dan learning rate (learning_rate). Momentum (parameter momentum) jika diinginkan juga dapat dispesifikasikan. Data validasi (parameter validation_data) dapat dispesifikasikan secara langsung atau didapatkan dari training data jika parameter validation_split dispesifikasikan.\n",
    "2. Training data dibagi-bagi menjadi mini-batch berdasarkan ukuran mini-batch.\n",
    "3. Weight dan bias baru dihitung per mini-batch menggunakan fungsi update_mini_batch yang mengimplementasikan stochastic gradient. Dalam implementasi stochastic gradient digunakan fungsi backpropagation.\n",
    "4. Lakukan langkah 3 untuk setiap mini-batch\n",
    "5. Hitung akurasi dan loss training menggunakan fungsi evaluate dengan input mini-batch pertama. Fungsi evaluate menghasilkan nilai akurasi dan loss berdasarkan hasil feed-forward sigmoid (fungsi feed_forward). Hasil feed-forward setiap data jika lebih dari 0.5 akan menghasilkan 1, jika tidak menghasilkan 0. Akurasi dihitung dari rasio jumlah data setelah feed-forward yang sama dengan labelnya dengan jumlah seluruh data. Loss dihitung dari selisih kuadrat antara label dengan hasil data setelah feed-forward setiap data dibagi dengan jumlah semua data.\n",
    "6. Hitung akurasi dan loss validasi menggunakan fungsi evaluate dengan input validation_data.\n",
    "7. Lakukan langkah 2-6 untuk setiap epoch\n",
    "\n",
    "Untuk melakukan prediksi dapat digunakan fungsi predict dengan input test_data. Dalam fungsi ini setiap test_data akan dilakukan feed-forward seperti pada fungsi evaluate."
   ]
  },
  {
   "cell_type": "markdown",
   "metadata": {},
   "source": [
    "#### Source Code Program"
   ]
  },
  {
   "cell_type": "code",
   "execution_count": 4,
   "metadata": {},
   "outputs": [],
   "source": [
    "class Network(object):\n",
    "    def __init__(self, sizes):\n",
    "        self.sizes = sizes\n",
    "        self.num_layers = len(sizes)\n",
    "        self.biases = [np.random.rand(y, 1) for y in sizes[1:]]\n",
    "        self.weights = [np.array([np.random.uniform(-0.05, 0.05, x) for i in range(0,y)]) for x,y in zip(sizes[:-1], sizes[1:])]\n",
    "        self.history = d = {'acc': [], 'val_acc': [], 'loss': [], 'val_loss': []}\n",
    "    \n",
    "    def feed_forward(self, activation):\n",
    "        for bias, weight in zip(self.biases, self.weights):\n",
    "            activation = sigmoid(np.dot(weight, activation) + bias.transpose()[0])\n",
    "        return activation\n",
    "    \n",
    "    def fit(self, training_data, epochs, mini_batch_size, learning_rate,\n",
    "            momentum=0, validation_data=None, validation_split=0.0, verbose=1):\n",
    "        if validation_split != 0.0 and not validation_data :\n",
    "            training_data, validation_data = train_test_split(training_data, test_size=validation_split, random_state=42)\n",
    "        n_training = len(training_data)\n",
    "        if validation_data or validation_split != 0.0: \n",
    "            n_validation = len(validation_data)\n",
    "            if verbose != 0:\n",
    "                print(\"Train on {} samples, validate on {} samples\".format(n_training, n_validation))\n",
    "        for epoch in range(epochs):\n",
    "            mini_batches = [training_data[k:k + mini_batch_size] for k in range(0, n_training, mini_batch_size)]\n",
    "            previous_weights = self.weights\n",
    "            previous_biases =self.biases\n",
    "            first = True\n",
    "            for mini_batch in mini_batches:\n",
    "                if first: previous_weights, previous_biases = self.weights, self.biases\n",
    "                start = time.time()\n",
    "                previous_weights, previous_biases = self.update_mini_batch(mini_batch, \n",
    "                                                                           learning_rate,\n",
    "                                                                           momentum, \n",
    "                                                                           previous_weights, \n",
    "                                                                           previous_biases)\n",
    "                end = time.time() - start\n",
    "            if validation_data or validation_split != 0:\n",
    "                training_accuracy, training_loss = self.evaluate(mini_batches[0])\n",
    "                validation_accuracy, validation_loss = self.evaluate(validation_data)\n",
    "                self.history['acc'].append(training_accuracy)\n",
    "                self.history['val_acc'].append(validation_accuracy)\n",
    "                self.history['loss'].append(training_loss)\n",
    "                self.history['val_loss'].append(validation_loss)\n",
    "                if verbose == 1 :\n",
    "                    print(\"Epoch {}/{} : {} s - loss: {} - acc: {} - val_loss: {} - val_acc: {}\".format(epoch + 1, \n",
    "                                                                                                        epochs,\n",
    "                                                                                                        end,\n",
    "                                                                                                        training_loss,\n",
    "                                                                                                        training_accuracy,\n",
    "                                                                                                        validation_loss,\n",
    "                                                                                                        validation_accuracy))\n",
    "                elif verbose == 2 :\n",
    "                    print(\"Epoch {} complete.\".format(epoch + 1))\n",
    "            else :\n",
    "                if verbose != 0:\n",
    "                    print(\"Epoch {} complete.\".format(epoch + 1))\n",
    "        \n",
    "    def update_mini_batch(self, mini_batch, learning_rate, momentum, previous_weights, previous_biases):\n",
    "        nabla_biases = [np.zeros(bias.shape) for bias in self.biases]\n",
    "        nabla_weights = [np.zeros(weight.shape) for weight in self.weights]\n",
    "        for x, y in mini_batch:\n",
    "            delta_nabla_bias, delta_nabla_weights = self.backpropagation(x, y)\n",
    "            nabla_biases = [nb + dnb for nb, dnb in zip(nabla_biases, delta_nabla_bias)]\n",
    "            nabla_weights = [nw + dnw for nw, dnw in zip(nabla_weights, delta_nabla_weights)]\n",
    "        temp_weights = self.weights\n",
    "        temp_biases = self.biases\n",
    "        self.weights = [w + momentum * pw + (learning_rate/len(mini_batch)) * nw \n",
    "                        for w, nw, pw in zip(self.weights, nabla_weights, previous_weights)]\n",
    "        self.biases = [b + momentum * pb + (learning_rate/len(mini_batch)) * nb \n",
    "                       for b, nb, pb in zip(self.biases, nabla_biases, previous_biases)]\n",
    "        return (temp_weights, temp_biases)\n",
    "        \n",
    "    def backpropagation(self, x, y):\n",
    "        nabla_bias = [np.zeros(bias.shape) for bias in self.biases]\n",
    "        nabla_weights = [np.zeros(weight.shape) for weight in self.weights]\n",
    "        \n",
    "        activation = x\n",
    "        activations = [x]\n",
    "        z_vectors = []\n",
    "        \n",
    "        for bias, weight in zip(self.biases, self.weights):\n",
    "            z = np.dot(weight, activation) + bias.transpose()[0]\n",
    "            z_vectors.append(z)\n",
    "            activation = sigmoid(z)\n",
    "            activations.append(activation)\n",
    "        \n",
    "        delta = self.cost_derivative(activations[-1], y) * sigmoid_prime(z_vectors[-1])\n",
    "        nabla_bias[-1] = delta\n",
    "        delta_newaxis = delta[:, np.newaxis]\n",
    "        m = len(activations[-2])\n",
    "        activations_newaxis = activations[-2][:, np.newaxis].reshape(1, m)\n",
    "        nabla_weights[-1] = np.dot(delta_newaxis, activations_newaxis)\n",
    "        \n",
    "        for layer in range(2, self.num_layers):\n",
    "            z = z_vectors[-layer]\n",
    "            sp = sigmoid_prime(z)\n",
    "            delta = np.dot(self.weights[-layer+1].transpose(), delta) * sp\n",
    "            nabla_bias[-layer] = delta\n",
    "            delta_newaxis = delta[:, np.newaxis]\n",
    "            m = len(activations[-layer-1].transpose())\n",
    "            activations_newaxis = activations[-layer-1].transpose()[:, np.newaxis].reshape(1, m)\n",
    "            nabla_weights[-layer] = np.dot(delta_newaxis, activations_newaxis)\n",
    "        \n",
    "        return (nabla_bias, nabla_weights)\n",
    "    \n",
    "    def evaluate(self, test_data):\n",
    "        test_results = [(1 if self.feed_forward(x) * 2 >= 1 else 0, y) for x, y in test_data]\n",
    "        accuracy = sum(int(x == y) for x, y in test_results)/len(test_results)\n",
    "        loss = sum(math.pow((y - x), 2) for x, y in test_results)/len(test_results)\n",
    "        return accuracy, loss\n",
    "    \n",
    "    def predict(self, test_data):\n",
    "        test_results = [1 if self.feed_forward(x) * 2 >= 1 else 0 for x, y in test_data]\n",
    "        return (test_results)\n",
    "    \n",
    "    def cost_derivative(self, output_activations, y):\n",
    "        return np.squeeze(y - output_activations)\n",
    "\n",
    "def sigmoid(z):\n",
    "    return 1.0/(1.0+np.exp(-z))\n",
    "\n",
    "def sigmoid_prime(z):\n",
    "    return sigmoid(z)*(1-sigmoid(z))"
   ]
  },
  {
   "cell_type": "markdown",
   "metadata": {},
   "source": [
    "#### Cara Pengunaan"
   ]
  },
  {
   "cell_type": "code",
   "execution_count": 5,
   "metadata": {},
   "outputs": [],
   "source": [
    "neural_network = Network([4, 5, 10, 1])\n",
    "neural_network.fit(train_data, 50, 5, 0.1, momentum=0.0001, validation_split=0.25, verbose=0)"
   ]
  },
  {
   "cell_type": "markdown",
   "metadata": {},
   "source": [
    "Berikut adalah contoh penggunaan algoritma pada data latih iris. Namun, hasil tidak ditampilkan karena iris memiliki 3 label sedangkan classifier yang kami buat hanya biner. Untuk hasil classifier dapat dilihat pada bagian 1.b.2."
   ]
  },
  {
   "cell_type": "markdown",
   "metadata": {},
   "source": [
    "## 1.b.1 Explorasi Keras "
   ]
  },
  {
   "cell_type": "markdown",
   "metadata": {},
   "source": [
    "#### Deskripsi Algoritma"
   ]
  },
  {
   "cell_type": "markdown",
   "metadata": {},
   "source": [
    "Pembelajaran akan menggunakan kakas keras dengan model <i>sequential</i> dan lapisan <i>dense</i> .Model akan memakai input layer sebanyak 1 neuron dengan bentuk input 4 sesuai jumlah attribute data latih, kemudian dengan 3 hidden layer masing-masing 2, 3, 4 neuron dan 1 output layer dengan 1 neuron. Optimizer yang dipakai adalah SGD, dengan perhitungan loss dengan Mean Squared Error, dan Metrics Accuracy. "
   ]
  },
  {
   "cell_type": "markdown",
   "metadata": {},
   "source": [
    "#### Source Code Program"
   ]
  },
  {
   "cell_type": "code",
   "execution_count": 6,
   "metadata": {},
   "outputs": [
    {
     "name": "stderr",
     "output_type": "stream",
     "text": [
      "Using TensorFlow backend.\n"
     ]
    }
   ],
   "source": [
    "from keras.models import Sequential\n",
    "from keras.layers import Dense, Activation"
   ]
  },
  {
   "cell_type": "code",
   "execution_count": 7,
   "metadata": {},
   "outputs": [],
   "source": [
    "network = Sequential()\n",
    "network.add(Dense(1, activation='sigmoid', input_shape=(4,)))\n",
    "network.add(Dense(2, activation='sigmoid'))\n",
    "network.add(Dense(3, activation='sigmoid'))\n",
    "network.add(Dense(4, activation='sigmoid'))\n",
    "network.add(Dense(1, activation='sigmoid'))"
   ]
  },
  {
   "cell_type": "code",
   "execution_count": 8,
   "metadata": {},
   "outputs": [],
   "source": [
    "network.compile(optimizer='SGD', loss='mse', metrics=['accuracy'])"
   ]
  },
  {
   "cell_type": "code",
   "execution_count": 9,
   "metadata": {
    "scrolled": true
   },
   "outputs": [
    {
     "name": "stdout",
     "output_type": "stream",
     "text": [
      "_________________________________________________________________\n",
      "Layer (type)                 Output Shape              Param #   \n",
      "=================================================================\n",
      "dense_1 (Dense)              (None, 1)                 5         \n",
      "_________________________________________________________________\n",
      "dense_2 (Dense)              (None, 2)                 4         \n",
      "_________________________________________________________________\n",
      "dense_3 (Dense)              (None, 3)                 9         \n",
      "_________________________________________________________________\n",
      "dense_4 (Dense)              (None, 4)                 16        \n",
      "_________________________________________________________________\n",
      "dense_5 (Dense)              (None, 1)                 5         \n",
      "=================================================================\n",
      "Total params: 39\n",
      "Trainable params: 39\n",
      "Non-trainable params: 0\n",
      "_________________________________________________________________\n"
     ]
    }
   ],
   "source": [
    "network.summary()"
   ]
  },
  {
   "cell_type": "markdown",
   "metadata": {},
   "source": [
    "<b>Percobaan pada iris</b>"
   ]
  },
  {
   "cell_type": "code",
   "execution_count": 10,
   "metadata": {},
   "outputs": [],
   "source": [
    "history = network.fit(X_train, y_train, epochs=200, verbose=0, batch_size=1, validation_split=0.1)"
   ]
  },
  {
   "cell_type": "code",
   "execution_count": 11,
   "metadata": {},
   "outputs": [
    {
     "name": "stdout",
     "output_type": "stream",
     "text": [
      "15/15 [==============================] - 0s 461us/step\n"
     ]
    }
   ],
   "source": [
    "score = network.evaluate(X_test, y_test, batch_size=1)"
   ]
  },
  {
   "cell_type": "code",
   "execution_count": 12,
   "metadata": {},
   "outputs": [
    {
     "name": "stdout",
     "output_type": "stream",
     "text": [
      "Loss: 53.069829941717515 %\n",
      "Accuracy 46.666666666666664 %\n"
     ]
    }
   ],
   "source": [
    "print(\"Loss: {} %\".format(score[0]*100.0))\n",
    "print(\"Accuracy {} %\".format(score[1]*100.0))"
   ]
  },
  {
   "cell_type": "code",
   "execution_count": 13,
   "metadata": {},
   "outputs": [
    {
     "data": {
      "image/png": "[encoded data removed]",
      "text/plain": [
       "<Figure size 432x288 with 1 Axes>"
      ]
     },
     "metadata": {},
     "output_type": "display_data"
    }
   ],
   "source": [
    "plt.plot(history.history['acc'])\n",
    "plt.plot(history.history['val_acc'])\n",
    "plt.title('Model accuracy')\n",
    "plt.ylabel('Accuracy')\n",
    "plt.xlabel('Epoch')\n",
    "plt.legend(['Train', 'Test'], loc='upper left')\n",
    "plt.show()"
   ]
  },
  {
   "cell_type": "code",
   "execution_count": 14,
   "metadata": {
    "scrolled": true
   },
   "outputs": [
    {
     "data": {
      "image/png": "[encoded data removed]",
      "text/plain": [
       "<Figure size 432x288 with 1 Axes>"
      ]
     },
     "metadata": {},
     "output_type": "display_data"
    }
   ],
   "source": [
    "plt.plot(history.history['loss'])\n",
    "plt.plot(history.history['val_loss'])\n",
    "plt.title('Model loss')\n",
    "plt.ylabel('Loss')\n",
    "plt.xlabel('Epoch')\n",
    "plt.legend(['Train', 'Test'], loc='upper left')\n",
    "plt.show()"
   ]
  },
  {
   "cell_type": "markdown",
   "metadata": {},
   "source": [
    "## 1.b.2 Eksperimen Data Categorization Framework"
   ]
  },
  {
   "cell_type": "markdown",
   "metadata": {},
   "source": [
    "### 1.b.2.1 Persiapan Data"
   ]
  },
  {
   "cell_type": "markdown",
   "metadata": {},
   "source": [
    "Hal pertama yang kami lakukan adalah menggunakan data latih Weather Categorization dari WEKA. "
   ]
  },
  {
   "cell_type": "code",
   "execution_count": 15,
   "metadata": {},
   "outputs": [
    {
     "data": {
      "text/html": [
       "<div>\n",
       "<style scoped>\n",
       "    .dataframe tbody tr th:only-of-type {\n",
       "        vertical-align: middle;\n",
       "    }\n",
       "\n",
       "    .dataframe tbody tr th {\n",
       "        vertical-align: top;\n",
       "    }\n",
       "\n",
       "    .dataframe thead th {\n",
       "        text-align: right;\n",
       "    }\n",
       "</style>\n",
       "<table border=\"1\" class=\"dataframe\">\n",
       "  <thead>\n",
       "    <tr style=\"text-align: right;\">\n",
       "      <th></th>\n",
       "      <th>outlook</th>\n",
       "      <th>temperature</th>\n",
       "      <th>humidity</th>\n",
       "      <th>windy</th>\n",
       "      <th>play</th>\n",
       "    </tr>\n",
       "  </thead>\n",
       "  <tbody>\n",
       "    <tr>\n",
       "      <th>0</th>\n",
       "      <td>sunny</td>\n",
       "      <td>85</td>\n",
       "      <td>85</td>\n",
       "      <td>False</td>\n",
       "      <td>no</td>\n",
       "    </tr>\n",
       "    <tr>\n",
       "      <th>1</th>\n",
       "      <td>sunny</td>\n",
       "      <td>80</td>\n",
       "      <td>90</td>\n",
       "      <td>True</td>\n",
       "      <td>no</td>\n",
       "    </tr>\n",
       "    <tr>\n",
       "      <th>2</th>\n",
       "      <td>overcast</td>\n",
       "      <td>83</td>\n",
       "      <td>86</td>\n",
       "      <td>False</td>\n",
       "      <td>yes</td>\n",
       "    </tr>\n",
       "    <tr>\n",
       "      <th>3</th>\n",
       "      <td>rainy</td>\n",
       "      <td>70</td>\n",
       "      <td>96</td>\n",
       "      <td>False</td>\n",
       "      <td>yes</td>\n",
       "    </tr>\n",
       "    <tr>\n",
       "      <th>4</th>\n",
       "      <td>rainy</td>\n",
       "      <td>68</td>\n",
       "      <td>80</td>\n",
       "      <td>False</td>\n",
       "      <td>yes</td>\n",
       "    </tr>\n",
       "    <tr>\n",
       "      <th>5</th>\n",
       "      <td>rainy</td>\n",
       "      <td>65</td>\n",
       "      <td>70</td>\n",
       "      <td>True</td>\n",
       "      <td>no</td>\n",
       "    </tr>\n",
       "    <tr>\n",
       "      <th>6</th>\n",
       "      <td>overcast</td>\n",
       "      <td>64</td>\n",
       "      <td>65</td>\n",
       "      <td>True</td>\n",
       "      <td>yes</td>\n",
       "    </tr>\n",
       "    <tr>\n",
       "      <th>7</th>\n",
       "      <td>sunny</td>\n",
       "      <td>72</td>\n",
       "      <td>95</td>\n",
       "      <td>False</td>\n",
       "      <td>no</td>\n",
       "    </tr>\n",
       "    <tr>\n",
       "      <th>8</th>\n",
       "      <td>sunny</td>\n",
       "      <td>69</td>\n",
       "      <td>70</td>\n",
       "      <td>False</td>\n",
       "      <td>yes</td>\n",
       "    </tr>\n",
       "    <tr>\n",
       "      <th>9</th>\n",
       "      <td>rainy</td>\n",
       "      <td>75</td>\n",
       "      <td>80</td>\n",
       "      <td>False</td>\n",
       "      <td>yes</td>\n",
       "    </tr>\n",
       "    <tr>\n",
       "      <th>10</th>\n",
       "      <td>sunny</td>\n",
       "      <td>75</td>\n",
       "      <td>70</td>\n",
       "      <td>True</td>\n",
       "      <td>yes</td>\n",
       "    </tr>\n",
       "    <tr>\n",
       "      <th>11</th>\n",
       "      <td>overcast</td>\n",
       "      <td>72</td>\n",
       "      <td>90</td>\n",
       "      <td>True</td>\n",
       "      <td>yes</td>\n",
       "    </tr>\n",
       "    <tr>\n",
       "      <th>12</th>\n",
       "      <td>overcast</td>\n",
       "      <td>81</td>\n",
       "      <td>75</td>\n",
       "      <td>False</td>\n",
       "      <td>yes</td>\n",
       "    </tr>\n",
       "    <tr>\n",
       "      <th>13</th>\n",
       "      <td>rainy</td>\n",
       "      <td>71</td>\n",
       "      <td>91</td>\n",
       "      <td>True</td>\n",
       "      <td>no</td>\n",
       "    </tr>\n",
       "  </tbody>\n",
       "</table>\n",
       "</div>"
      ],
      "text/plain": [
       "     outlook  temperature  humidity  windy play\n",
       "0      sunny           85        85  False   no\n",
       "1      sunny           80        90   True   no\n",
       "2   overcast           83        86  False  yes\n",
       "3      rainy           70        96  False  yes\n",
       "4      rainy           68        80  False  yes\n",
       "5      rainy           65        70   True   no\n",
       "6   overcast           64        65   True  yes\n",
       "7      sunny           72        95  False   no\n",
       "8      sunny           69        70  False  yes\n",
       "9      rainy           75        80  False  yes\n",
       "10     sunny           75        70   True  yes\n",
       "11  overcast           72        90   True  yes\n",
       "12  overcast           81        75  False  yes\n",
       "13     rainy           71        91   True   no"
      ]
     },
     "execution_count": 15,
     "metadata": {},
     "output_type": "execute_result"
    }
   ],
   "source": [
    "weather_df = pd.read_csv('dataset/weather.csv')\n",
    "\n",
    "weather_df"
   ]
  },
  {
   "cell_type": "markdown",
   "metadata": {},
   "source": [
    "Dapat dilihat data latih terdiri dari data numerik dan data kategorikal. Diperlukan preprocessing dengan kakas scikit-learn yaitu LabelEncoder sebagai berikut."
   ]
  },
  {
   "cell_type": "code",
   "execution_count": 16,
   "metadata": {},
   "outputs": [],
   "source": [
    "label_encoder = LabelEncoder()\n",
    "weather_df['outlook'] = label_encoder.fit_transform(weather_df.outlook)\n",
    "weather_df['windy'] = label_encoder.fit_transform(weather_df.windy)\n",
    "weather_df['play'] = label_encoder.fit_transform(weather_df.play)"
   ]
  },
  {
   "cell_type": "code",
   "execution_count": 17,
   "metadata": {},
   "outputs": [
    {
     "data": {
      "text/html": [
       "<div>\n",
       "<style scoped>\n",
       "    .dataframe tbody tr th:only-of-type {\n",
       "        vertical-align: middle;\n",
       "    }\n",
       "\n",
       "    .dataframe tbody tr th {\n",
       "        vertical-align: top;\n",
       "    }\n",
       "\n",
       "    .dataframe thead th {\n",
       "        text-align: right;\n",
       "    }\n",
       "</style>\n",
       "<table border=\"1\" class=\"dataframe\">\n",
       "  <thead>\n",
       "    <tr style=\"text-align: right;\">\n",
       "      <th></th>\n",
       "      <th>outlook</th>\n",
       "      <th>temperature</th>\n",
       "      <th>humidity</th>\n",
       "      <th>windy</th>\n",
       "      <th>play</th>\n",
       "    </tr>\n",
       "  </thead>\n",
       "  <tbody>\n",
       "    <tr>\n",
       "      <th>0</th>\n",
       "      <td>2</td>\n",
       "      <td>85</td>\n",
       "      <td>85</td>\n",
       "      <td>0</td>\n",
       "      <td>0</td>\n",
       "    </tr>\n",
       "    <tr>\n",
       "      <th>1</th>\n",
       "      <td>2</td>\n",
       "      <td>80</td>\n",
       "      <td>90</td>\n",
       "      <td>1</td>\n",
       "      <td>0</td>\n",
       "    </tr>\n",
       "    <tr>\n",
       "      <th>2</th>\n",
       "      <td>0</td>\n",
       "      <td>83</td>\n",
       "      <td>86</td>\n",
       "      <td>0</td>\n",
       "      <td>1</td>\n",
       "    </tr>\n",
       "    <tr>\n",
       "      <th>3</th>\n",
       "      <td>1</td>\n",
       "      <td>70</td>\n",
       "      <td>96</td>\n",
       "      <td>0</td>\n",
       "      <td>1</td>\n",
       "    </tr>\n",
       "    <tr>\n",
       "      <th>4</th>\n",
       "      <td>1</td>\n",
       "      <td>68</td>\n",
       "      <td>80</td>\n",
       "      <td>0</td>\n",
       "      <td>1</td>\n",
       "    </tr>\n",
       "    <tr>\n",
       "      <th>5</th>\n",
       "      <td>1</td>\n",
       "      <td>65</td>\n",
       "      <td>70</td>\n",
       "      <td>1</td>\n",
       "      <td>0</td>\n",
       "    </tr>\n",
       "    <tr>\n",
       "      <th>6</th>\n",
       "      <td>0</td>\n",
       "      <td>64</td>\n",
       "      <td>65</td>\n",
       "      <td>1</td>\n",
       "      <td>1</td>\n",
       "    </tr>\n",
       "    <tr>\n",
       "      <th>7</th>\n",
       "      <td>2</td>\n",
       "      <td>72</td>\n",
       "      <td>95</td>\n",
       "      <td>0</td>\n",
       "      <td>0</td>\n",
       "    </tr>\n",
       "    <tr>\n",
       "      <th>8</th>\n",
       "      <td>2</td>\n",
       "      <td>69</td>\n",
       "      <td>70</td>\n",
       "      <td>0</td>\n",
       "      <td>1</td>\n",
       "    </tr>\n",
       "    <tr>\n",
       "      <th>9</th>\n",
       "      <td>1</td>\n",
       "      <td>75</td>\n",
       "      <td>80</td>\n",
       "      <td>0</td>\n",
       "      <td>1</td>\n",
       "    </tr>\n",
       "    <tr>\n",
       "      <th>10</th>\n",
       "      <td>2</td>\n",
       "      <td>75</td>\n",
       "      <td>70</td>\n",
       "      <td>1</td>\n",
       "      <td>1</td>\n",
       "    </tr>\n",
       "    <tr>\n",
       "      <th>11</th>\n",
       "      <td>0</td>\n",
       "      <td>72</td>\n",
       "      <td>90</td>\n",
       "      <td>1</td>\n",
       "      <td>1</td>\n",
       "    </tr>\n",
       "    <tr>\n",
       "      <th>12</th>\n",
       "      <td>0</td>\n",
       "      <td>81</td>\n",
       "      <td>75</td>\n",
       "      <td>0</td>\n",
       "      <td>1</td>\n",
       "    </tr>\n",
       "    <tr>\n",
       "      <th>13</th>\n",
       "      <td>1</td>\n",
       "      <td>71</td>\n",
       "      <td>91</td>\n",
       "      <td>1</td>\n",
       "      <td>0</td>\n",
       "    </tr>\n",
       "  </tbody>\n",
       "</table>\n",
       "</div>"
      ],
      "text/plain": [
       "    outlook  temperature  humidity  windy  play\n",
       "0         2           85        85      0     0\n",
       "1         2           80        90      1     0\n",
       "2         0           83        86      0     1\n",
       "3         1           70        96      0     1\n",
       "4         1           68        80      0     1\n",
       "5         1           65        70      1     0\n",
       "6         0           64        65      1     1\n",
       "7         2           72        95      0     0\n",
       "8         2           69        70      0     1\n",
       "9         1           75        80      0     1\n",
       "10        2           75        70      1     1\n",
       "11        0           72        90      1     1\n",
       "12        0           81        75      0     1\n",
       "13        1           71        91      1     0"
      ]
     },
     "execution_count": 17,
     "metadata": {},
     "output_type": "execute_result"
    }
   ],
   "source": [
    "weather_df"
   ]
  },
  {
   "cell_type": "code",
   "execution_count": 18,
   "metadata": {},
   "outputs": [
    {
     "data": {
      "text/plain": [
       "array([[ 2, 85, 85,  0],\n",
       "       [ 2, 80, 90,  1],\n",
       "       [ 0, 83, 86,  0],\n",
       "       [ 1, 70, 96,  0],\n",
       "       [ 1, 68, 80,  0],\n",
       "       [ 1, 65, 70,  1],\n",
       "       [ 0, 64, 65,  1],\n",
       "       [ 2, 72, 95,  0],\n",
       "       [ 2, 69, 70,  0],\n",
       "       [ 1, 75, 80,  0],\n",
       "       [ 2, 75, 70,  1],\n",
       "       [ 0, 72, 90,  1],\n",
       "       [ 0, 81, 75,  0],\n",
       "       [ 1, 71, 91,  1]])"
      ]
     },
     "execution_count": 18,
     "metadata": {},
     "output_type": "execute_result"
    }
   ],
   "source": [
    "X_weather = weather_df.iloc[:,:4].values\n",
    "X_weather"
   ]
  },
  {
   "cell_type": "code",
   "execution_count": 19,
   "metadata": {},
   "outputs": [
    {
     "data": {
      "text/plain": [
       "array([0, 0, 1, 1, 1, 0, 1, 0, 1, 1, 1, 1, 1, 0])"
      ]
     },
     "execution_count": 19,
     "metadata": {},
     "output_type": "execute_result"
    }
   ],
   "source": [
    "y_weather = weather_df.play.values\n",
    "y_weather"
   ]
  },
  {
   "cell_type": "markdown",
   "metadata": {},
   "source": [
    "Kemudian, setelah kami menjadikan data latih tersebut numerik, kami melakukan pemisahan sebagian data latih (10%) menjadi data uji dengan proporsi."
   ]
  },
  {
   "cell_type": "code",
   "execution_count": 20,
   "metadata": {},
   "outputs": [],
   "source": [
    "X_train, X_test, y_train, y_test = train_test_split(X_weather, y_weather, test_size=0.1,shuffle=False)"
   ]
  },
  {
   "cell_type": "code",
   "execution_count": 21,
   "metadata": {},
   "outputs": [
    {
     "data": {
      "text/plain": [
       "array([[ 2, 85, 85,  0],\n",
       "       [ 2, 80, 90,  1],\n",
       "       [ 0, 83, 86,  0],\n",
       "       [ 1, 70, 96,  0],\n",
       "       [ 1, 68, 80,  0],\n",
       "       [ 1, 65, 70,  1],\n",
       "       [ 0, 64, 65,  1],\n",
       "       [ 2, 72, 95,  0],\n",
       "       [ 2, 69, 70,  0],\n",
       "       [ 1, 75, 80,  0],\n",
       "       [ 2, 75, 70,  1],\n",
       "       [ 0, 72, 90,  1]])"
      ]
     },
     "execution_count": 21,
     "metadata": {},
     "output_type": "execute_result"
    }
   ],
   "source": [
    "X_train"
   ]
  },
  {
   "cell_type": "code",
   "execution_count": 22,
   "metadata": {},
   "outputs": [
    {
     "data": {
      "text/plain": [
       "array([[ 0, 81, 75,  0],\n",
       "       [ 1, 71, 91,  1]])"
      ]
     },
     "execution_count": 22,
     "metadata": {},
     "output_type": "execute_result"
    }
   ],
   "source": [
    "X_test"
   ]
  },
  {
   "cell_type": "code",
   "execution_count": 23,
   "metadata": {},
   "outputs": [
    {
     "data": {
      "text/plain": [
       "array([0, 0, 1, 1, 1, 0, 1, 0, 1, 1, 1, 1])"
      ]
     },
     "execution_count": 23,
     "metadata": {},
     "output_type": "execute_result"
    }
   ],
   "source": [
    "y_train"
   ]
  },
  {
   "cell_type": "code",
   "execution_count": 24,
   "metadata": {},
   "outputs": [
    {
     "data": {
      "text/plain": [
       "array([1, 0])"
      ]
     },
     "execution_count": 24,
     "metadata": {},
     "output_type": "execute_result"
    }
   ],
   "source": [
    "y_test"
   ]
  },
  {
   "cell_type": "code",
   "execution_count": 25,
   "metadata": {},
   "outputs": [],
   "source": [
    "train_data = [(x, y) for x, y in zip(X_train, y_train)]\n",
    "test_data = [(x, y) for x, y in zip(X_test, y_test)]"
   ]
  },
  {
   "cell_type": "markdown",
   "metadata": {},
   "source": [
    "### 1.b.2.2 Batch = 1"
   ]
  },
  {
   "cell_type": "markdown",
   "metadata": {},
   "source": [
    "Untuk perbandingan, seluruh classifier memiliki arsitektur [4, 10, 8, 1] baik di keras dan classifier sendiri. Kemudian epoch yang dipakai adalah berjumlah 100 untuk seluruh classifier. Lalu, validation data yang dipakai adalah 10% dari data latih. Terakhir, semua classifier memakai fungsi SGD (tidak ada adam). Batch pada eksperimen ini adalah satu."
   ]
  },
  {
   "cell_type": "markdown",
   "metadata": {},
   "source": [
    "#####  1.b.2.2.1 Classifier Sendiri"
   ]
  },
  {
   "cell_type": "code",
   "execution_count": 26,
   "metadata": {},
   "outputs": [],
   "source": [
    "start = time.time()"
   ]
  },
  {
   "cell_type": "code",
   "execution_count": 27,
   "metadata": {},
   "outputs": [
    {
     "name": "stdout",
     "output_type": "stream",
     "text": [
      "Train on 10 samples, validate on 2 samples\n",
      "Epoch 1/100 : 0.00011229515075683594 s - loss: 1.0 - acc: 0.0 - val_loss: 0.0 - val_acc: 1.0\n",
      "Epoch 2/100 : 0.0001266002655029297 s - loss: 1.0 - acc: 0.0 - val_loss: 0.0 - val_acc: 1.0\n",
      "Epoch 3/100 : 0.00012445449829101562 s - loss: 1.0 - acc: 0.0 - val_loss: 0.0 - val_acc: 1.0\n",
      "Epoch 4/100 : 0.00012564659118652344 s - loss: 1.0 - acc: 0.0 - val_loss: 0.0 - val_acc: 1.0\n",
      "Epoch 5/100 : 0.00012755393981933594 s - loss: 1.0 - acc: 0.0 - val_loss: 0.0 - val_acc: 1.0\n",
      "Epoch 6/100 : 0.0001251697540283203 s - loss: 1.0 - acc: 0.0 - val_loss: 0.0 - val_acc: 1.0\n",
      "Epoch 7/100 : 0.0006396770477294922 s - loss: 1.0 - acc: 0.0 - val_loss: 0.0 - val_acc: 1.0\n",
      "Epoch 8/100 : 0.00011205673217773438 s - loss: 1.0 - acc: 0.0 - val_loss: 0.0 - val_acc: 1.0\n",
      "Epoch 9/100 : 0.00012564659118652344 s - loss: 1.0 - acc: 0.0 - val_loss: 0.0 - val_acc: 1.0\n",
      "Epoch 10/100 : 0.000110626220703125 s - loss: 1.0 - acc: 0.0 - val_loss: 0.0 - val_acc: 1.0\n",
      "Epoch 11/100 : 0.000125885009765625 s - loss: 1.0 - acc: 0.0 - val_loss: 0.0 - val_acc: 1.0\n",
      "Epoch 12/100 : 0.0001239776611328125 s - loss: 1.0 - acc: 0.0 - val_loss: 0.0 - val_acc: 1.0\n",
      "Epoch 13/100 : 0.0001266002655029297 s - loss: 1.0 - acc: 0.0 - val_loss: 0.0 - val_acc: 1.0\n",
      "Epoch 14/100 : 0.0001251697540283203 s - loss: 1.0 - acc: 0.0 - val_loss: 0.0 - val_acc: 1.0\n",
      "Epoch 15/100 : 0.00012731552124023438 s - loss: 1.0 - acc: 0.0 - val_loss: 0.0 - val_acc: 1.0\n",
      "Epoch 16/100 : 0.00012493133544921875 s - loss: 1.0 - acc: 0.0 - val_loss: 0.0 - val_acc: 1.0\n",
      "Epoch 17/100 : 0.00012564659118652344 s - loss: 1.0 - acc: 0.0 - val_loss: 0.0 - val_acc: 1.0\n",
      "Epoch 18/100 : 0.0001246929168701172 s - loss: 1.0 - acc: 0.0 - val_loss: 0.0 - val_acc: 1.0\n",
      "Epoch 19/100 : 0.0002238750457763672 s - loss: 1.0 - acc: 0.0 - val_loss: 0.0 - val_acc: 1.0\n",
      "Epoch 20/100 : 0.00012922286987304688 s - loss: 1.0 - acc: 0.0 - val_loss: 0.0 - val_acc: 1.0\n",
      "Epoch 21/100 : 0.00013589859008789062 s - loss: 1.0 - acc: 0.0 - val_loss: 0.0 - val_acc: 1.0\n",
      "Epoch 22/100 : 0.00011086463928222656 s - loss: 1.0 - acc: 0.0 - val_loss: 0.0 - val_acc: 1.0\n",
      "Epoch 23/100 : 0.00015473365783691406 s - loss: 1.0 - acc: 0.0 - val_loss: 0.0 - val_acc: 1.0\n",
      "Epoch 24/100 : 0.00011181831359863281 s - loss: 1.0 - acc: 0.0 - val_loss: 0.0 - val_acc: 1.0\n",
      "Epoch 25/100 : 0.00011110305786132812 s - loss: 1.0 - acc: 0.0 - val_loss: 0.0 - val_acc: 1.0\n",
      "Epoch 26/100 : 0.000110626220703125 s - loss: 1.0 - acc: 0.0 - val_loss: 0.0 - val_acc: 1.0\n",
      "Epoch 27/100 : 0.00011134147644042969 s - loss: 1.0 - acc: 0.0 - val_loss: 0.0 - val_acc: 1.0\n",
      "Epoch 28/100 : 0.00016617774963378906 s - loss: 1.0 - acc: 0.0 - val_loss: 0.0 - val_acc: 1.0\n",
      "Epoch 29/100 : 0.00011301040649414062 s - loss: 1.0 - acc: 0.0 - val_loss: 0.0 - val_acc: 1.0\n",
      "Epoch 30/100 : 0.0001246929168701172 s - loss: 1.0 - acc: 0.0 - val_loss: 0.0 - val_acc: 1.0\n",
      "Epoch 31/100 : 0.00012636184692382812 s - loss: 1.0 - acc: 0.0 - val_loss: 0.0 - val_acc: 1.0\n",
      "Epoch 32/100 : 0.0001251697540283203 s - loss: 1.0 - acc: 0.0 - val_loss: 0.0 - val_acc: 1.0\n",
      "Epoch 33/100 : 0.0002181529998779297 s - loss: 1.0 - acc: 0.0 - val_loss: 0.0 - val_acc: 1.0\n",
      "Epoch 34/100 : 0.00011491775512695312 s - loss: 1.0 - acc: 0.0 - val_loss: 0.0 - val_acc: 1.0\n",
      "Epoch 35/100 : 0.00015211105346679688 s - loss: 1.0 - acc: 0.0 - val_loss: 0.0 - val_acc: 1.0\n",
      "Epoch 36/100 : 0.000110626220703125 s - loss: 1.0 - acc: 0.0 - val_loss: 0.0 - val_acc: 1.0\n",
      "Epoch 37/100 : 0.00012540817260742188 s - loss: 1.0 - acc: 0.0 - val_loss: 0.0 - val_acc: 1.0\n",
      "Epoch 38/100 : 0.00012564659118652344 s - loss: 1.0 - acc: 0.0 - val_loss: 0.0 - val_acc: 1.0\n",
      "Epoch 39/100 : 0.0001347064971923828 s - loss: 1.0 - acc: 0.0 - val_loss: 0.0 - val_acc: 1.0\n",
      "Epoch 40/100 : 0.0001266002655029297 s - loss: 1.0 - acc: 0.0 - val_loss: 0.0 - val_acc: 1.0\n",
      "Epoch 41/100 : 0.000125885009765625 s - loss: 1.0 - acc: 0.0 - val_loss: 0.0 - val_acc: 1.0\n",
      "Epoch 42/100 : 0.0002193450927734375 s - loss: 1.0 - acc: 0.0 - val_loss: 0.0 - val_acc: 1.0\n",
      "Epoch 43/100 : 0.00015282630920410156 s - loss: 1.0 - acc: 0.0 - val_loss: 0.0 - val_acc: 1.0\n",
      "Epoch 44/100 : 0.00011444091796875 s - loss: 1.0 - acc: 0.0 - val_loss: 0.0 - val_acc: 1.0\n",
      "Epoch 45/100 : 0.000125885009765625 s - loss: 1.0 - acc: 0.0 - val_loss: 0.0 - val_acc: 1.0\n",
      "Epoch 46/100 : 0.00012683868408203125 s - loss: 1.0 - acc: 0.0 - val_loss: 0.0 - val_acc: 1.0\n",
      "Epoch 47/100 : 0.00011134147644042969 s - loss: 1.0 - acc: 0.0 - val_loss: 0.0 - val_acc: 1.0\n",
      "Epoch 48/100 : 0.0003039836883544922 s - loss: 1.0 - acc: 0.0 - val_loss: 0.0 - val_acc: 1.0\n",
      "Epoch 49/100 : 0.00011444091796875 s - loss: 1.0 - acc: 0.0 - val_loss: 0.0 - val_acc: 1.0\n",
      "Epoch 50/100 : 0.00012803077697753906 s - loss: 1.0 - acc: 0.0 - val_loss: 0.0 - val_acc: 1.0\n",
      "Epoch 51/100 : 0.00012564659118652344 s - loss: 1.0 - acc: 0.0 - val_loss: 0.0 - val_acc: 1.0\n",
      "Epoch 52/100 : 0.0001285076141357422 s - loss: 1.0 - acc: 0.0 - val_loss: 0.0 - val_acc: 1.0\n",
      "Epoch 53/100 : 0.00012636184692382812 s - loss: 1.0 - acc: 0.0 - val_loss: 0.0 - val_acc: 1.0\n",
      "Epoch 54/100 : 0.00011157989501953125 s - loss: 1.0 - acc: 0.0 - val_loss: 0.0 - val_acc: 1.0\n",
      "Epoch 55/100 : 0.0001266002655029297 s - loss: 1.0 - acc: 0.0 - val_loss: 0.0 - val_acc: 1.0\n",
      "Epoch 56/100 : 0.00012922286987304688 s - loss: 1.0 - acc: 0.0 - val_loss: 0.0 - val_acc: 1.0\n",
      "Epoch 57/100 : 0.00013136863708496094 s - loss: 1.0 - acc: 0.0 - val_loss: 0.0 - val_acc: 1.0\n",
      "Epoch 58/100 : 0.00015687942504882812 s - loss: 1.0 - acc: 0.0 - val_loss: 0.0 - val_acc: 1.0\n",
      "Epoch 59/100 : 0.00014853477478027344 s - loss: 1.0 - acc: 0.0 - val_loss: 0.0 - val_acc: 1.0\n",
      "Epoch 60/100 : 0.00012493133544921875 s - loss: 1.0 - acc: 0.0 - val_loss: 0.0 - val_acc: 1.0\n",
      "Epoch 61/100 : 0.0001251697540283203 s - loss: 1.0 - acc: 0.0 - val_loss: 0.0 - val_acc: 1.0\n",
      "Epoch 62/100 : 0.00012493133544921875 s - loss: 1.0 - acc: 0.0 - val_loss: 0.0 - val_acc: 1.0\n",
      "Epoch 63/100 : 0.00012540817260742188 s - loss: 1.0 - acc: 0.0 - val_loss: 0.0 - val_acc: 1.0\n",
      "Epoch 64/100 : 0.00021886825561523438 s - loss: 1.0 - acc: 0.0 - val_loss: 0.0 - val_acc: 1.0\n",
      "Epoch 65/100 : 0.0002071857452392578 s - loss: 1.0 - acc: 0.0 - val_loss: 0.0 - val_acc: 1.0\n",
      "Epoch 66/100 : 0.0002167224884033203 s - loss: 1.0 - acc: 0.0 - val_loss: 0.0 - val_acc: 1.0\n",
      "Epoch 67/100 : 0.00022077560424804688 s - loss: 1.0 - acc: 0.0 - val_loss: 0.0 - val_acc: 1.0\n",
      "Epoch 68/100 : 0.000209808349609375 s - loss: 1.0 - acc: 0.0 - val_loss: 0.0 - val_acc: 1.0\n",
      "Epoch 69/100 : 0.0002570152282714844 s - loss: 1.0 - acc: 0.0 - val_loss: 0.0 - val_acc: 1.0\n",
      "Epoch 70/100 : 0.0001201629638671875 s - loss: 1.0 - acc: 0.0 - val_loss: 0.0 - val_acc: 1.0\n",
      "Epoch 71/100 : 0.00013017654418945312 s - loss: 1.0 - acc: 0.0 - val_loss: 0.0 - val_acc: 1.0\n",
      "Epoch 72/100 : 0.00012731552124023438 s - loss: 1.0 - acc: 0.0 - val_loss: 0.0 - val_acc: 1.0\n",
      "Epoch 73/100 : 0.00011181831359863281 s - loss: 1.0 - acc: 0.0 - val_loss: 0.0 - val_acc: 1.0\n",
      "Epoch 74/100 : 0.00011134147644042969 s - loss: 1.0 - acc: 0.0 - val_loss: 0.0 - val_acc: 1.0\n",
      "Epoch 75/100 : 0.00011134147644042969 s - loss: 1.0 - acc: 0.0 - val_loss: 0.0 - val_acc: 1.0\n",
      "Epoch 76/100 : 0.00011491775512695312 s - loss: 1.0 - acc: 0.0 - val_loss: 0.0 - val_acc: 1.0\n",
      "Epoch 77/100 : 0.00011205673217773438 s - loss: 1.0 - acc: 0.0 - val_loss: 0.0 - val_acc: 1.0\n",
      "Epoch 78/100 : 0.00011038780212402344 s - loss: 1.0 - acc: 0.0 - val_loss: 0.0 - val_acc: 1.0\n",
      "Epoch 79/100 : 0.00011134147644042969 s - loss: 1.0 - acc: 0.0 - val_loss: 0.0 - val_acc: 1.0\n",
      "Epoch 80/100 : 0.00011205673217773438 s - loss: 1.0 - acc: 0.0 - val_loss: 0.0 - val_acc: 1.0\n",
      "Epoch 81/100 : 0.00011801719665527344 s - loss: 1.0 - acc: 0.0 - val_loss: 0.0 - val_acc: 1.0\n",
      "Epoch 82/100 : 0.00011658668518066406 s - loss: 1.0 - acc: 0.0 - val_loss: 0.0 - val_acc: 1.0\n",
      "Epoch 83/100 : 0.00011229515075683594 s - loss: 1.0 - acc: 0.0 - val_loss: 0.0 - val_acc: 1.0\n",
      "Epoch 84/100 : 0.00015211105346679688 s - loss: 1.0 - acc: 0.0 - val_loss: 0.0 - val_acc: 1.0\n",
      "Epoch 85/100 : 0.00012731552124023438 s - loss: 1.0 - acc: 0.0 - val_loss: 0.0 - val_acc: 1.0\n",
      "Epoch 86/100 : 0.0001270771026611328 s - loss: 1.0 - acc: 0.0 - val_loss: 0.0 - val_acc: 1.0\n",
      "Epoch 87/100 : 0.00011944770812988281 s - loss: 1.0 - acc: 0.0 - val_loss: 0.0 - val_acc: 1.0\n",
      "Epoch 88/100 : 0.00011539459228515625 s - loss: 1.0 - acc: 0.0 - val_loss: 0.0 - val_acc: 1.0\n",
      "Epoch 89/100 : 0.000125885009765625 s - loss: 1.0 - acc: 0.0 - val_loss: 0.0 - val_acc: 1.0\n",
      "Epoch 90/100 : 0.00012826919555664062 s - loss: 1.0 - acc: 0.0 - val_loss: 0.0 - val_acc: 1.0\n",
      "Epoch 91/100 : 0.00012564659118652344 s - loss: 1.0 - acc: 0.0 - val_loss: 0.0 - val_acc: 1.0\n",
      "Epoch 92/100 : 0.00012922286987304688 s - loss: 1.0 - acc: 0.0 - val_loss: 0.0 - val_acc: 1.0\n",
      "Epoch 93/100 : 0.00011181831359863281 s - loss: 1.0 - acc: 0.0 - val_loss: 0.0 - val_acc: 1.0\n",
      "Epoch 94/100 : 0.00012564659118652344 s - loss: 1.0 - acc: 0.0 - val_loss: 0.0 - val_acc: 1.0\n",
      "Epoch 95/100 : 0.0001251697540283203 s - loss: 1.0 - acc: 0.0 - val_loss: 0.0 - val_acc: 1.0\n",
      "Epoch 96/100 : 0.0001266002655029297 s - loss: 1.0 - acc: 0.0 - val_loss: 0.0 - val_acc: 1.0\n",
      "Epoch 97/100 : 0.00012636184692382812 s - loss: 1.0 - acc: 0.0 - val_loss: 0.0 - val_acc: 1.0\n",
      "Epoch 98/100 : 0.00012564659118652344 s - loss: 1.0 - acc: 0.0 - val_loss: 0.0 - val_acc: 1.0\n",
      "Epoch 99/100 : 0.00012564659118652344 s - loss: 1.0 - acc: 0.0 - val_loss: 0.0 - val_acc: 1.0\n",
      "Epoch 100/100 : 0.00012493133544921875 s - loss: 1.0 - acc: 0.0 - val_loss: 0.0 - val_acc: 1.0\n"
     ]
    }
   ],
   "source": [
    "neural_network1 = Network([4, 10, 8, 1])\n",
    "neural_network1.fit(train_data, 100, 1, 0.1, validation_split=0.1)"
   ]
  },
  {
   "cell_type": "code",
   "execution_count": 28,
   "metadata": {},
   "outputs": [],
   "source": [
    "end = time.time() - start"
   ]
  },
  {
   "cell_type": "code",
   "execution_count": 29,
   "metadata": {},
   "outputs": [
    {
     "data": {
      "image/png": "[encoded data removed]",
      "text/plain": [
       "<Figure size 432x288 with 1 Axes>"
      ]
     },
     "metadata": {},
     "output_type": "display_data"
    }
   ],
   "source": [
    "plt.plot(neural_network1.history['acc'])\n",
    "plt.plot(neural_network1.history['val_acc'])\n",
    "plt.title('Model accuracy')\n",
    "plt.ylabel('Accuracy')\n",
    "plt.xlabel('Epoch')\n",
    "plt.legend(['Train', 'Test'], loc='upper left')\n",
    "plt.show()"
   ]
  },
  {
   "cell_type": "code",
   "execution_count": 30,
   "metadata": {},
   "outputs": [
    {
     "data": {
      "image/png": "[encoded data removed]",
      "text/plain": [
       "<Figure size 432x288 with 1 Axes>"
      ]
     },
     "metadata": {},
     "output_type": "display_data"
    }
   ],
   "source": [
    "plt.plot(neural_network1.history['loss'])\n",
    "plt.plot(neural_network1.history['val_loss'])\n",
    "plt.title('Model loss')\n",
    "plt.ylabel('Loss')\n",
    "plt.xlabel('Epoch')\n",
    "plt.legend(['Train', 'Test'], loc='upper left')\n",
    "plt.show()"
   ]
  },
  {
   "cell_type": "code",
   "execution_count": 31,
   "metadata": {},
   "outputs": [],
   "source": [
    "accuracy1, loss1 = neural_network1.evaluate(test_data)"
   ]
  },
  {
   "cell_type": "code",
   "execution_count": 32,
   "metadata": {},
   "outputs": [
    {
     "name": "stdout",
     "output_type": "stream",
     "text": [
      "Loss: 50.0 %\n",
      "Accuracy 50.0 %\n",
      "Time: 0.263641357421875 ms\n"
     ]
    }
   ],
   "source": [
    "print(\"Loss: {} %\".format(loss1*100.0))\n",
    "print(\"Accuracy {} %\".format(accuracy1*100.0))\n",
    "print(\"Time: {} ms\".format(end))"
   ]
  },
  {
   "cell_type": "markdown",
   "metadata": {},
   "source": [
    "##### 1.b.2.2.2 Keras Model"
   ]
  },
  {
   "cell_type": "markdown",
   "metadata": {},
   "source": [
    "Reinitialisasi model keras untuk eksperimen pertama."
   ]
  },
  {
   "cell_type": "code",
   "execution_count": 33,
   "metadata": {},
   "outputs": [],
   "source": [
    "network1 = Sequential([\n",
    "    Dense(10, activation='sigmoid', input_shape=(4,)),\n",
    "    Dense(8, activation='sigmoid'),\n",
    "    Dense(1, activation='sigmoid')\n",
    "])"
   ]
  },
  {
   "cell_type": "code",
   "execution_count": 34,
   "metadata": {},
   "outputs": [],
   "source": [
    "network1.compile(optimizer='SGD', loss='mse', metrics=['accuracy'])"
   ]
  },
  {
   "cell_type": "code",
   "execution_count": 35,
   "metadata": {},
   "outputs": [
    {
     "name": "stdout",
     "output_type": "stream",
     "text": [
      "_________________________________________________________________\n",
      "Layer (type)                 Output Shape              Param #   \n",
      "=================================================================\n",
      "dense_6 (Dense)              (None, 10)                50        \n",
      "_________________________________________________________________\n",
      "dense_7 (Dense)              (None, 8)                 88        \n",
      "_________________________________________________________________\n",
      "dense_8 (Dense)              (None, 1)                 9         \n",
      "=================================================================\n",
      "Total params: 147\n",
      "Trainable params: 147\n",
      "Non-trainable params: 0\n",
      "_________________________________________________________________\n"
     ]
    }
   ],
   "source": [
    "network1.summary()"
   ]
  },
  {
   "cell_type": "code",
   "execution_count": 36,
   "metadata": {},
   "outputs": [],
   "source": [
    "start = time.time()"
   ]
  },
  {
   "cell_type": "code",
   "execution_count": 37,
   "metadata": {},
   "outputs": [
    {
     "name": "stdout",
     "output_type": "stream",
     "text": [
      "Train on 10 samples, validate on 2 samples\n",
      "Epoch 1/100\n",
      "10/10 [==============================] - 0s 12ms/step - loss: 0.2860 - acc: 0.4000 - val_loss: 0.3737 - val_acc: 0.0000e+00\n",
      "Epoch 2/100\n",
      "10/10 [==============================] - 0s 923us/step - loss: 0.2829 - acc: 0.4000 - val_loss: 0.3652 - val_acc: 0.0000e+00\n",
      "Epoch 3/100\n",
      "10/10 [==============================] - 0s 844us/step - loss: 0.2801 - acc: 0.4000 - val_loss: 0.3569 - val_acc: 0.0000e+00\n",
      "Epoch 4/100\n",
      "10/10 [==============================] - 0s 807us/step - loss: 0.2775 - acc: 0.4000 - val_loss: 0.3490 - val_acc: 0.0000e+00\n",
      "Epoch 5/100\n",
      "10/10 [==============================] - 0s 934us/step - loss: 0.2751 - acc: 0.4000 - val_loss: 0.3414 - val_acc: 0.0000e+00\n",
      "Epoch 6/100\n",
      "10/10 [==============================] - 0s 766us/step - loss: 0.2728 - acc: 0.4000 - val_loss: 0.3339 - val_acc: 0.0000e+00\n",
      "Epoch 7/100\n",
      "10/10 [==============================] - 0s 950us/step - loss: 0.2706 - acc: 0.4000 - val_loss: 0.3268 - val_acc: 0.0000e+00\n",
      "Epoch 8/100\n",
      "10/10 [==============================] - 0s 987us/step - loss: 0.2686 - acc: 0.4000 - val_loss: 0.3200 - val_acc: 0.0000e+00\n",
      "Epoch 9/100\n",
      "10/10 [==============================] - 0s 815us/step - loss: 0.2668 - acc: 0.4000 - val_loss: 0.3134 - val_acc: 0.0000e+00\n",
      "Epoch 10/100\n",
      "10/10 [==============================] - 0s 757us/step - loss: 0.2650 - acc: 0.4000 - val_loss: 0.3072 - val_acc: 0.0000e+00\n",
      "Epoch 11/100\n",
      "10/10 [==============================] - 0s 1ms/step - loss: 0.2634 - acc: 0.4000 - val_loss: 0.3013 - val_acc: 0.0000e+00\n",
      "Epoch 12/100\n",
      "10/10 [==============================] - 0s 774us/step - loss: 0.2619 - acc: 0.4000 - val_loss: 0.2955 - val_acc: 0.0000e+00\n",
      "Epoch 13/100\n",
      "10/10 [==============================] - 0s 1ms/step - loss: 0.2605 - acc: 0.4000 - val_loss: 0.2900 - val_acc: 0.0000e+00\n",
      "Epoch 14/100\n",
      "10/10 [==============================] - 0s 885us/step - loss: 0.2592 - acc: 0.4000 - val_loss: 0.2850 - val_acc: 0.0000e+00\n",
      "Epoch 15/100\n",
      "10/10 [==============================] - 0s 988us/step - loss: 0.2580 - acc: 0.4000 - val_loss: 0.2800 - val_acc: 0.0000e+00\n",
      "Epoch 16/100\n",
      "10/10 [==============================] - 0s 723us/step - loss: 0.2568 - acc: 0.4000 - val_loss: 0.2752 - val_acc: 0.0000e+00\n",
      "Epoch 17/100\n",
      "10/10 [==============================] - 0s 1ms/step - loss: 0.2558 - acc: 0.4000 - val_loss: 0.2707 - val_acc: 0.0000e+00\n",
      "Epoch 18/100\n",
      "10/10 [==============================] - 0s 782us/step - loss: 0.2548 - acc: 0.4000 - val_loss: 0.2664 - val_acc: 0.0000e+00\n",
      "Epoch 19/100\n",
      "10/10 [==============================] - 0s 955us/step - loss: 0.2539 - acc: 0.4000 - val_loss: 0.2623 - val_acc: 0.0000e+00\n",
      "Epoch 20/100\n",
      "10/10 [==============================] - 0s 835us/step - loss: 0.2530 - acc: 0.4000 - val_loss: 0.2584 - val_acc: 0.0000e+00\n",
      "Epoch 21/100\n",
      "10/10 [==============================] - 0s 761us/step - loss: 0.2522 - acc: 0.4000 - val_loss: 0.2546 - val_acc: 0.5000\n",
      "Epoch 22/100\n",
      "10/10 [==============================] - 0s 1ms/step - loss: 0.2514 - acc: 0.4000 - val_loss: 0.2509 - val_acc: 0.5000\n",
      "Epoch 23/100\n",
      "10/10 [==============================] - 0s 743us/step - loss: 0.2507 - acc: 0.6000 - val_loss: 0.2476 - val_acc: 0.5000\n",
      "Epoch 24/100\n",
      "10/10 [==============================] - 0s 759us/step - loss: 0.2501 - acc: 0.6000 - val_loss: 0.2444 - val_acc: 1.0000\n",
      "Epoch 25/100\n",
      "10/10 [==============================] - 0s 1ms/step - loss: 0.2494 - acc: 0.6000 - val_loss: 0.2412 - val_acc: 1.0000\n",
      "Epoch 26/100\n",
      "10/10 [==============================] - 0s 794us/step - loss: 0.2489 - acc: 0.6000 - val_loss: 0.2382 - val_acc: 1.0000\n",
      "Epoch 27/100\n",
      "10/10 [==============================] - 0s 804us/step - loss: 0.2483 - acc: 0.6000 - val_loss: 0.2353 - val_acc: 1.0000\n",
      "Epoch 28/100\n",
      "10/10 [==============================] - 0s 1ms/step - loss: 0.2478 - acc: 0.6000 - val_loss: 0.2327 - val_acc: 1.0000\n",
      "Epoch 29/100\n",
      "10/10 [==============================] - 0s 771us/step - loss: 0.2473 - acc: 0.6000 - val_loss: 0.2300 - val_acc: 1.0000\n",
      "Epoch 30/100\n",
      "10/10 [==============================] - 0s 1ms/step - loss: 0.2469 - acc: 0.6000 - val_loss: 0.2275 - val_acc: 1.0000\n",
      "Epoch 31/100\n",
      "10/10 [==============================] - 0s 852us/step - loss: 0.2464 - acc: 0.6000 - val_loss: 0.2251 - val_acc: 1.0000\n",
      "Epoch 32/100\n",
      "10/10 [==============================] - 0s 955us/step - loss: 0.2460 - acc: 0.6000 - val_loss: 0.2229 - val_acc: 1.0000\n",
      "Epoch 33/100\n",
      "10/10 [==============================] - 0s 1ms/step - loss: 0.2457 - acc: 0.6000 - val_loss: 0.2207 - val_acc: 1.0000\n",
      "Epoch 34/100\n",
      "10/10 [==============================] - 0s 860us/step - loss: 0.2453 - acc: 0.6000 - val_loss: 0.2185 - val_acc: 1.0000\n",
      "Epoch 35/100\n",
      "10/10 [==============================] - 0s 816us/step - loss: 0.2450 - acc: 0.6000 - val_loss: 0.2165 - val_acc: 1.0000\n",
      "Epoch 36/100\n",
      "10/10 [==============================] - 0s 1ms/step - loss: 0.2447 - acc: 0.6000 - val_loss: 0.2145 - val_acc: 1.0000\n",
      "Epoch 37/100\n",
      "10/10 [==============================] - 0s 979us/step - loss: 0.2445 - acc: 0.6000 - val_loss: 0.2126 - val_acc: 1.0000\n",
      "Epoch 38/100\n",
      "10/10 [==============================] - 0s 1ms/step - loss: 0.2442 - acc: 0.6000 - val_loss: 0.2109 - val_acc: 1.0000\n",
      "Epoch 39/100\n",
      "10/10 [==============================] - 0s 796us/step - loss: 0.2440 - acc: 0.6000 - val_loss: 0.2091 - val_acc: 1.0000\n",
      "Epoch 40/100\n",
      "10/10 [==============================] - 0s 807us/step - loss: 0.2438 - acc: 0.6000 - val_loss: 0.2074 - val_acc: 1.0000\n",
      "Epoch 41/100\n",
      "10/10 [==============================] - 0s 747us/step - loss: 0.2436 - acc: 0.6000 - val_loss: 0.2059 - val_acc: 1.0000\n",
      "Epoch 42/100\n",
      "10/10 [==============================] - 0s 1ms/step - loss: 0.2434 - acc: 0.6000 - val_loss: 0.2044 - val_acc: 1.0000\n",
      "Epoch 43/100\n",
      "10/10 [==============================] - 0s 820us/step - loss: 0.2433 - acc: 0.6000 - val_loss: 0.2029 - val_acc: 1.0000\n",
      "Epoch 44/100\n",
      "10/10 [==============================] - 0s 812us/step - loss: 0.2431 - acc: 0.6000 - val_loss: 0.2015 - val_acc: 1.0000\n",
      "Epoch 45/100\n",
      "10/10 [==============================] - 0s 889us/step - loss: 0.2429 - acc: 0.6000 - val_loss: 0.2001 - val_acc: 1.0000\n",
      "Epoch 46/100\n",
      "10/10 [==============================] - 0s 973us/step - loss: 0.2428 - acc: 0.6000 - val_loss: 0.1988 - val_acc: 1.0000\n",
      "Epoch 47/100\n",
      "10/10 [==============================] - 0s 737us/step - loss: 0.2427 - acc: 0.6000 - val_loss: 0.1976 - val_acc: 1.0000\n",
      "Epoch 48/100\n",
      "10/10 [==============================] - 0s 778us/step - loss: 0.2426 - acc: 0.6000 - val_loss: 0.1963 - val_acc: 1.0000\n",
      "Epoch 49/100\n",
      "10/10 [==============================] - 0s 709us/step - loss: 0.2424 - acc: 0.6000 - val_loss: 0.1952 - val_acc: 1.0000\n",
      "Epoch 50/100\n",
      "10/10 [==============================] - 0s 737us/step - loss: 0.2423 - acc: 0.6000 - val_loss: 0.1941 - val_acc: 1.0000\n",
      "Epoch 51/100\n",
      "10/10 [==============================] - 0s 1ms/step - loss: 0.2423 - acc: 0.6000 - val_loss: 0.1930 - val_acc: 1.0000\n",
      "Epoch 52/100\n",
      "10/10 [==============================] - 0s 737us/step - loss: 0.2422 - acc: 0.6000 - val_loss: 0.1919 - val_acc: 1.0000\n",
      "Epoch 53/100\n",
      "10/10 [==============================] - 0s 800us/step - loss: 0.2421 - acc: 0.6000 - val_loss: 0.1909 - val_acc: 1.0000\n",
      "Epoch 54/100\n",
      "10/10 [==============================] - 0s 783us/step - loss: 0.2420 - acc: 0.6000 - val_loss: 0.1899 - val_acc: 1.0000\n",
      "Epoch 55/100\n",
      "10/10 [==============================] - 0s 893us/step - loss: 0.2419 - acc: 0.6000 - val_loss: 0.1890 - val_acc: 1.0000\n",
      "Epoch 56/100\n",
      "10/10 [==============================] - 0s 968us/step - loss: 0.2418 - acc: 0.6000 - val_loss: 0.1882 - val_acc: 1.0000\n",
      "Epoch 57/100\n",
      "10/10 [==============================] - 0s 770us/step - loss: 0.2418 - acc: 0.6000 - val_loss: 0.1873 - val_acc: 1.0000\n",
      "Epoch 58/100\n",
      "10/10 [==============================] - 0s 837us/step - loss: 0.2417 - acc: 0.6000 - val_loss: 0.1864 - val_acc: 1.0000\n",
      "Epoch 59/100\n",
      "10/10 [==============================] - 0s 948us/step - loss: 0.2417 - acc: 0.6000 - val_loss: 0.1857 - val_acc: 1.0000\n",
      "Epoch 60/100\n",
      "10/10 [==============================] - 0s 780us/step - loss: 0.2416 - acc: 0.6000 - val_loss: 0.1849 - val_acc: 1.0000\n",
      "Epoch 61/100\n"
     ]
    },
    {
     "name": "stdout",
     "output_type": "stream",
     "text": [
      "10/10 [==============================] - 0s 793us/step - loss: 0.2415 - acc: 0.6000 - val_loss: 0.1841 - val_acc: 1.0000\n",
      "Epoch 62/100\n",
      "10/10 [==============================] - 0s 829us/step - loss: 0.2415 - acc: 0.6000 - val_loss: 0.1833 - val_acc: 1.0000\n",
      "Epoch 63/100\n",
      "10/10 [==============================] - 0s 782us/step - loss: 0.2415 - acc: 0.6000 - val_loss: 0.1826 - val_acc: 1.0000\n",
      "Epoch 64/100\n",
      "10/10 [==============================] - 0s 817us/step - loss: 0.2414 - acc: 0.6000 - val_loss: 0.1820 - val_acc: 1.0000\n",
      "Epoch 65/100\n",
      "10/10 [==============================] - 0s 823us/step - loss: 0.2414 - acc: 0.6000 - val_loss: 0.1813 - val_acc: 1.0000\n",
      "Epoch 66/100\n",
      "10/10 [==============================] - 0s 780us/step - loss: 0.2413 - acc: 0.6000 - val_loss: 0.1807 - val_acc: 1.0000\n",
      "Epoch 67/100\n",
      "10/10 [==============================] - 0s 1ms/step - loss: 0.2413 - acc: 0.6000 - val_loss: 0.1801 - val_acc: 1.0000\n",
      "Epoch 68/100\n",
      "10/10 [==============================] - 0s 739us/step - loss: 0.2413 - acc: 0.6000 - val_loss: 0.1795 - val_acc: 1.0000\n",
      "Epoch 69/100\n",
      "10/10 [==============================] - 0s 1ms/step - loss: 0.2412 - acc: 0.6000 - val_loss: 0.1789 - val_acc: 1.0000\n",
      "Epoch 70/100\n",
      "10/10 [==============================] - 0s 854us/step - loss: 0.2412 - acc: 0.6000 - val_loss: 0.1784 - val_acc: 1.0000\n",
      "Epoch 71/100\n",
      "10/10 [==============================] - 0s 1ms/step - loss: 0.2412 - acc: 0.6000 - val_loss: 0.1779 - val_acc: 1.0000\n",
      "Epoch 72/100\n",
      "10/10 [==============================] - 0s 842us/step - loss: 0.2412 - acc: 0.6000 - val_loss: 0.1774 - val_acc: 1.0000\n",
      "Epoch 73/100\n",
      "10/10 [==============================] - 0s 904us/step - loss: 0.2411 - acc: 0.6000 - val_loss: 0.1769 - val_acc: 1.0000\n",
      "Epoch 74/100\n",
      "10/10 [==============================] - 0s 1ms/step - loss: 0.2411 - acc: 0.6000 - val_loss: 0.1764 - val_acc: 1.0000\n",
      "Epoch 75/100\n",
      "10/10 [==============================] - 0s 836us/step - loss: 0.2411 - acc: 0.6000 - val_loss: 0.1759 - val_acc: 1.0000\n",
      "Epoch 76/100\n",
      "10/10 [==============================] - 0s 1ms/step - loss: 0.2411 - acc: 0.6000 - val_loss: 0.1755 - val_acc: 1.0000\n",
      "Epoch 77/100\n",
      "10/10 [==============================] - 0s 874us/step - loss: 0.2410 - acc: 0.6000 - val_loss: 0.1750 - val_acc: 1.0000\n",
      "Epoch 78/100\n",
      "10/10 [==============================] - 0s 1ms/step - loss: 0.2410 - acc: 0.6000 - val_loss: 0.1746 - val_acc: 1.0000\n",
      "Epoch 79/100\n",
      "10/10 [==============================] - 0s 795us/step - loss: 0.2410 - acc: 0.6000 - val_loss: 0.1741 - val_acc: 1.0000\n",
      "Epoch 80/100\n",
      "10/10 [==============================] - 0s 904us/step - loss: 0.2410 - acc: 0.6000 - val_loss: 0.1737 - val_acc: 1.0000\n",
      "Epoch 81/100\n",
      "10/10 [==============================] - 0s 904us/step - loss: 0.2410 - acc: 0.6000 - val_loss: 0.1733 - val_acc: 1.0000\n",
      "Epoch 82/100\n",
      "10/10 [==============================] - 0s 766us/step - loss: 0.2410 - acc: 0.6000 - val_loss: 0.1728 - val_acc: 1.0000\n",
      "Epoch 83/100\n",
      "10/10 [==============================] - 0s 1ms/step - loss: 0.2409 - acc: 0.6000 - val_loss: 0.1725 - val_acc: 1.0000\n",
      "Epoch 84/100\n",
      "10/10 [==============================] - 0s 871us/step - loss: 0.2409 - acc: 0.6000 - val_loss: 0.1722 - val_acc: 1.0000\n",
      "Epoch 85/100\n",
      "10/10 [==============================] - 0s 1ms/step - loss: 0.2409 - acc: 0.6000 - val_loss: 0.1719 - val_acc: 1.0000\n",
      "Epoch 86/100\n",
      "10/10 [==============================] - 0s 895us/step - loss: 0.2409 - acc: 0.6000 - val_loss: 0.1715 - val_acc: 1.0000\n",
      "Epoch 87/100\n",
      "10/10 [==============================] - 0s 891us/step - loss: 0.2409 - acc: 0.6000 - val_loss: 0.1713 - val_acc: 1.0000\n",
      "Epoch 88/100\n",
      "10/10 [==============================] - 0s 1ms/step - loss: 0.2409 - acc: 0.6000 - val_loss: 0.1710 - val_acc: 1.0000\n",
      "Epoch 89/100\n",
      "10/10 [==============================] - 0s 912us/step - loss: 0.2409 - acc: 0.6000 - val_loss: 0.1707 - val_acc: 1.0000\n",
      "Epoch 90/100\n",
      "10/10 [==============================] - 0s 1ms/step - loss: 0.2409 - acc: 0.6000 - val_loss: 0.1704 - val_acc: 1.0000\n",
      "Epoch 91/100\n",
      "10/10 [==============================] - 0s 800us/step - loss: 0.2409 - acc: 0.6000 - val_loss: 0.1701 - val_acc: 1.0000\n",
      "Epoch 92/100\n",
      "10/10 [==============================] - 0s 820us/step - loss: 0.2409 - acc: 0.6000 - val_loss: 0.1698 - val_acc: 1.0000\n",
      "Epoch 93/100\n",
      "10/10 [==============================] - 0s 945us/step - loss: 0.2408 - acc: 0.6000 - val_loss: 0.1696 - val_acc: 1.0000\n",
      "Epoch 94/100\n",
      "10/10 [==============================] - 0s 735us/step - loss: 0.2408 - acc: 0.6000 - val_loss: 0.1693 - val_acc: 1.0000\n",
      "Epoch 95/100\n",
      "10/10 [==============================] - 0s 1ms/step - loss: 0.2408 - acc: 0.6000 - val_loss: 0.1691 - val_acc: 1.0000\n",
      "Epoch 96/100\n",
      "10/10 [==============================] - 0s 813us/step - loss: 0.2408 - acc: 0.6000 - val_loss: 0.1688 - val_acc: 1.0000\n",
      "Epoch 97/100\n",
      "10/10 [==============================] - 0s 833us/step - loss: 0.2408 - acc: 0.6000 - val_loss: 0.1685 - val_acc: 1.0000\n",
      "Epoch 98/100\n",
      "10/10 [==============================] - 0s 1ms/step - loss: 0.2408 - acc: 0.6000 - val_loss: 0.1683 - val_acc: 1.0000\n",
      "Epoch 99/100\n",
      "10/10 [==============================] - 0s 838us/step - loss: 0.2408 - acc: 0.6000 - val_loss: 0.1681 - val_acc: 1.0000\n",
      "Epoch 100/100\n",
      "10/10 [==============================] - 0s 782us/step - loss: 0.2408 - acc: 0.6000 - val_loss: 0.1679 - val_acc: 1.0000\n"
     ]
    }
   ],
   "source": [
    "history1 = network1.fit(X_train, y_train, epochs=100, batch_size=1, validation_split=0.1)"
   ]
  },
  {
   "cell_type": "code",
   "execution_count": 38,
   "metadata": {},
   "outputs": [],
   "source": [
    "end = time.time() - start"
   ]
  },
  {
   "cell_type": "code",
   "execution_count": 39,
   "metadata": {},
   "outputs": [
    {
     "data": {
      "image/png": "[encoded data removed]",
      "text/plain": [
       "<Figure size 432x288 with 1 Axes>"
      ]
     },
     "metadata": {},
     "output_type": "display_data"
    }
   ],
   "source": [
    "plt.plot(history1.history['acc'])\n",
    "plt.plot(history1.history['val_acc'])\n",
    "plt.title('Model accuracy')\n",
    "plt.ylabel('Accuracy')\n",
    "plt.xlabel('Epoch')\n",
    "plt.legend(['Train', 'Test'], loc='upper left')\n",
    "plt.show()"
   ]
  },
  {
   "cell_type": "code",
   "execution_count": 40,
   "metadata": {},
   "outputs": [
    {
     "data": {
      "image/png": "[encoded data removed]",
      "text/plain": [
       "<Figure size 432x288 with 1 Axes>"
      ]
     },
     "metadata": {},
     "output_type": "display_data"
    }
   ],
   "source": [
    "plt.plot(history1.history['loss'])\n",
    "plt.plot(history1.history['val_loss'])\n",
    "plt.title('Model loss')\n",
    "plt.ylabel('Loss')\n",
    "plt.xlabel('Epoch')\n",
    "plt.legend(['Train', 'Test'], loc='upper left')\n",
    "plt.show()"
   ]
  },
  {
   "cell_type": "code",
   "execution_count": 41,
   "metadata": {},
   "outputs": [
    {
     "name": "stdout",
     "output_type": "stream",
     "text": [
      "2/2 [==============================] - 0s 2ms/step\n"
     ]
    }
   ],
   "source": [
    "score1 = network1.evaluate(X_test, y_test, batch_size=1)"
   ]
  },
  {
   "cell_type": "code",
   "execution_count": 42,
   "metadata": {},
   "outputs": [
    {
     "name": "stdout",
     "output_type": "stream",
     "text": [
      "Loss: 25.88162273168564 %\n",
      "Accuracy 50.0 %\n",
      "Time: 1.3260552883148193 ms\n"
     ]
    }
   ],
   "source": [
    "print(\"Loss: {} %\".format(score1[0]*100.0))\n",
    "print(\"Accuracy {} %\".format(score1[1]*100.0))\n",
    "print(\"Time: {} ms\".format(end))"
   ]
  },
  {
   "cell_type": "markdown",
   "metadata": {},
   "source": [
    "### 1.b.2.3 Batch =  Jumlah Data Latih"
   ]
  },
  {
   "cell_type": "markdown",
   "metadata": {},
   "source": [
    "Untuk perbandingan, seluruh classifier memiliki arsitektur [4, 10, 8, 1] baik di keras dan classifier sendiri. Kemudian epoch yang dipakai adalah berjumlah 100 untuk seluruh classifier. Lalu, validation data yang dipakai adalah 10% dari data latih. Terakhir, semua classifier memakai fungsi SGD (tidak ada adam). Batch pada eksperimen ini adalah panjang dari X_train."
   ]
  },
  {
   "cell_type": "markdown",
   "metadata": {},
   "source": [
    "##### 1.b.2.3.1 Classifier Sendiri"
   ]
  },
  {
   "cell_type": "code",
   "execution_count": 43,
   "metadata": {},
   "outputs": [],
   "source": [
    "start = time.time()"
   ]
  },
  {
   "cell_type": "code",
   "execution_count": 44,
   "metadata": {},
   "outputs": [
    {
     "name": "stdout",
     "output_type": "stream",
     "text": [
      "Train on 10 samples, validate on 2 samples\n",
      "Epoch 1/100 : 0.0013234615325927734 s - loss: 0.4 - acc: 0.6 - val_loss: 0.0 - val_acc: 1.0\n",
      "Epoch 2/100 : 0.001287698745727539 s - loss: 0.4 - acc: 0.6 - val_loss: 0.0 - val_acc: 1.0\n",
      "Epoch 3/100 : 0.0010612010955810547 s - loss: 0.4 - acc: 0.6 - val_loss: 0.0 - val_acc: 1.0\n",
      "Epoch 4/100 : 0.0011646747589111328 s - loss: 0.4 - acc: 0.6 - val_loss: 0.0 - val_acc: 1.0\n",
      "Epoch 5/100 : 0.0010759830474853516 s - loss: 0.4 - acc: 0.6 - val_loss: 0.0 - val_acc: 1.0\n",
      "Epoch 6/100 : 0.0013306140899658203 s - loss: 0.4 - acc: 0.6 - val_loss: 0.0 - val_acc: 1.0\n",
      "Epoch 7/100 : 0.0012731552124023438 s - loss: 0.4 - acc: 0.6 - val_loss: 0.0 - val_acc: 1.0\n",
      "Epoch 8/100 : 0.0009412765502929688 s - loss: 0.4 - acc: 0.6 - val_loss: 0.0 - val_acc: 1.0\n",
      "Epoch 9/100 : 0.0011892318725585938 s - loss: 0.4 - acc: 0.6 - val_loss: 0.0 - val_acc: 1.0\n",
      "Epoch 10/100 : 0.0011174678802490234 s - loss: 0.4 - acc: 0.6 - val_loss: 0.0 - val_acc: 1.0\n",
      "Epoch 11/100 : 0.00118255615234375 s - loss: 0.4 - acc: 0.6 - val_loss: 0.0 - val_acc: 1.0\n",
      "Epoch 12/100 : 0.0009255409240722656 s - loss: 0.4 - acc: 0.6 - val_loss: 0.0 - val_acc: 1.0\n",
      "Epoch 13/100 : 0.0011820793151855469 s - loss: 0.4 - acc: 0.6 - val_loss: 0.0 - val_acc: 1.0\n",
      "Epoch 14/100 : 0.0010159015655517578 s - loss: 0.4 - acc: 0.6 - val_loss: 0.0 - val_acc: 1.0\n",
      "Epoch 15/100 : 0.0019004344940185547 s - loss: 0.4 - acc: 0.6 - val_loss: 0.0 - val_acc: 1.0\n",
      "Epoch 16/100 : 0.0009949207305908203 s - loss: 0.4 - acc: 0.6 - val_loss: 0.0 - val_acc: 1.0\n",
      "Epoch 17/100 : 0.0011413097381591797 s - loss: 0.4 - acc: 0.6 - val_loss: 0.0 - val_acc: 1.0\n",
      "Epoch 18/100 : 0.0011763572692871094 s - loss: 0.4 - acc: 0.6 - val_loss: 0.0 - val_acc: 1.0\n",
      "Epoch 19/100 : 0.001407623291015625 s - loss: 0.4 - acc: 0.6 - val_loss: 0.0 - val_acc: 1.0\n",
      "Epoch 20/100 : 0.0019092559814453125 s - loss: 0.4 - acc: 0.6 - val_loss: 0.0 - val_acc: 1.0\n",
      "Epoch 21/100 : 0.0017819404602050781 s - loss: 0.4 - acc: 0.6 - val_loss: 0.0 - val_acc: 1.0\n",
      "Epoch 22/100 : 0.0018374919891357422 s - loss: 0.4 - acc: 0.6 - val_loss: 0.0 - val_acc: 1.0\n",
      "Epoch 23/100 : 0.0018780231475830078 s - loss: 0.4 - acc: 0.6 - val_loss: 0.0 - val_acc: 1.0\n",
      "Epoch 24/100 : 0.0018436908721923828 s - loss: 0.4 - acc: 0.6 - val_loss: 0.0 - val_acc: 1.0\n",
      "Epoch 25/100 : 0.0018918514251708984 s - loss: 0.4 - acc: 0.6 - val_loss: 0.0 - val_acc: 1.0\n",
      "Epoch 26/100 : 0.0015261173248291016 s - loss: 0.4 - acc: 0.6 - val_loss: 0.0 - val_acc: 1.0\n",
      "Epoch 27/100 : 0.0011987686157226562 s - loss: 0.4 - acc: 0.6 - val_loss: 0.0 - val_acc: 1.0\n",
      "Epoch 28/100 : 0.001210927963256836 s - loss: 0.4 - acc: 0.6 - val_loss: 0.0 - val_acc: 1.0\n",
      "Epoch 29/100 : 0.0010349750518798828 s - loss: 0.4 - acc: 0.6 - val_loss: 0.0 - val_acc: 1.0\n",
      "Epoch 30/100 : 0.001027822494506836 s - loss: 0.4 - acc: 0.6 - val_loss: 0.0 - val_acc: 1.0\n",
      "Epoch 31/100 : 0.001010894775390625 s - loss: 0.4 - acc: 0.6 - val_loss: 0.0 - val_acc: 1.0\n",
      "Epoch 32/100 : 0.0014009475708007812 s - loss: 0.4 - acc: 0.6 - val_loss: 0.0 - val_acc: 1.0\n",
      "Epoch 33/100 : 0.0016891956329345703 s - loss: 0.4 - acc: 0.6 - val_loss: 0.0 - val_acc: 1.0\n",
      "Epoch 34/100 : 0.0014986991882324219 s - loss: 0.4 - acc: 0.6 - val_loss: 0.0 - val_acc: 1.0\n",
      "Epoch 35/100 : 0.0021321773529052734 s - loss: 0.4 - acc: 0.6 - val_loss: 0.0 - val_acc: 1.0\n",
      "Epoch 36/100 : 0.0017027854919433594 s - loss: 0.4 - acc: 0.6 - val_loss: 0.0 - val_acc: 1.0\n",
      "Epoch 37/100 : 0.0011668205261230469 s - loss: 0.4 - acc: 0.6 - val_loss: 0.0 - val_acc: 1.0\n",
      "Epoch 38/100 : 0.0010530948638916016 s - loss: 0.4 - acc: 0.6 - val_loss: 0.0 - val_acc: 1.0\n",
      "Epoch 39/100 : 0.0010173320770263672 s - loss: 0.4 - acc: 0.6 - val_loss: 0.0 - val_acc: 1.0\n",
      "Epoch 40/100 : 0.0010514259338378906 s - loss: 0.4 - acc: 0.6 - val_loss: 0.0 - val_acc: 1.0\n",
      "Epoch 41/100 : 0.001224517822265625 s - loss: 0.4 - acc: 0.6 - val_loss: 0.0 - val_acc: 1.0\n",
      "Epoch 42/100 : 0.0011382102966308594 s - loss: 0.4 - acc: 0.6 - val_loss: 0.0 - val_acc: 1.0\n",
      "Epoch 43/100 : 0.001031637191772461 s - loss: 0.4 - acc: 0.6 - val_loss: 0.0 - val_acc: 1.0\n",
      "Epoch 44/100 : 0.001071929931640625 s - loss: 0.4 - acc: 0.6 - val_loss: 0.0 - val_acc: 1.0\n",
      "Epoch 45/100 : 0.0011072158813476562 s - loss: 0.4 - acc: 0.6 - val_loss: 0.0 - val_acc: 1.0\n",
      "Epoch 46/100 : 0.0011310577392578125 s - loss: 0.4 - acc: 0.6 - val_loss: 0.0 - val_acc: 1.0\n",
      "Epoch 47/100 : 0.002135038375854492 s - loss: 0.4 - acc: 0.6 - val_loss: 0.0 - val_acc: 1.0\n",
      "Epoch 48/100 : 0.0015530586242675781 s - loss: 0.4 - acc: 0.6 - val_loss: 0.0 - val_acc: 1.0\n",
      "Epoch 49/100 : 0.0012440681457519531 s - loss: 0.4 - acc: 0.6 - val_loss: 0.0 - val_acc: 1.0\n",
      "Epoch 50/100 : 0.001148223876953125 s - loss: 0.4 - acc: 0.6 - val_loss: 0.0 - val_acc: 1.0\n",
      "Epoch 51/100 : 0.0010623931884765625 s - loss: 0.4 - acc: 0.6 - val_loss: 0.0 - val_acc: 1.0\n",
      "Epoch 52/100 : 0.0010902881622314453 s - loss: 0.4 - acc: 0.6 - val_loss: 0.0 - val_acc: 1.0\n",
      "Epoch 53/100 : 0.0018200874328613281 s - loss: 0.4 - acc: 0.6 - val_loss: 0.0 - val_acc: 1.0\n",
      "Epoch 54/100 : 0.0012218952178955078 s - loss: 0.4 - acc: 0.6 - val_loss: 0.0 - val_acc: 1.0\n",
      "Epoch 55/100 : 0.00136566162109375 s - loss: 0.4 - acc: 0.6 - val_loss: 0.0 - val_acc: 1.0\n",
      "Epoch 56/100 : 0.0014297962188720703 s - loss: 0.4 - acc: 0.6 - val_loss: 0.0 - val_acc: 1.0\n",
      "Epoch 57/100 : 0.0011587142944335938 s - loss: 0.4 - acc: 0.6 - val_loss: 0.0 - val_acc: 1.0\n",
      "Epoch 58/100 : 0.001085042953491211 s - loss: 0.4 - acc: 0.6 - val_loss: 0.0 - val_acc: 1.0\n",
      "Epoch 59/100 : 0.0010197162628173828 s - loss: 0.4 - acc: 0.6 - val_loss: 0.0 - val_acc: 1.0\n",
      "Epoch 60/100 : 0.0010156631469726562 s - loss: 0.4 - acc: 0.6 - val_loss: 0.0 - val_acc: 1.0\n",
      "Epoch 61/100 : 0.001613616943359375 s - loss: 0.4 - acc: 0.6 - val_loss: 0.0 - val_acc: 1.0\n",
      "Epoch 62/100 : 0.0012841224670410156 s - loss: 0.4 - acc: 0.6 - val_loss: 0.0 - val_acc: 1.0\n",
      "Epoch 63/100 : 0.0012776851654052734 s - loss: 0.4 - acc: 0.6 - val_loss: 0.0 - val_acc: 1.0\n",
      "Epoch 64/100 : 0.0009465217590332031 s - loss: 0.4 - acc: 0.6 - val_loss: 0.0 - val_acc: 1.0\n",
      "Epoch 65/100 : 0.0011012554168701172 s - loss: 0.4 - acc: 0.6 - val_loss: 0.0 - val_acc: 1.0\n",
      "Epoch 66/100 : 0.00115966796875 s - loss: 0.4 - acc: 0.6 - val_loss: 0.0 - val_acc: 1.0\n",
      "Epoch 67/100 : 0.001963376998901367 s - loss: 0.4 - acc: 0.6 - val_loss: 0.0 - val_acc: 1.0\n",
      "Epoch 68/100 : 0.0019404888153076172 s - loss: 0.4 - acc: 0.6 - val_loss: 0.0 - val_acc: 1.0\n",
      "Epoch 69/100 : 0.001790761947631836 s - loss: 0.4 - acc: 0.6 - val_loss: 0.0 - val_acc: 1.0\n",
      "Epoch 70/100 : 0.0018858909606933594 s - loss: 0.4 - acc: 0.6 - val_loss: 0.0 - val_acc: 1.0\n",
      "Epoch 71/100 : 0.0018396377563476562 s - loss: 0.4 - acc: 0.6 - val_loss: 0.0 - val_acc: 1.0\n",
      "Epoch 72/100 : 0.0018908977508544922 s - loss: 0.4 - acc: 0.6 - val_loss: 0.0 - val_acc: 1.0\n",
      "Epoch 73/100 : 0.0018420219421386719 s - loss: 0.4 - acc: 0.6 - val_loss: 0.0 - val_acc: 1.0\n",
      "Epoch 74/100 : 0.002261638641357422 s - loss: 0.4 - acc: 0.6 - val_loss: 0.0 - val_acc: 1.0\n",
      "Epoch 75/100 : 0.002023458480834961 s - loss: 0.4 - acc: 0.6 - val_loss: 0.0 - val_acc: 1.0\n",
      "Epoch 76/100 : 0.0018868446350097656 s - loss: 0.4 - acc: 0.6 - val_loss: 0.0 - val_acc: 1.0\n",
      "Epoch 77/100 : 0.0019040107727050781 s - loss: 0.4 - acc: 0.6 - val_loss: 0.0 - val_acc: 1.0\n",
      "Epoch 78/100 : 0.0019009113311767578 s - loss: 0.4 - acc: 0.6 - val_loss: 0.0 - val_acc: 1.0\n",
      "Epoch 79/100 : 0.0015833377838134766 s - loss: 0.4 - acc: 0.6 - val_loss: 0.0 - val_acc: 1.0\n",
      "Epoch 80/100 : 0.0011670589447021484 s - loss: 0.4 - acc: 0.6 - val_loss: 0.0 - val_acc: 1.0\n",
      "Epoch 81/100 : 0.0016944408416748047 s - loss: 0.4 - acc: 0.6 - val_loss: 0.0 - val_acc: 1.0\n",
      "Epoch 82/100 : 0.0012612342834472656 s - loss: 0.4 - acc: 0.6 - val_loss: 0.0 - val_acc: 1.0\n",
      "Epoch 83/100 : 0.0012209415435791016 s - loss: 0.4 - acc: 0.6 - val_loss: 0.0 - val_acc: 1.0\n",
      "Epoch 84/100 : 0.0010552406311035156 s - loss: 0.4 - acc: 0.6 - val_loss: 0.0 - val_acc: 1.0\n",
      "Epoch 85/100 : 0.0013644695281982422 s - loss: 0.4 - acc: 0.6 - val_loss: 0.0 - val_acc: 1.0\n",
      "Epoch 86/100 : 0.000942230224609375 s - loss: 0.4 - acc: 0.6 - val_loss: 0.0 - val_acc: 1.0\n",
      "Epoch 87/100 : 0.0010232925415039062 s - loss: 0.4 - acc: 0.6 - val_loss: 0.0 - val_acc: 1.0\n",
      "Epoch 88/100 : 0.0011205673217773438 s - loss: 0.4 - acc: 0.6 - val_loss: 0.0 - val_acc: 1.0\n",
      "Epoch 89/100 : 0.0010256767272949219 s - loss: 0.4 - acc: 0.6 - val_loss: 0.0 - val_acc: 1.0\n",
      "Epoch 90/100 : 0.0011148452758789062 s - loss: 0.4 - acc: 0.6 - val_loss: 0.0 - val_acc: 1.0\n",
      "Epoch 91/100 : 0.0010352134704589844 s - loss: 0.4 - acc: 0.6 - val_loss: 0.0 - val_acc: 1.0\n",
      "Epoch 92/100 : 0.0011036396026611328 s - loss: 0.4 - acc: 0.6 - val_loss: 0.0 - val_acc: 1.0\n",
      "Epoch 93/100 : 0.0010724067687988281 s - loss: 0.4 - acc: 0.6 - val_loss: 0.0 - val_acc: 1.0\n",
      "Epoch 94/100 : 0.0010080337524414062 s - loss: 0.4 - acc: 0.6 - val_loss: 0.0 - val_acc: 1.0\n",
      "Epoch 95/100 : 0.0011103153228759766 s - loss: 0.4 - acc: 0.6 - val_loss: 0.0 - val_acc: 1.0\n",
      "Epoch 96/100 : 0.0010721683502197266 s - loss: 0.4 - acc: 0.6 - val_loss: 0.0 - val_acc: 1.0\n",
      "Epoch 97/100 : 0.0012004375457763672 s - loss: 0.4 - acc: 0.6 - val_loss: 0.0 - val_acc: 1.0\n",
      "Epoch 98/100 : 0.001088857650756836 s - loss: 0.4 - acc: 0.6 - val_loss: 0.0 - val_acc: 1.0\n",
      "Epoch 99/100 : 0.0010254383087158203 s - loss: 0.4 - acc: 0.6 - val_loss: 0.0 - val_acc: 1.0\n",
      "Epoch 100/100 : 0.0011603832244873047 s - loss: 0.4 - acc: 0.6 - val_loss: 0.0 - val_acc: 1.0\n"
     ]
    }
   ],
   "source": [
    "neural_network2 = Network([4, 10, 8, 1])\n",
    "neural_network2.fit(train_data, 100, len(X_train), 0.1, validation_split=0.1)"
   ]
  },
  {
   "cell_type": "code",
   "execution_count": 45,
   "metadata": {},
   "outputs": [],
   "source": [
    "end = time.time() - start"
   ]
  },
  {
   "cell_type": "code",
   "execution_count": 46,
   "metadata": {},
   "outputs": [
    {
     "data": {
      "image/png": "[encoded data removed]",
      "text/plain": [
       "<Figure size 432x288 with 1 Axes>"
      ]
     },
     "metadata": {},
     "output_type": "display_data"
    }
   ],
   "source": [
    "plt.plot(neural_network2.history['acc'])\n",
    "plt.plot(neural_network2.history['val_acc'])\n",
    "plt.title('Model accuracy')\n",
    "plt.ylabel('Accuracy')\n",
    "plt.xlabel('Epoch')\n",
    "plt.legend(['Train', 'Test'], loc='upper left')\n",
    "plt.show()"
   ]
  },
  {
   "cell_type": "code",
   "execution_count": 47,
   "metadata": {},
   "outputs": [
    {
     "data": {
      "image/png": "[encoded data removed]",
      "text/plain": [
       "<Figure size 432x288 with 1 Axes>"
      ]
     },
     "metadata": {},
     "output_type": "display_data"
    }
   ],
   "source": [
    "plt.plot(neural_network1.history['loss'])\n",
    "plt.plot(neural_network1.history['val_loss'])\n",
    "plt.title('Model loss')\n",
    "plt.ylabel('Loss')\n",
    "plt.xlabel('Epoch')\n",
    "plt.legend(['Train', 'Test'], loc='upper left')\n",
    "plt.show()"
   ]
  },
  {
   "cell_type": "code",
   "execution_count": 48,
   "metadata": {},
   "outputs": [],
   "source": [
    "accuracy2, loss2 = neural_network2.evaluate(test_data)"
   ]
  },
  {
   "cell_type": "code",
   "execution_count": 49,
   "metadata": {},
   "outputs": [
    {
     "name": "stdout",
     "output_type": "stream",
     "text": [
      "Loss: 50.0 %\n",
      "Accuracy 50.0 %\n",
      "Time: 0.25930190086364746 ms\n"
     ]
    }
   ],
   "source": [
    "print(\"Loss: {} %\".format(loss2*100.0))\n",
    "print(\"Accuracy {} %\".format(accuracy2*100.0))\n",
    "print(\"Time: {} ms\".format(end))"
   ]
  },
  {
   "cell_type": "markdown",
   "metadata": {},
   "source": [
    "##### 1.b.2.3.2 Keras Model"
   ]
  },
  {
   "cell_type": "markdown",
   "metadata": {},
   "source": [
    "Reinitialisasi model keras untuk eksperimen kedua."
   ]
  },
  {
   "cell_type": "code",
   "execution_count": 50,
   "metadata": {},
   "outputs": [],
   "source": [
    "network2 = Sequential([\n",
    "    Dense(10, activation='sigmoid', input_shape=(4,)),\n",
    "    Dense(8, activation='sigmoid'),\n",
    "    Dense(1, activation='sigmoid')\n",
    "])"
   ]
  },
  {
   "cell_type": "code",
   "execution_count": 51,
   "metadata": {},
   "outputs": [],
   "source": [
    "network2.compile(optimizer='SGD', loss='mse', metrics=['accuracy'])"
   ]
  },
  {
   "cell_type": "code",
   "execution_count": 52,
   "metadata": {},
   "outputs": [
    {
     "name": "stdout",
     "output_type": "stream",
     "text": [
      "_________________________________________________________________\n",
      "Layer (type)                 Output Shape              Param #   \n",
      "=================================================================\n",
      "dense_9 (Dense)              (None, 10)                50        \n",
      "_________________________________________________________________\n",
      "dense_10 (Dense)             (None, 8)                 88        \n",
      "_________________________________________________________________\n",
      "dense_11 (Dense)             (None, 1)                 9         \n",
      "=================================================================\n",
      "Total params: 147\n",
      "Trainable params: 147\n",
      "Non-trainable params: 0\n",
      "_________________________________________________________________\n"
     ]
    }
   ],
   "source": [
    "network2.summary()"
   ]
  },
  {
   "cell_type": "code",
   "execution_count": 53,
   "metadata": {},
   "outputs": [],
   "source": [
    "start = time.time()"
   ]
  },
  {
   "cell_type": "code",
   "execution_count": 54,
   "metadata": {},
   "outputs": [
    {
     "name": "stdout",
     "output_type": "stream",
     "text": [
      "Train on 10 samples, validate on 2 samples\n",
      "Epoch 1/100\n",
      "10/10 [==============================] - 0s 15ms/step - loss: 0.2659 - acc: 0.4000 - val_loss: 0.3114 - val_acc: 0.0000e+00\n",
      "Epoch 2/100\n",
      "10/10 [==============================] - 0s 167us/step - loss: 0.2656 - acc: 0.4000 - val_loss: 0.3106 - val_acc: 0.0000e+00\n",
      "Epoch 3/100\n",
      "10/10 [==============================] - 0s 225us/step - loss: 0.2654 - acc: 0.4000 - val_loss: 0.3097 - val_acc: 0.0000e+00\n",
      "Epoch 4/100\n",
      "10/10 [==============================] - 0s 201us/step - loss: 0.2651 - acc: 0.4000 - val_loss: 0.3089 - val_acc: 0.0000e+00\n",
      "Epoch 5/100\n",
      "10/10 [==============================] - 0s 133us/step - loss: 0.2649 - acc: 0.4000 - val_loss: 0.3080 - val_acc: 0.0000e+00\n",
      "Epoch 6/100\n",
      "10/10 [==============================] - 0s 161us/step - loss: 0.2646 - acc: 0.4000 - val_loss: 0.3072 - val_acc: 0.0000e+00\n",
      "Epoch 7/100\n",
      "10/10 [==============================] - 0s 149us/step - loss: 0.2644 - acc: 0.4000 - val_loss: 0.3064 - val_acc: 0.0000e+00\n",
      "Epoch 8/100\n",
      "10/10 [==============================] - 0s 116us/step - loss: 0.2642 - acc: 0.4000 - val_loss: 0.3055 - val_acc: 0.0000e+00\n",
      "Epoch 9/100\n",
      "10/10 [==============================] - 0s 163us/step - loss: 0.2639 - acc: 0.4000 - val_loss: 0.3047 - val_acc: 0.0000e+00\n",
      "Epoch 10/100\n",
      "10/10 [==============================] - 0s 181us/step - loss: 0.2637 - acc: 0.4000 - val_loss: 0.3039 - val_acc: 0.0000e+00\n",
      "Epoch 11/100\n",
      "10/10 [==============================] - 0s 229us/step - loss: 0.2635 - acc: 0.4000 - val_loss: 0.3031 - val_acc: 0.0000e+00\n",
      "Epoch 12/100\n",
      "10/10 [==============================] - 0s 140us/step - loss: 0.2633 - acc: 0.4000 - val_loss: 0.3023 - val_acc: 0.0000e+00\n",
      "Epoch 13/100\n",
      "10/10 [==============================] - 0s 131us/step - loss: 0.2630 - acc: 0.4000 - val_loss: 0.3015 - val_acc: 0.0000e+00\n",
      "Epoch 14/100\n",
      "10/10 [==============================] - 0s 411us/step - loss: 0.2628 - acc: 0.4000 - val_loss: 0.3007 - val_acc: 0.0000e+00\n",
      "Epoch 15/100\n",
      "10/10 [==============================] - 0s 183us/step - loss: 0.2626 - acc: 0.4000 - val_loss: 0.2999 - val_acc: 0.0000e+00\n",
      "Epoch 16/100\n",
      "10/10 [==============================] - 0s 139us/step - loss: 0.2624 - acc: 0.4000 - val_loss: 0.2991 - val_acc: 0.0000e+00\n",
      "Epoch 17/100\n",
      "10/10 [==============================] - 0s 177us/step - loss: 0.2622 - acc: 0.4000 - val_loss: 0.2983 - val_acc: 0.0000e+00\n",
      "Epoch 18/100\n",
      "10/10 [==============================] - 0s 201us/step - loss: 0.2620 - acc: 0.4000 - val_loss: 0.2975 - val_acc: 0.0000e+00\n",
      "Epoch 19/100\n",
      "10/10 [==============================] - 0s 132us/step - loss: 0.2618 - acc: 0.4000 - val_loss: 0.2967 - val_acc: 0.0000e+00\n",
      "Epoch 20/100\n",
      "10/10 [==============================] - 0s 134us/step - loss: 0.2615 - acc: 0.4000 - val_loss: 0.2960 - val_acc: 0.0000e+00\n",
      "Epoch 21/100\n",
      "10/10 [==============================] - 0s 177us/step - loss: 0.2613 - acc: 0.4000 - val_loss: 0.2952 - val_acc: 0.0000e+00\n",
      "Epoch 22/100\n",
      "10/10 [==============================] - 0s 135us/step - loss: 0.2611 - acc: 0.4000 - val_loss: 0.2944 - val_acc: 0.0000e+00\n",
      "Epoch 23/100\n",
      "10/10 [==============================] - 0s 123us/step - loss: 0.2609 - acc: 0.4000 - val_loss: 0.2937 - val_acc: 0.0000e+00\n",
      "Epoch 24/100\n",
      "10/10 [==============================] - 0s 139us/step - loss: 0.2607 - acc: 0.4000 - val_loss: 0.2929 - val_acc: 0.0000e+00\n",
      "Epoch 25/100\n",
      "10/10 [==============================] - 0s 147us/step - loss: 0.2605 - acc: 0.4000 - val_loss: 0.2922 - val_acc: 0.0000e+00\n",
      "Epoch 26/100\n",
      "10/10 [==============================] - 0s 183us/step - loss: 0.2603 - acc: 0.4000 - val_loss: 0.2914 - val_acc: 0.0000e+00\n",
      "Epoch 27/100\n",
      "10/10 [==============================] - 0s 209us/step - loss: 0.2601 - acc: 0.4000 - val_loss: 0.2907 - val_acc: 0.0000e+00\n",
      "Epoch 28/100\n",
      "10/10 [==============================] - 0s 183us/step - loss: 0.2600 - acc: 0.4000 - val_loss: 0.2900 - val_acc: 0.0000e+00\n",
      "Epoch 29/100\n",
      "10/10 [==============================] - 0s 153us/step - loss: 0.2598 - acc: 0.4000 - val_loss: 0.2892 - val_acc: 0.0000e+00\n",
      "Epoch 30/100\n",
      "10/10 [==============================] - 0s 137us/step - loss: 0.2596 - acc: 0.4000 - val_loss: 0.2885 - val_acc: 0.0000e+00\n",
      "Epoch 31/100\n",
      "10/10 [==============================] - 0s 150us/step - loss: 0.2594 - acc: 0.4000 - val_loss: 0.2878 - val_acc: 0.0000e+00\n",
      "Epoch 32/100\n",
      "10/10 [==============================] - 0s 172us/step - loss: 0.2592 - acc: 0.4000 - val_loss: 0.2871 - val_acc: 0.0000e+00\n",
      "Epoch 33/100\n",
      "10/10 [==============================] - 0s 136us/step - loss: 0.2590 - acc: 0.4000 - val_loss: 0.2864 - val_acc: 0.0000e+00\n",
      "Epoch 34/100\n",
      "10/10 [==============================] - 0s 160us/step - loss: 0.2588 - acc: 0.4000 - val_loss: 0.2856 - val_acc: 0.0000e+00\n",
      "Epoch 35/100\n",
      "10/10 [==============================] - 0s 191us/step - loss: 0.2587 - acc: 0.4000 - val_loss: 0.2849 - val_acc: 0.0000e+00\n",
      "Epoch 36/100\n",
      "10/10 [==============================] - 0s 271us/step - loss: 0.2585 - acc: 0.4000 - val_loss: 0.2842 - val_acc: 0.0000e+00\n",
      "Epoch 37/100\n",
      "10/10 [==============================] - 0s 218us/step - loss: 0.2583 - acc: 0.4000 - val_loss: 0.2835 - val_acc: 0.0000e+00\n",
      "Epoch 38/100\n",
      "10/10 [==============================] - 0s 154us/step - loss: 0.2581 - acc: 0.4000 - val_loss: 0.2829 - val_acc: 0.0000e+00\n",
      "Epoch 39/100\n",
      "10/10 [==============================] - 0s 176us/step - loss: 0.2580 - acc: 0.4000 - val_loss: 0.2822 - val_acc: 0.0000e+00\n",
      "Epoch 40/100\n",
      "10/10 [==============================] - 0s 182us/step - loss: 0.2578 - acc: 0.4000 - val_loss: 0.2815 - val_acc: 0.0000e+00\n",
      "Epoch 41/100\n",
      "10/10 [==============================] - 0s 180us/step - loss: 0.2576 - acc: 0.4000 - val_loss: 0.2808 - val_acc: 0.0000e+00\n",
      "Epoch 42/100\n",
      "10/10 [==============================] - 0s 137us/step - loss: 0.2574 - acc: 0.4000 - val_loss: 0.2801 - val_acc: 0.0000e+00\n",
      "Epoch 43/100\n",
      "10/10 [==============================] - 0s 120us/step - loss: 0.2573 - acc: 0.4000 - val_loss: 0.2795 - val_acc: 0.0000e+00\n",
      "Epoch 44/100\n",
      "10/10 [==============================] - 0s 138us/step - loss: 0.2571 - acc: 0.4000 - val_loss: 0.2788 - val_acc: 0.0000e+00\n",
      "Epoch 45/100\n",
      "10/10 [==============================] - 0s 135us/step - loss: 0.2569 - acc: 0.4000 - val_loss: 0.2781 - val_acc: 0.0000e+00\n",
      "Epoch 46/100\n",
      "10/10 [==============================] - 0s 142us/step - loss: 0.2568 - acc: 0.4000 - val_loss: 0.2775 - val_acc: 0.0000e+00\n",
      "Epoch 47/100\n",
      "10/10 [==============================] - 0s 128us/step - loss: 0.2566 - acc: 0.4000 - val_loss: 0.2768 - val_acc: 0.0000e+00\n",
      "Epoch 48/100\n",
      "10/10 [==============================] - 0s 141us/step - loss: 0.2565 - acc: 0.4000 - val_loss: 0.2762 - val_acc: 0.0000e+00\n",
      "Epoch 49/100\n",
      "10/10 [==============================] - 0s 148us/step - loss: 0.2563 - acc: 0.4000 - val_loss: 0.2755 - val_acc: 0.0000e+00\n",
      "Epoch 50/100\n",
      "10/10 [==============================] - 0s 139us/step - loss: 0.2562 - acc: 0.4000 - val_loss: 0.2749 - val_acc: 0.0000e+00\n",
      "Epoch 51/100\n",
      "10/10 [==============================] - 0s 238us/step - loss: 0.2560 - acc: 0.4000 - val_loss: 0.2742 - val_acc: 0.0000e+00\n",
      "Epoch 52/100\n",
      "10/10 [==============================] - 0s 249us/step - loss: 0.2558 - acc: 0.4000 - val_loss: 0.2736 - val_acc: 0.0000e+00\n",
      "Epoch 53/100\n",
      "10/10 [==============================] - 0s 168us/step - loss: 0.2557 - acc: 0.4000 - val_loss: 0.2730 - val_acc: 0.0000e+00\n",
      "Epoch 54/100\n",
      "10/10 [==============================] - 0s 156us/step - loss: 0.2555 - acc: 0.4000 - val_loss: 0.2723 - val_acc: 0.0000e+00\n",
      "Epoch 55/100\n",
      "10/10 [==============================] - 0s 128us/step - loss: 0.2554 - acc: 0.4000 - val_loss: 0.2717 - val_acc: 0.0000e+00\n",
      "Epoch 56/100\n",
      "10/10 [==============================] - 0s 158us/step - loss: 0.2553 - acc: 0.4000 - val_loss: 0.2711 - val_acc: 0.0000e+00\n",
      "Epoch 57/100\n",
      "10/10 [==============================] - 0s 186us/step - loss: 0.2551 - acc: 0.4000 - val_loss: 0.2705 - val_acc: 0.0000e+00\n",
      "Epoch 58/100\n",
      "10/10 [==============================] - 0s 284us/step - loss: 0.2550 - acc: 0.4000 - val_loss: 0.2699 - val_acc: 0.0000e+00\n",
      "Epoch 59/100\n",
      "10/10 [==============================] - 0s 216us/step - loss: 0.2548 - acc: 0.4000 - val_loss: 0.2692 - val_acc: 0.0000e+00\n",
      "Epoch 60/100\n",
      "10/10 [==============================] - 0s 138us/step - loss: 0.2547 - acc: 0.4000 - val_loss: 0.2686 - val_acc: 0.0000e+00\n"
     ]
    },
    {
     "name": "stdout",
     "output_type": "stream",
     "text": [
      "Epoch 61/100\n",
      "10/10 [==============================] - 0s 128us/step - loss: 0.2545 - acc: 0.4000 - val_loss: 0.2680 - val_acc: 0.0000e+00\n",
      "Epoch 62/100\n",
      "10/10 [==============================] - 0s 161us/step - loss: 0.2544 - acc: 0.4000 - val_loss: 0.2674 - val_acc: 0.0000e+00\n",
      "Epoch 63/100\n",
      "10/10 [==============================] - 0s 134us/step - loss: 0.2543 - acc: 0.4000 - val_loss: 0.2668 - val_acc: 0.0000e+00\n",
      "Epoch 64/100\n",
      "10/10 [==============================] - 0s 115us/step - loss: 0.2541 - acc: 0.4000 - val_loss: 0.2662 - val_acc: 0.0000e+00\n",
      "Epoch 65/100\n",
      "10/10 [==============================] - 0s 136us/step - loss: 0.2540 - acc: 0.4000 - val_loss: 0.2657 - val_acc: 0.0000e+00\n",
      "Epoch 66/100\n",
      "10/10 [==============================] - 0s 163us/step - loss: 0.2539 - acc: 0.4000 - val_loss: 0.2651 - val_acc: 0.0000e+00\n",
      "Epoch 67/100\n",
      "10/10 [==============================] - 0s 130us/step - loss: 0.2537 - acc: 0.4000 - val_loss: 0.2645 - val_acc: 0.0000e+00\n",
      "Epoch 68/100\n",
      "10/10 [==============================] - 0s 142us/step - loss: 0.2536 - acc: 0.4000 - val_loss: 0.2639 - val_acc: 0.0000e+00\n",
      "Epoch 69/100\n",
      "10/10 [==============================] - 0s 130us/step - loss: 0.2535 - acc: 0.4000 - val_loss: 0.2633 - val_acc: 0.0000e+00\n",
      "Epoch 70/100\n",
      "10/10 [==============================] - 0s 118us/step - loss: 0.2533 - acc: 0.4000 - val_loss: 0.2628 - val_acc: 0.0000e+00\n",
      "Epoch 71/100\n",
      "10/10 [==============================] - 0s 117us/step - loss: 0.2532 - acc: 0.4000 - val_loss: 0.2622 - val_acc: 0.0000e+00\n",
      "Epoch 72/100\n",
      "10/10 [==============================] - 0s 112us/step - loss: 0.2531 - acc: 0.4000 - val_loss: 0.2616 - val_acc: 0.0000e+00\n",
      "Epoch 73/100\n",
      "10/10 [==============================] - 0s 107us/step - loss: 0.2530 - acc: 0.4000 - val_loss: 0.2611 - val_acc: 0.0000e+00\n",
      "Epoch 74/100\n",
      "10/10 [==============================] - 0s 100us/step - loss: 0.2528 - acc: 0.4000 - val_loss: 0.2605 - val_acc: 0.0000e+00\n",
      "Epoch 75/100\n",
      "10/10 [==============================] - 0s 122us/step - loss: 0.2527 - acc: 0.4000 - val_loss: 0.2600 - val_acc: 0.0000e+00\n",
      "Epoch 76/100\n",
      "10/10 [==============================] - 0s 110us/step - loss: 0.2526 - acc: 0.4000 - val_loss: 0.2594 - val_acc: 0.0000e+00\n",
      "Epoch 77/100\n",
      "10/10 [==============================] - 0s 114us/step - loss: 0.2525 - acc: 0.4000 - val_loss: 0.2589 - val_acc: 0.0000e+00\n",
      "Epoch 78/100\n",
      "10/10 [==============================] - 0s 102us/step - loss: 0.2524 - acc: 0.4000 - val_loss: 0.2583 - val_acc: 0.0000e+00\n",
      "Epoch 79/100\n",
      "10/10 [==============================] - 0s 115us/step - loss: 0.2522 - acc: 0.4000 - val_loss: 0.2578 - val_acc: 0.0000e+00\n",
      "Epoch 80/100\n",
      "10/10 [==============================] - 0s 120us/step - loss: 0.2521 - acc: 0.4000 - val_loss: 0.2572 - val_acc: 0.0000e+00\n",
      "Epoch 81/100\n",
      "10/10 [==============================] - 0s 255us/step - loss: 0.2520 - acc: 0.4000 - val_loss: 0.2567 - val_acc: 0.0000e+00\n",
      "Epoch 82/100\n",
      "10/10 [==============================] - 0s 230us/step - loss: 0.2519 - acc: 0.4000 - val_loss: 0.2562 - val_acc: 0.0000e+00\n",
      "Epoch 83/100\n",
      "10/10 [==============================] - 0s 163us/step - loss: 0.2518 - acc: 0.4000 - val_loss: 0.2557 - val_acc: 0.0000e+00\n",
      "Epoch 84/100\n",
      "10/10 [==============================] - 0s 130us/step - loss: 0.2517 - acc: 0.4000 - val_loss: 0.2551 - val_acc: 0.0000e+00\n",
      "Epoch 85/100\n",
      "10/10 [==============================] - 0s 150us/step - loss: 0.2516 - acc: 0.4000 - val_loss: 0.2546 - val_acc: 0.0000e+00\n",
      "Epoch 86/100\n",
      "10/10 [==============================] - 0s 141us/step - loss: 0.2514 - acc: 0.4000 - val_loss: 0.2541 - val_acc: 0.0000e+00\n",
      "Epoch 87/100\n",
      "10/10 [==============================] - 0s 139us/step - loss: 0.2513 - acc: 0.4000 - val_loss: 0.2536 - val_acc: 0.0000e+00\n",
      "Epoch 88/100\n",
      "10/10 [==============================] - 0s 163us/step - loss: 0.2512 - acc: 0.4000 - val_loss: 0.2531 - val_acc: 0.0000e+00\n",
      "Epoch 89/100\n",
      "10/10 [==============================] - 0s 210us/step - loss: 0.2511 - acc: 0.4000 - val_loss: 0.2525 - val_acc: 0.0000e+00\n",
      "Epoch 90/100\n",
      "10/10 [==============================] - 0s 208us/step - loss: 0.2510 - acc: 0.4000 - val_loss: 0.2520 - val_acc: 0.5000\n",
      "Epoch 91/100\n",
      "10/10 [==============================] - 0s 193us/step - loss: 0.2509 - acc: 0.4000 - val_loss: 0.2515 - val_acc: 0.5000\n",
      "Epoch 92/100\n",
      "10/10 [==============================] - 0s 137us/step - loss: 0.2508 - acc: 0.4000 - val_loss: 0.2510 - val_acc: 0.5000\n",
      "Epoch 93/100\n",
      "10/10 [==============================] - 0s 150us/step - loss: 0.2507 - acc: 0.4000 - val_loss: 0.2505 - val_acc: 0.5000\n",
      "Epoch 94/100\n",
      "10/10 [==============================] - 0s 126us/step - loss: 0.2506 - acc: 0.4000 - val_loss: 0.2500 - val_acc: 0.5000\n",
      "Epoch 95/100\n",
      "10/10 [==============================] - 0s 145us/step - loss: 0.2505 - acc: 0.4000 - val_loss: 0.2496 - val_acc: 0.5000\n",
      "Epoch 96/100\n",
      "10/10 [==============================] - 0s 181us/step - loss: 0.2504 - acc: 0.5000 - val_loss: 0.2491 - val_acc: 0.5000\n",
      "Epoch 97/100\n",
      "10/10 [==============================] - 0s 221us/step - loss: 0.2503 - acc: 0.5000 - val_loss: 0.2486 - val_acc: 0.5000\n",
      "Epoch 98/100\n",
      "10/10 [==============================] - 0s 197us/step - loss: 0.2502 - acc: 0.5000 - val_loss: 0.2481 - val_acc: 0.5000\n",
      "Epoch 99/100\n",
      "10/10 [==============================] - 0s 177us/step - loss: 0.2501 - acc: 0.4000 - val_loss: 0.2476 - val_acc: 1.0000\n",
      "Epoch 100/100\n",
      "10/10 [==============================] - 0s 231us/step - loss: 0.2500 - acc: 0.4000 - val_loss: 0.2471 - val_acc: 1.0000\n"
     ]
    }
   ],
   "source": [
    "history2 = network2.fit(X_train, y_train, epochs=100, batch_size=len(X_train), validation_split=0.1)"
   ]
  },
  {
   "cell_type": "code",
   "execution_count": 55,
   "metadata": {},
   "outputs": [],
   "source": [
    "end = time.time() - start"
   ]
  },
  {
   "cell_type": "code",
   "execution_count": 56,
   "metadata": {},
   "outputs": [
    {
     "data": {
      "image/png": "[encoded data removed]",
      "text/plain": [
       "<Figure size 432x288 with 1 Axes>"
      ]
     },
     "metadata": {},
     "output_type": "display_data"
    }
   ],
   "source": [
    "plt.plot(history2.history['acc'])\n",
    "plt.plot(history2.history['val_acc'])\n",
    "plt.title('Model accuracy')\n",
    "plt.ylabel('Accuracy')\n",
    "plt.xlabel('Epoch')\n",
    "plt.legend(['Train', 'Test'], loc='upper left')\n",
    "plt.show()"
   ]
  },
  {
   "cell_type": "code",
   "execution_count": 57,
   "metadata": {},
   "outputs": [
    {
     "data": {
      "image/png": "[encoded data removed]",
      "text/plain": [
       "<Figure size 432x288 with 1 Axes>"
      ]
     },
     "metadata": {},
     "output_type": "display_data"
    }
   ],
   "source": [
    "plt.plot(history2.history['loss'])\n",
    "plt.plot(history2.history['val_loss'])\n",
    "plt.title('Model loss')\n",
    "plt.ylabel('Loss')\n",
    "plt.xlabel('Epoch')\n",
    "plt.legend(['Train', 'Test'], loc='upper left')\n",
    "plt.show()"
   ]
  },
  {
   "cell_type": "code",
   "execution_count": 58,
   "metadata": {},
   "outputs": [
    {
     "name": "stdout",
     "output_type": "stream",
     "text": [
      "\r",
      "2/2 [==============================] - 0s 244us/step\n"
     ]
    }
   ],
   "source": [
    "score2 = network2.evaluate(X_test, y_test, batch_size=len(X_train))"
   ]
  },
  {
   "cell_type": "code",
   "execution_count": 59,
   "metadata": {},
   "outputs": [
    {
     "name": "stdout",
     "output_type": "stream",
     "text": [
      "Loss: 24.76743757724762 %\n",
      "Accuracy 50.0 %\n",
      "Time: 0.5902550220489502 ms\n"
     ]
    }
   ],
   "source": [
    "print(\"Loss: {} %\".format(score2[0]*100.0))\n",
    "print(\"Accuracy {} %\".format(score2[1]*100.0))\n",
    "print(\"Time: {} ms\".format(end))"
   ]
  },
  {
   "cell_type": "markdown",
   "metadata": {},
   "source": [
    "### 1.b.2.4 Analisis Eksperimen"
   ]
  },
  {
   "cell_type": "markdown",
   "metadata": {},
   "source": [
    "Berdasarkan hasil eksperimen dengan classifier sendiri dan model keras, dapat disimpulkan dengan tabel berikut ini."
   ]
  },
  {
   "cell_type": "code",
   "execution_count": 60,
   "metadata": {
    "scrolled": true
   },
   "outputs": [
    {
     "data": {
      "text/html": [
       "<div>\n",
       "<style scoped>\n",
       "    .dataframe tbody tr th:only-of-type {\n",
       "        vertical-align: middle;\n",
       "    }\n",
       "\n",
       "    .dataframe tbody tr th {\n",
       "        vertical-align: top;\n",
       "    }\n",
       "\n",
       "    .dataframe thead th {\n",
       "        text-align: right;\n",
       "    }\n",
       "</style>\n",
       "<table border=\"1\" class=\"dataframe\">\n",
       "  <thead>\n",
       "    <tr style=\"text-align: right;\">\n",
       "      <th></th>\n",
       "      <th>Classifier</th>\n",
       "      <th>Batch</th>\n",
       "      <th>Loss</th>\n",
       "      <th>Accuracy</th>\n",
       "    </tr>\n",
       "  </thead>\n",
       "  <tbody>\n",
       "    <tr>\n",
       "      <th>1</th>\n",
       "      <td>Classifier Sendiri</td>\n",
       "      <td>1</td>\n",
       "      <td>0.500000</td>\n",
       "      <td>0.5</td>\n",
       "    </tr>\n",
       "    <tr>\n",
       "      <th>2</th>\n",
       "      <td>Keras Model</td>\n",
       "      <td>1</td>\n",
       "      <td>0.258816</td>\n",
       "      <td>0.5</td>\n",
       "    </tr>\n",
       "    <tr>\n",
       "      <th>3</th>\n",
       "      <td>Classifier Sendiri</td>\n",
       "      <td>12</td>\n",
       "      <td>0.500000</td>\n",
       "      <td>0.5</td>\n",
       "    </tr>\n",
       "    <tr>\n",
       "      <th>4</th>\n",
       "      <td>Keras Model</td>\n",
       "      <td>12</td>\n",
       "      <td>0.247674</td>\n",
       "      <td>0.5</td>\n",
       "    </tr>\n",
       "  </tbody>\n",
       "</table>\n",
       "</div>"
      ],
      "text/plain": [
       "           Classifier  Batch      Loss  Accuracy\n",
       "1  Classifier Sendiri      1  0.500000       0.5\n",
       "2         Keras Model      1  0.258816       0.5\n",
       "3  Classifier Sendiri     12  0.500000       0.5\n",
       "4         Keras Model     12  0.247674       0.5"
      ]
     },
     "execution_count": 60,
     "metadata": {},
     "output_type": "execute_result"
    }
   ],
   "source": [
    "analysis_df = pd.DataFrame({'Classifier' : ['Classifier Sendiri', 'Keras Model', 'Classifier Sendiri', 'Keras Model'],\n",
    "              'Batch' : [1, 1, len(X_train), len(X_train)],\n",
    "              'Loss' :[loss1, score1[0], loss2, score2[0]],\n",
    "              'Accuracy' :[accuracy1, score1[1], accuracy2, score2[1]]})\n",
    "analysis_df.index += 1\n",
    "analysis_df"
   ]
  },
  {
   "cell_type": "markdown",
   "metadata": {},
   "source": [
    "Akurasi yang dihasilkan dari kedua classifier adalah sama. Namun, jika melihat dari perbandingan loss, terlihat bahwa classifier 4 memiliki loss terdikit dibandingkan yang lain. Lalu dari semua grafik loss dan accuracy, classifier 4 hanya memerlukan 90 epoch dan classifier 2 hanya memerlukan 20 epoch untuk fitting data. Sedangkan untuk seluruh classifier sendiri belum konvergen. Jika dibandingkan secara keseluruhan proses pembelajaran dari grafik loss dan accuracy, proses pembelajaran berjalan lebih baik di keras dikarenakan lebih teroptimasi daripada algoritma kami, sehingga memiliki performa yang lebih baik walaupun tidak memakai adam. \n",
    "\n",
    "Sehingga dapat disimpulkan bahwa classifier terbaik dalam eksperimen ini adalah yang memiliki loss terdikit yaitu classifier 4. Hal lain yang dapat disimpulkan adalah model keras masih lebih baik dari algoritma kami dalam proses pembelajaran."
   ]
  },
  {
   "cell_type": "markdown",
   "metadata": {},
   "source": [
    "### Pembagian Kerja"
   ]
  },
  {
   "cell_type": "markdown",
   "metadata": {},
   "source": [
    "Muhammad Rizki Duwinanto - 13515006 : Algoritma, Keras, Laporan <br/>\n",
    "Kevin Erdiza Yogatama - 13515016 : Algoritma, Keras, Laporan <br/>\n",
    "Edwin Rachman - 13515042 : Algoritma, Keras, Laporan"
   ]
  }
 ],
 "metadata": {
  "kernelspec": {
   "display_name": "Python 3",
   "language": "python",
   "name": "python3"
  },
  "language_info": {
   "codemirror_mode": {
    "name": "ipython",
    "version": 3
   },
   "file_extension": ".py",
   "mimetype": "text/x-python",
   "name": "python",
   "nbconvert_exporter": "python",
   "pygments_lexer": "ipython3",
   "version": "3.6.6"
  }
 },
 "nbformat": 4,
 "nbformat_minor": 2
}
