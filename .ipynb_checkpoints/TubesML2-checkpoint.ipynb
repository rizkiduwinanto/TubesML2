{
 "cells": [
  {
   "cell_type": "markdown",
   "metadata": {},
   "source": [
    "# Tugas Besar Pembelajaran Mesin 2"
   ]
  },
  {
   "cell_type": "markdown",
   "metadata": {},
   "source": [
    "#### Pustaka Terkait"
   ]
  },
  {
   "cell_type": "code",
   "execution_count": 1,
   "metadata": {},
   "outputs": [],
   "source": [
    "import pandas as pd\n",
    "import numpy as np\n",
    "from sklearn.preprocessing import LabelEncoder\n",
    "from sklearn.model_selection import train_test_split\n",
    "from sklearn import datasets, metrics\n",
    "import time\n",
    "import random\n",
    "import matplotlib.pyplot as plt\n",
    "import math"
   ]
  },
  {
   "cell_type": "code",
   "execution_count": 2,
   "metadata": {},
   "outputs": [],
   "source": [
    "iris = datasets.load_iris()\n",
    "X_train, X_test, y_train, y_test = train_test_split(iris.data, iris.target, test_size=0.1)"
   ]
  },
  {
   "cell_type": "code",
   "execution_count": 3,
   "metadata": {},
   "outputs": [],
   "source": [
    "train_data = [(x, y) for x, y in zip(X_train, y_train)]\n",
    "test_data = [(x, y) for x, y in zip(X_test, y_test)]"
   ]
  },
  {
   "cell_type": "markdown",
   "metadata": {},
   "source": [
    "## 1.a. Create a Classifier "
   ]
  },
  {
   "cell_type": "markdown",
   "metadata": {},
   "source": [
    "#### Deskripsi Algoritma"
   ]
  },
  {
   "cell_type": "markdown",
   "metadata": {},
   "source": [
    "Inisialisasi model neural network ini menggunakan langkah-langkah sebagai berikut:\n",
    "1. Jumlah node setiap layer (parameter sizes) dispesifikasikan.\n",
    "2. Bias dan weight untuk setiap layer setelah layer pertama dihitung secara acak.\n",
    "\n",
    "Proses fitting model sebelumnya menggunakan algoritma sebagai berikut:\n",
    "1. Dalam fungsi fit dibutuhkan parameter jumlah data training (training_data), jumlah epoch (epochs), ukuran mini-batch (mini_batch_size), dan learning rate (learning_rate). Momentum (parameter momentum) jika diinginkan juga dapat dispesifikasikan. Data validasi (parameter validation_data) dapat dispesifikasikan secara langsung atau didapatkan dari training data jika parameter validation_split dispesifikasikan.\n",
    "2. Training data dibagi-bagi menjadi mini-batch berdasarkan ukuran mini-batch.\n",
    "3. Weight dan bias baru dihitung per mini-batch menggunakan fungsi update_mini_batch yang mengimplementasikan stochastic gradient. Dalam implementasi stochastic gradient digunakan fungsi backpropagation.\n",
    "4. Lakukan langkah 3 untuk setiap mini-batch\n",
    "5. Hitung akurasi dan loss training menggunakan fungsi evaluate dengan input mini-batch pertama. Fungsi evaluate menghasilkan nilai akurasi dan loss berdasarkan hasil feed-forward sigmoid (fungsi feed_forward). Hasil feed-forward setiap data jika lebih dari 0.5 akan menghasilkan 1, jika tidak menghasilkan 0. Akurasi dihitung dari rasio jumlah data setelah feed-forward yang sama dengan labelnya dengan jumlah seluruh data. Loss dihitung dari selisih kuadrat antara label dengan hasil data setelah feed-forward setiap data dibagi dengan jumlah semua data.\n",
    "6. Hitung akurasi dan loss validasi menggunakan fungsi evaluate dengan input validation_data.\n",
    "7. Lakukan langkah 2-6 untuk setiap epoch\n",
    "\n",
    "Untuk melakukan prediksi dapat digunakan fungsi predict dengan input test_data. Dalam fungsi ini setiap test_data akan dilakukan feed-forward seperti pada fungsi evaluate."
   ]
  },
  {
   "cell_type": "markdown",
   "metadata": {},
   "source": [
    "#### Source Code Program"
   ]
  },
  {
   "cell_type": "code",
   "execution_count": 4,
   "metadata": {},
   "outputs": [],
   "source": [
    "class Network(object):\n",
    "    def __init__(self, sizes):\n",
    "        self.sizes = sizes\n",
    "        self.num_layers = len(sizes)\n",
    "        self.biases = [np.random.rand(y, 1) for y in sizes[1:]]\n",
    "        self.weights = [np.random.rand(y, x) for x,y in zip(sizes[:-1], sizes[1:])]\n",
    "        self.history = d = {'acc': [], 'val_acc': [], 'loss': [], 'val_loss': []}\n",
    "    \n",
    "    def feed_forward(self, activation):\n",
    "        for bias, weight in zip(self.biases, self.weights):\n",
    "            activation = sigmoid(np.dot(weight, activation) + bias.transpose()[0])\n",
    "        return activation\n",
    "    \n",
    "    def fit(self, training_data, epochs, mini_batch_size, learning_rate,\n",
    "            momentum=0, validation_data=None, validation_split=0.0, verbose=1):\n",
    "        if validation_split != 0.0 and not validation_data :\n",
    "            training_data, validation_data = train_test_split(training_data, test_size=validation_split, random_state=42)\n",
    "        n_training = len(training_data)\n",
    "        if validation_data or validation_split != 0.0: \n",
    "            n_validation = len(validation_data)\n",
    "            if verbose != 0:\n",
    "                print(\"Train on {} samples, validate on {} samples\".format(n_training, n_validation))\n",
    "        for epoch in range(epochs):\n",
    "            mini_batches = [training_data[k:k + mini_batch_size] for k in range(0, n_training, mini_batch_size)]\n",
    "            previous_weights = self.weights\n",
    "            previous_biases =self.biases\n",
    "            first = True\n",
    "            for mini_batch in mini_batches:\n",
    "                if first: previous_weights, previous_biases = self.weights, self.biases\n",
    "                start = time.time()\n",
    "                previous_weights, previous_biases = self.update_mini_batch(mini_batch, \n",
    "                                                                           learning_rate,\n",
    "                                                                           momentum, \n",
    "                                                                           previous_weights, \n",
    "                                                                           previous_biases)\n",
    "                end = time.time() - start\n",
    "            if validation_data or validation_split != 0:\n",
    "                training_accuracy, training_loss = self.evaluate(mini_batches[0])\n",
    "                validation_accuracy, validation_loss = self.evaluate(validation_data)\n",
    "                self.history['acc'].append(training_accuracy)\n",
    "                self.history['val_acc'].append(validation_accuracy)\n",
    "                self.history['loss'].append(training_loss)\n",
    "                self.history['val_loss'].append(validation_loss)\n",
    "                if verbose == 1 :\n",
    "                    print(\"Epoch {}/{} : {} s - loss: {} - acc: {} - val_loss: {} - val_acc: {}\".format(epoch + 1, \n",
    "                                                                                                        epochs,\n",
    "                                                                                                        end,\n",
    "                                                                                                        training_loss,\n",
    "                                                                                                        training_accuracy,\n",
    "                                                                                                        validation_loss,\n",
    "                                                                                                        validation_accuracy))\n",
    "                elif verbose == 2 :\n",
    "                    print(\"Epoch {} complete.\".format(epoch + 1))\n",
    "            else :\n",
    "                if verbose != 0:\n",
    "                    print(\"Epoch {} complete.\".format(epoch + 1))\n",
    "        \n",
    "    def update_mini_batch(self, mini_batch, learning_rate, momentum, previous_weights, previous_biases):\n",
    "        nabla_biases = [np.zeros(bias.shape) for bias in self.biases]\n",
    "        nabla_weights = [np.zeros(weight.shape) for weight in self.weights]\n",
    "        for x, y in mini_batch:\n",
    "            delta_nabla_bias, delta_nabla_weights = self.backpropagation(x, y)\n",
    "            nabla_biases = [nb + dnb for nb, dnb in zip(nabla_biases, delta_nabla_bias)]\n",
    "            nabla_weights = [nw + dnw for nw, dnw in zip(nabla_weights, delta_nabla_weights)]\n",
    "        temp_weights = self.weights\n",
    "        temp_biases = self.biases\n",
    "        self.weights = [w + momentum * pw + (learning_rate/len(mini_batch)) * nw \n",
    "                        for w, nw, pw in zip(self.weights, nabla_weights, previous_weights)]\n",
    "        self.biases = [b + momentum * pb + (learning_rate/len(mini_batch)) * nb \n",
    "                       for b, nb, pb in zip(self.biases, nabla_biases, previous_biases)]\n",
    "        return (temp_weights, temp_biases)\n",
    "        \n",
    "    def backpropagation(self, x, y):\n",
    "        nabla_bias = [np.zeros(bias.shape) for bias in self.biases]\n",
    "        nabla_weights = [np.zeros(weight.shape) for weight in self.weights]\n",
    "        \n",
    "        activation = x\n",
    "        activations = [x]\n",
    "        z_vectors = []\n",
    "        \n",
    "        for bias, weight in zip(self.biases, self.weights):\n",
    "            z = np.dot(weight, activation) + bias.transpose()[0]\n",
    "            z_vectors.append(z)\n",
    "            activation = sigmoid(z)\n",
    "            activations.append(activation)\n",
    "        \n",
    "        delta = self.cost_derivative(activations[-1], y) * sigmoid_prime(z_vectors[-1])\n",
    "        nabla_bias[-1] = delta\n",
    "        delta_newaxis = delta[:, np.newaxis]\n",
    "        m = len(activations[-2])\n",
    "        activations_newaxis = activations[-2][:, np.newaxis].reshape(1, m)\n",
    "        nabla_weights[-1] = np.dot(delta_newaxis, activations_newaxis)\n",
    "        \n",
    "        for layer in range(2, self.num_layers):\n",
    "            z = z_vectors[-layer]\n",
    "            sp = sigmoid_prime(z)\n",
    "            delta = np.dot(self.weights[-layer+1].transpose(), delta) * sp\n",
    "            nabla_bias[-layer] = delta\n",
    "            delta_newaxis = delta[:, np.newaxis]\n",
    "            m = len(activations[-layer-1].transpose())\n",
    "            activations_newaxis = activations[-layer-1].transpose()[:, np.newaxis].reshape(1, m)\n",
    "            nabla_weights[-layer] = np.dot(delta_newaxis, activations_newaxis)\n",
    "        \n",
    "        return (nabla_bias, nabla_weights)\n",
    "    \n",
    "    def evaluate(self, test_data):\n",
    "        test_results = [(1 if self.feed_forward(x) * 2 >= 1 else 0, y) for x, y in test_data]\n",
    "        accuracy = sum(int(x == y) for x, y in test_results)/len(test_results)\n",
    "        loss = sum(math.pow((y - x), 2) for x, y in test_results)/len(test_results)\n",
    "        return accuracy, loss\n",
    "    \n",
    "    def predict(self, test_data):\n",
    "        test_results = [1 if self.feed_forward(x) * 2 >= 1 else 0 for x, y in test_data]\n",
    "        return (test_results)\n",
    "    \n",
    "    def cost_derivative(self, output_activations, y):\n",
    "        return np.squeeze(y - output_activations)\n",
    "\n",
    "def sigmoid(z):\n",
    "    return 1.0/(1.0+np.exp(-z))\n",
    "\n",
    "def sigmoid_prime(z):\n",
    "    return sigmoid(z)*(1-sigmoid(z))"
   ]
  },
  {
   "cell_type": "markdown",
   "metadata": {},
   "source": [
    "#### Cara Pengunaan"
   ]
  },
  {
   "cell_type": "code",
   "execution_count": 5,
   "metadata": {},
   "outputs": [],
   "source": [
    "neural_network = Network([4, 5, 10, 1])\n",
    "neural_network.fit(train_data, 50, 5, 0.1, momentum=0.0001, validation_split=0.25, verbose=0)"
   ]
  },
  {
   "cell_type": "markdown",
   "metadata": {},
   "source": [
    "Berikut adalah contoh penggunaan algoritma pada data latih iris. Namun, hasil tidak ditampilkan karena iris memiliki 3 label sedangkan classifier yang kami buat hanya biner. Untuk hasil classifier dapat dilihat pada bagian 1.b.2."
   ]
  },
  {
   "cell_type": "markdown",
   "metadata": {},
   "source": [
    "## 1.b.1 Explorasi Keras "
   ]
  },
  {
   "cell_type": "markdown",
   "metadata": {},
   "source": [
    "#### Deskripsi Algoritma"
   ]
  },
  {
   "cell_type": "markdown",
   "metadata": {},
   "source": [
    "Pembelajaran akan menggunakan kakas keras dengan model <i>sequential</i> dan lapisan <i>dense</i> .Model akan memakai input layer sebanyak 1 neuron dengan bentuk input 4 sesuai jumlah attribute data latih, kemudian dengan 3 hidden layer masing-masing 2 neuron kemudian 3 neuron, dan 4 neuron dan 1 output layer dengan 1 neuron. Optimizer yang dipakai adalah SGD, dengan perhitungan loss dengan Mean Squared Error, dan Metrics Accuracy. "
   ]
  },
  {
   "cell_type": "markdown",
   "metadata": {},
   "source": [
    "#### Source Code Program"
   ]
  },
  {
   "cell_type": "code",
   "execution_count": 6,
   "metadata": {},
   "outputs": [
    {
     "name": "stderr",
     "output_type": "stream",
     "text": [
      "Using TensorFlow backend.\n"
     ]
    }
   ],
   "source": [
    "from keras.models import Sequential\n",
    "from keras.layers import Dense, Activation"
   ]
  },
  {
   "cell_type": "code",
   "execution_count": 7,
   "metadata": {},
   "outputs": [],
   "source": [
    "network = Sequential()\n",
    "network.add(Dense(1, activation='sigmoid', input_shape=(4,)))\n",
    "network.add(Dense(2, activation='sigmoid'))\n",
    "network.add(Dense(3, activation='sigmoid'))\n",
    "network.add(Dense(1, activation='sigmoid'))"
   ]
  },
  {
   "cell_type": "code",
   "execution_count": 8,
   "metadata": {},
   "outputs": [],
   "source": [
    "network.compile(optimizer='SGD', loss='mse', metrics=['accuracy'])"
   ]
  },
  {
   "cell_type": "code",
   "execution_count": 9,
   "metadata": {
    "scrolled": true
   },
   "outputs": [
    {
     "name": "stdout",
     "output_type": "stream",
     "text": [
      "_________________________________________________________________\n",
      "Layer (type)                 Output Shape              Param #   \n",
      "=================================================================\n",
      "dense_1 (Dense)              (None, 1)                 5         \n",
      "_________________________________________________________________\n",
      "dense_2 (Dense)              (None, 2)                 4         \n",
      "_________________________________________________________________\n",
      "dense_3 (Dense)              (None, 3)                 9         \n",
      "_________________________________________________________________\n",
      "dense_4 (Dense)              (None, 1)                 4         \n",
      "=================================================================\n",
      "Total params: 22\n",
      "Trainable params: 22\n",
      "Non-trainable params: 0\n",
      "_________________________________________________________________\n"
     ]
    }
   ],
   "source": [
    "network.summary()"
   ]
  },
  {
   "cell_type": "markdown",
   "metadata": {},
   "source": [
    "<b>Percobaan pada iris</b>"
   ]
  },
  {
   "cell_type": "code",
   "execution_count": 11,
   "metadata": {},
   "outputs": [],
   "source": [
    "history = network.fit(X_train, y_train, epochs=200, verbose=0, batch_size=1, validation_split=0.1)"
   ]
  },
  {
   "cell_type": "code",
   "execution_count": 12,
   "metadata": {},
   "outputs": [
    {
     "name": "stdout",
     "output_type": "stream",
     "text": [
      "15/15 [==============================] - 0s 414us/step\n"
     ]
    }
   ],
   "source": [
    "score = network.evaluate(X_test, y_test, batch_size=1)"
   ]
  },
  {
   "cell_type": "code",
   "execution_count": 13,
   "metadata": {},
   "outputs": [
    {
     "name": "stdout",
     "output_type": "stream",
     "text": [
      "Loss: 74.20312744972762 %\n",
      "Accuracy 26.666666666666668 %\n"
     ]
    }
   ],
   "source": [
    "print(\"Loss: {} %\".format(score[0]*100.0))\n",
    "print(\"Accuracy {} %\".format(score[1]*100.0))"
   ]
  },
  {
   "cell_type": "code",
   "execution_count": 14,
   "metadata": {},
   "outputs": [
    {
     "data": {
      "image/png": "[encoded data removed]",
      "text/plain": [
       "<Figure size 432x288 with 1 Axes>"
      ]
     },
     "metadata": {},
     "output_type": "display_data"
    }
   ],
   "source": [
    "plt.plot(history.history['acc'])\n",
    "plt.plot(history.history['val_acc'])\n",
    "plt.title('Model accuracy')\n",
    "plt.ylabel('Accuracy')\n",
    "plt.xlabel('Epoch')\n",
    "plt.legend(['Train', 'Test'], loc='upper left')\n",
    "plt.show()"
   ]
  },
  {
   "cell_type": "code",
   "execution_count": 15,
   "metadata": {},
   "outputs": [
    {
     "data": {
      "image/png": "[encoded data removed]",
      "text/plain": [
       "<Figure size 432x288 with 1 Axes>"
      ]
     },
     "metadata": {},
     "output_type": "display_data"
    }
   ],
   "source": [
    "plt.plot(history.history['loss'])\n",
    "plt.plot(history.history['val_loss'])\n",
    "plt.title('Model loss')\n",
    "plt.ylabel('Loss')\n",
    "plt.xlabel('Epoch')\n",
    "plt.legend(['Train', 'Test'], loc='upper left')\n",
    "plt.show()"
   ]
  },
  {
   "cell_type": "markdown",
   "metadata": {},
   "source": [
    "## 1.b.2 Eksperimen Data Categorization Framework"
   ]
  },
  {
   "cell_type": "markdown",
   "metadata": {},
   "source": [
    "### 1.b.2.1 Persiapan Data"
   ]
  },
  {
   "cell_type": "markdown",
   "metadata": {},
   "source": [
    "Hal pertama yang kami lakukan adalah menggunakan data latih Weather Categorization dari WEKA. "
   ]
  },
  {
   "cell_type": "code",
   "execution_count": 16,
   "metadata": {},
   "outputs": [
    {
     "data": {
      "text/html": [
       "<div>\n",
       "<style scoped>\n",
       "    .dataframe tbody tr th:only-of-type {\n",
       "        vertical-align: middle;\n",
       "    }\n",
       "\n",
       "    .dataframe tbody tr th {\n",
       "        vertical-align: top;\n",
       "    }\n",
       "\n",
       "    .dataframe thead th {\n",
       "        text-align: right;\n",
       "    }\n",
       "</style>\n",
       "<table border=\"1\" class=\"dataframe\">\n",
       "  <thead>\n",
       "    <tr style=\"text-align: right;\">\n",
       "      <th></th>\n",
       "      <th>outlook</th>\n",
       "      <th>temperature</th>\n",
       "      <th>humidity</th>\n",
       "      <th>windy</th>\n",
       "      <th>play</th>\n",
       "    </tr>\n",
       "  </thead>\n",
       "  <tbody>\n",
       "    <tr>\n",
       "      <th>0</th>\n",
       "      <td>sunny</td>\n",
       "      <td>85</td>\n",
       "      <td>85</td>\n",
       "      <td>False</td>\n",
       "      <td>no</td>\n",
       "    </tr>\n",
       "    <tr>\n",
       "      <th>1</th>\n",
       "      <td>sunny</td>\n",
       "      <td>80</td>\n",
       "      <td>90</td>\n",
       "      <td>True</td>\n",
       "      <td>no</td>\n",
       "    </tr>\n",
       "    <tr>\n",
       "      <th>2</th>\n",
       "      <td>overcast</td>\n",
       "      <td>83</td>\n",
       "      <td>86</td>\n",
       "      <td>False</td>\n",
       "      <td>yes</td>\n",
       "    </tr>\n",
       "    <tr>\n",
       "      <th>3</th>\n",
       "      <td>rainy</td>\n",
       "      <td>70</td>\n",
       "      <td>96</td>\n",
       "      <td>False</td>\n",
       "      <td>yes</td>\n",
       "    </tr>\n",
       "    <tr>\n",
       "      <th>4</th>\n",
       "      <td>rainy</td>\n",
       "      <td>68</td>\n",
       "      <td>80</td>\n",
       "      <td>False</td>\n",
       "      <td>yes</td>\n",
       "    </tr>\n",
       "    <tr>\n",
       "      <th>5</th>\n",
       "      <td>rainy</td>\n",
       "      <td>65</td>\n",
       "      <td>70</td>\n",
       "      <td>True</td>\n",
       "      <td>no</td>\n",
       "    </tr>\n",
       "    <tr>\n",
       "      <th>6</th>\n",
       "      <td>overcast</td>\n",
       "      <td>64</td>\n",
       "      <td>65</td>\n",
       "      <td>True</td>\n",
       "      <td>yes</td>\n",
       "    </tr>\n",
       "    <tr>\n",
       "      <th>7</th>\n",
       "      <td>sunny</td>\n",
       "      <td>72</td>\n",
       "      <td>95</td>\n",
       "      <td>False</td>\n",
       "      <td>no</td>\n",
       "    </tr>\n",
       "    <tr>\n",
       "      <th>8</th>\n",
       "      <td>sunny</td>\n",
       "      <td>69</td>\n",
       "      <td>70</td>\n",
       "      <td>False</td>\n",
       "      <td>yes</td>\n",
       "    </tr>\n",
       "    <tr>\n",
       "      <th>9</th>\n",
       "      <td>rainy</td>\n",
       "      <td>75</td>\n",
       "      <td>80</td>\n",
       "      <td>False</td>\n",
       "      <td>yes</td>\n",
       "    </tr>\n",
       "    <tr>\n",
       "      <th>10</th>\n",
       "      <td>sunny</td>\n",
       "      <td>75</td>\n",
       "      <td>70</td>\n",
       "      <td>True</td>\n",
       "      <td>yes</td>\n",
       "    </tr>\n",
       "    <tr>\n",
       "      <th>11</th>\n",
       "      <td>overcast</td>\n",
       "      <td>72</td>\n",
       "      <td>90</td>\n",
       "      <td>True</td>\n",
       "      <td>yes</td>\n",
       "    </tr>\n",
       "    <tr>\n",
       "      <th>12</th>\n",
       "      <td>overcast</td>\n",
       "      <td>81</td>\n",
       "      <td>75</td>\n",
       "      <td>False</td>\n",
       "      <td>yes</td>\n",
       "    </tr>\n",
       "    <tr>\n",
       "      <th>13</th>\n",
       "      <td>rainy</td>\n",
       "      <td>71</td>\n",
       "      <td>91</td>\n",
       "      <td>True</td>\n",
       "      <td>no</td>\n",
       "    </tr>\n",
       "  </tbody>\n",
       "</table>\n",
       "</div>"
      ],
      "text/plain": [
       "     outlook  temperature  humidity  windy play\n",
       "0      sunny           85        85  False   no\n",
       "1      sunny           80        90   True   no\n",
       "2   overcast           83        86  False  yes\n",
       "3      rainy           70        96  False  yes\n",
       "4      rainy           68        80  False  yes\n",
       "5      rainy           65        70   True   no\n",
       "6   overcast           64        65   True  yes\n",
       "7      sunny           72        95  False   no\n",
       "8      sunny           69        70  False  yes\n",
       "9      rainy           75        80  False  yes\n",
       "10     sunny           75        70   True  yes\n",
       "11  overcast           72        90   True  yes\n",
       "12  overcast           81        75  False  yes\n",
       "13     rainy           71        91   True   no"
      ]
     },
     "execution_count": 16,
     "metadata": {},
     "output_type": "execute_result"
    }
   ],
   "source": [
    "weather_df = pd.read_csv('dataset/weather.csv')\n",
    "\n",
    "weather_df"
   ]
  },
  {
   "cell_type": "markdown",
   "metadata": {},
   "source": [
    "Dapat dilihat data latih terdiri dari data numerik dan data kategorikal. Diperlukan preprocessing dengan kakas scikit-learn yaitu LabelEncoder sebagai berikut."
   ]
  },
  {
   "cell_type": "code",
   "execution_count": 17,
   "metadata": {},
   "outputs": [],
   "source": [
    "label_encoder = LabelEncoder()\n",
    "weather_df['outlook'] = label_encoder.fit_transform(weather_df.outlook)\n",
    "weather_df['windy'] = label_encoder.fit_transform(weather_df.windy)\n",
    "weather_df['play'] = label_encoder.fit_transform(weather_df.play)"
   ]
  },
  {
   "cell_type": "code",
   "execution_count": 18,
   "metadata": {},
   "outputs": [
    {
     "data": {
      "text/html": [
       "<div>\n",
       "<style scoped>\n",
       "    .dataframe tbody tr th:only-of-type {\n",
       "        vertical-align: middle;\n",
       "    }\n",
       "\n",
       "    .dataframe tbody tr th {\n",
       "        vertical-align: top;\n",
       "    }\n",
       "\n",
       "    .dataframe thead th {\n",
       "        text-align: right;\n",
       "    }\n",
       "</style>\n",
       "<table border=\"1\" class=\"dataframe\">\n",
       "  <thead>\n",
       "    <tr style=\"text-align: right;\">\n",
       "      <th></th>\n",
       "      <th>outlook</th>\n",
       "      <th>temperature</th>\n",
       "      <th>humidity</th>\n",
       "      <th>windy</th>\n",
       "      <th>play</th>\n",
       "    </tr>\n",
       "  </thead>\n",
       "  <tbody>\n",
       "    <tr>\n",
       "      <th>0</th>\n",
       "      <td>2</td>\n",
       "      <td>85</td>\n",
       "      <td>85</td>\n",
       "      <td>0</td>\n",
       "      <td>0</td>\n",
       "    </tr>\n",
       "    <tr>\n",
       "      <th>1</th>\n",
       "      <td>2</td>\n",
       "      <td>80</td>\n",
       "      <td>90</td>\n",
       "      <td>1</td>\n",
       "      <td>0</td>\n",
       "    </tr>\n",
       "    <tr>\n",
       "      <th>2</th>\n",
       "      <td>0</td>\n",
       "      <td>83</td>\n",
       "      <td>86</td>\n",
       "      <td>0</td>\n",
       "      <td>1</td>\n",
       "    </tr>\n",
       "    <tr>\n",
       "      <th>3</th>\n",
       "      <td>1</td>\n",
       "      <td>70</td>\n",
       "      <td>96</td>\n",
       "      <td>0</td>\n",
       "      <td>1</td>\n",
       "    </tr>\n",
       "    <tr>\n",
       "      <th>4</th>\n",
       "      <td>1</td>\n",
       "      <td>68</td>\n",
       "      <td>80</td>\n",
       "      <td>0</td>\n",
       "      <td>1</td>\n",
       "    </tr>\n",
       "    <tr>\n",
       "      <th>5</th>\n",
       "      <td>1</td>\n",
       "      <td>65</td>\n",
       "      <td>70</td>\n",
       "      <td>1</td>\n",
       "      <td>0</td>\n",
       "    </tr>\n",
       "    <tr>\n",
       "      <th>6</th>\n",
       "      <td>0</td>\n",
       "      <td>64</td>\n",
       "      <td>65</td>\n",
       "      <td>1</td>\n",
       "      <td>1</td>\n",
       "    </tr>\n",
       "    <tr>\n",
       "      <th>7</th>\n",
       "      <td>2</td>\n",
       "      <td>72</td>\n",
       "      <td>95</td>\n",
       "      <td>0</td>\n",
       "      <td>0</td>\n",
       "    </tr>\n",
       "    <tr>\n",
       "      <th>8</th>\n",
       "      <td>2</td>\n",
       "      <td>69</td>\n",
       "      <td>70</td>\n",
       "      <td>0</td>\n",
       "      <td>1</td>\n",
       "    </tr>\n",
       "    <tr>\n",
       "      <th>9</th>\n",
       "      <td>1</td>\n",
       "      <td>75</td>\n",
       "      <td>80</td>\n",
       "      <td>0</td>\n",
       "      <td>1</td>\n",
       "    </tr>\n",
       "    <tr>\n",
       "      <th>10</th>\n",
       "      <td>2</td>\n",
       "      <td>75</td>\n",
       "      <td>70</td>\n",
       "      <td>1</td>\n",
       "      <td>1</td>\n",
       "    </tr>\n",
       "    <tr>\n",
       "      <th>11</th>\n",
       "      <td>0</td>\n",
       "      <td>72</td>\n",
       "      <td>90</td>\n",
       "      <td>1</td>\n",
       "      <td>1</td>\n",
       "    </tr>\n",
       "    <tr>\n",
       "      <th>12</th>\n",
       "      <td>0</td>\n",
       "      <td>81</td>\n",
       "      <td>75</td>\n",
       "      <td>0</td>\n",
       "      <td>1</td>\n",
       "    </tr>\n",
       "    <tr>\n",
       "      <th>13</th>\n",
       "      <td>1</td>\n",
       "      <td>71</td>\n",
       "      <td>91</td>\n",
       "      <td>1</td>\n",
       "      <td>0</td>\n",
       "    </tr>\n",
       "  </tbody>\n",
       "</table>\n",
       "</div>"
      ],
      "text/plain": [
       "    outlook  temperature  humidity  windy  play\n",
       "0         2           85        85      0     0\n",
       "1         2           80        90      1     0\n",
       "2         0           83        86      0     1\n",
       "3         1           70        96      0     1\n",
       "4         1           68        80      0     1\n",
       "5         1           65        70      1     0\n",
       "6         0           64        65      1     1\n",
       "7         2           72        95      0     0\n",
       "8         2           69        70      0     1\n",
       "9         1           75        80      0     1\n",
       "10        2           75        70      1     1\n",
       "11        0           72        90      1     1\n",
       "12        0           81        75      0     1\n",
       "13        1           71        91      1     0"
      ]
     },
     "execution_count": 18,
     "metadata": {},
     "output_type": "execute_result"
    }
   ],
   "source": [
    "weather_df"
   ]
  },
  {
   "cell_type": "code",
   "execution_count": 19,
   "metadata": {},
   "outputs": [
    {
     "data": {
      "text/plain": [
       "array([[ 2, 85, 85,  0],\n",
       "       [ 2, 80, 90,  1],\n",
       "       [ 0, 83, 86,  0],\n",
       "       [ 1, 70, 96,  0],\n",
       "       [ 1, 68, 80,  0],\n",
       "       [ 1, 65, 70,  1],\n",
       "       [ 0, 64, 65,  1],\n",
       "       [ 2, 72, 95,  0],\n",
       "       [ 2, 69, 70,  0],\n",
       "       [ 1, 75, 80,  0],\n",
       "       [ 2, 75, 70,  1],\n",
       "       [ 0, 72, 90,  1],\n",
       "       [ 0, 81, 75,  0],\n",
       "       [ 1, 71, 91,  1]])"
      ]
     },
     "execution_count": 19,
     "metadata": {},
     "output_type": "execute_result"
    }
   ],
   "source": [
    "X_weather = weather_df.iloc[:,:4].values\n",
    "X_weather"
   ]
  },
  {
   "cell_type": "code",
   "execution_count": 20,
   "metadata": {},
   "outputs": [
    {
     "data": {
      "text/plain": [
       "array([0, 0, 1, 1, 1, 0, 1, 0, 1, 1, 1, 1, 1, 0])"
      ]
     },
     "execution_count": 20,
     "metadata": {},
     "output_type": "execute_result"
    }
   ],
   "source": [
    "y_weather = weather_df.play.values\n",
    "y_weather"
   ]
  },
  {
   "cell_type": "markdown",
   "metadata": {},
   "source": [
    "Kemudian, setelah kami menjadikan data latih tersebut numerik, kami melakukan pemisahan sebagian data latih (10%) menjadi data uji dengan proporsi."
   ]
  },
  {
   "cell_type": "code",
   "execution_count": 21,
   "metadata": {},
   "outputs": [],
   "source": [
    "X_train, X_test, y_train, y_test = train_test_split(X_weather, y_weather, test_size=0.1,shuffle=False)"
   ]
  },
  {
   "cell_type": "code",
   "execution_count": 22,
   "metadata": {},
   "outputs": [
    {
     "data": {
      "text/plain": [
       "array([[ 2, 85, 85,  0],\n",
       "       [ 2, 80, 90,  1],\n",
       "       [ 0, 83, 86,  0],\n",
       "       [ 1, 70, 96,  0],\n",
       "       [ 1, 68, 80,  0],\n",
       "       [ 1, 65, 70,  1],\n",
       "       [ 0, 64, 65,  1],\n",
       "       [ 2, 72, 95,  0],\n",
       "       [ 2, 69, 70,  0],\n",
       "       [ 1, 75, 80,  0],\n",
       "       [ 2, 75, 70,  1],\n",
       "       [ 0, 72, 90,  1]])"
      ]
     },
     "execution_count": 22,
     "metadata": {},
     "output_type": "execute_result"
    }
   ],
   "source": [
    "X_train"
   ]
  },
  {
   "cell_type": "code",
   "execution_count": 23,
   "metadata": {},
   "outputs": [
    {
     "data": {
      "text/plain": [
       "array([[ 0, 81, 75,  0],\n",
       "       [ 1, 71, 91,  1]])"
      ]
     },
     "execution_count": 23,
     "metadata": {},
     "output_type": "execute_result"
    }
   ],
   "source": [
    "X_test"
   ]
  },
  {
   "cell_type": "code",
   "execution_count": 24,
   "metadata": {},
   "outputs": [
    {
     "data": {
      "text/plain": [
       "array([0, 0, 1, 1, 1, 0, 1, 0, 1, 1, 1, 1])"
      ]
     },
     "execution_count": 24,
     "metadata": {},
     "output_type": "execute_result"
    }
   ],
   "source": [
    "y_train"
   ]
  },
  {
   "cell_type": "code",
   "execution_count": 25,
   "metadata": {},
   "outputs": [
    {
     "data": {
      "text/plain": [
       "array([1, 0])"
      ]
     },
     "execution_count": 25,
     "metadata": {},
     "output_type": "execute_result"
    }
   ],
   "source": [
    "y_test"
   ]
  },
  {
   "cell_type": "code",
   "execution_count": 26,
   "metadata": {},
   "outputs": [],
   "source": [
    "train_data = [(x, y) for x, y in zip(X_train, y_train)]\n",
    "test_data = [(x, y) for x, y in zip(X_test, y_test)]"
   ]
  },
  {
   "cell_type": "markdown",
   "metadata": {},
   "source": [
    "### 1.b.2.2 Batch = 1"
   ]
  },
  {
   "cell_type": "markdown",
   "metadata": {},
   "source": [
    "#####  1.b.2.2.1 Classifier Sendiri"
   ]
  },
  {
   "cell_type": "code",
   "execution_count": 62,
   "metadata": {},
   "outputs": [],
   "source": [
    "start = time.time()"
   ]
  },
  {
   "cell_type": "code",
   "execution_count": 63,
   "metadata": {
    "collapsed": true
   },
   "outputs": [
    {
     "name": "stdout",
     "output_type": "stream",
     "text": [
      "Train on 10 samples, validate on 2 samples\n",
      "Epoch 1/100 : 0.00012564659118652344 s - loss: 1.0 - acc: 0.0 - val_loss: 0.0 - val_acc: 1.0\n",
      "Epoch 2/100 : 0.00011181831359863281 s - loss: 1.0 - acc: 0.0 - val_loss: 0.0 - val_acc: 1.0\n",
      "Epoch 3/100 : 0.00012683868408203125 s - loss: 1.0 - acc: 0.0 - val_loss: 0.0 - val_acc: 1.0\n",
      "Epoch 4/100 : 0.0001125335693359375 s - loss: 1.0 - acc: 0.0 - val_loss: 0.0 - val_acc: 1.0\n",
      "Epoch 5/100 : 0.00011110305786132812 s - loss: 1.0 - acc: 0.0 - val_loss: 0.0 - val_acc: 1.0\n",
      "Epoch 6/100 : 0.00011229515075683594 s - loss: 1.0 - acc: 0.0 - val_loss: 0.0 - val_acc: 1.0\n",
      "Epoch 7/100 : 0.00011181831359863281 s - loss: 1.0 - acc: 0.0 - val_loss: 0.0 - val_acc: 1.0\n",
      "Epoch 8/100 : 0.00012874603271484375 s - loss: 1.0 - acc: 0.0 - val_loss: 0.0 - val_acc: 1.0\n",
      "Epoch 9/100 : 0.00012302398681640625 s - loss: 1.0 - acc: 0.0 - val_loss: 0.0 - val_acc: 1.0\n",
      "Epoch 10/100 : 0.0001926422119140625 s - loss: 1.0 - acc: 0.0 - val_loss: 0.0 - val_acc: 1.0\n",
      "Epoch 11/100 : 0.0001728534698486328 s - loss: 1.0 - acc: 0.0 - val_loss: 0.0 - val_acc: 1.0\n",
      "Epoch 12/100 : 0.0001342296600341797 s - loss: 1.0 - acc: 0.0 - val_loss: 0.0 - val_acc: 1.0\n",
      "Epoch 13/100 : 0.00013065338134765625 s - loss: 1.0 - acc: 0.0 - val_loss: 0.0 - val_acc: 1.0\n",
      "Epoch 14/100 : 0.00011301040649414062 s - loss: 1.0 - acc: 0.0 - val_loss: 0.0 - val_acc: 1.0\n",
      "Epoch 15/100 : 0.00012993812561035156 s - loss: 1.0 - acc: 0.0 - val_loss: 0.0 - val_acc: 1.0\n",
      "Epoch 16/100 : 0.00011277198791503906 s - loss: 1.0 - acc: 0.0 - val_loss: 0.0 - val_acc: 1.0\n",
      "Epoch 17/100 : 0.0001232624053955078 s - loss: 1.0 - acc: 0.0 - val_loss: 0.0 - val_acc: 1.0\n",
      "Epoch 18/100 : 0.0001308917999267578 s - loss: 1.0 - acc: 0.0 - val_loss: 0.0 - val_acc: 1.0\n",
      "Epoch 19/100 : 0.00011372566223144531 s - loss: 1.0 - acc: 0.0 - val_loss: 0.0 - val_acc: 1.0\n",
      "Epoch 20/100 : 0.00014138221740722656 s - loss: 1.0 - acc: 0.0 - val_loss: 0.0 - val_acc: 1.0\n",
      "Epoch 21/100 : 0.00013065338134765625 s - loss: 1.0 - acc: 0.0 - val_loss: 0.0 - val_acc: 1.0\n",
      "Epoch 22/100 : 0.00011539459228515625 s - loss: 1.0 - acc: 0.0 - val_loss: 0.0 - val_acc: 1.0\n",
      "Epoch 23/100 : 0.00021004676818847656 s - loss: 1.0 - acc: 0.0 - val_loss: 0.0 - val_acc: 1.0\n",
      "Epoch 24/100 : 0.00011467933654785156 s - loss: 1.0 - acc: 0.0 - val_loss: 0.0 - val_acc: 1.0\n",
      "Epoch 25/100 : 0.00012946128845214844 s - loss: 1.0 - acc: 0.0 - val_loss: 0.0 - val_acc: 1.0\n",
      "Epoch 26/100 : 0.00022840499877929688 s - loss: 1.0 - acc: 0.0 - val_loss: 0.0 - val_acc: 1.0\n",
      "Epoch 27/100 : 0.00011372566223144531 s - loss: 1.0 - acc: 0.0 - val_loss: 0.0 - val_acc: 1.0\n",
      "Epoch 28/100 : 0.0001285076141357422 s - loss: 1.0 - acc: 0.0 - val_loss: 0.0 - val_acc: 1.0\n",
      "Epoch 29/100 : 0.0001697540283203125 s - loss: 1.0 - acc: 0.0 - val_loss: 0.0 - val_acc: 1.0\n",
      "Epoch 30/100 : 0.00011444091796875 s - loss: 1.0 - acc: 0.0 - val_loss: 0.0 - val_acc: 1.0\n",
      "Epoch 31/100 : 0.00012946128845214844 s - loss: 1.0 - acc: 0.0 - val_loss: 0.0 - val_acc: 1.0\n",
      "Epoch 32/100 : 0.00011348724365234375 s - loss: 1.0 - acc: 0.0 - val_loss: 0.0 - val_acc: 1.0\n",
      "Epoch 33/100 : 0.00011301040649414062 s - loss: 1.0 - acc: 0.0 - val_loss: 0.0 - val_acc: 1.0\n",
      "Epoch 34/100 : 0.00014257431030273438 s - loss: 1.0 - acc: 0.0 - val_loss: 0.0 - val_acc: 1.0\n",
      "Epoch 35/100 : 0.00011754035949707031 s - loss: 1.0 - acc: 0.0 - val_loss: 0.0 - val_acc: 1.0\n",
      "Epoch 36/100 : 0.00011348724365234375 s - loss: 1.0 - acc: 0.0 - val_loss: 0.0 - val_acc: 1.0\n",
      "Epoch 37/100 : 0.00011372566223144531 s - loss: 1.0 - acc: 0.0 - val_loss: 0.0 - val_acc: 1.0\n",
      "Epoch 38/100 : 0.00011229515075683594 s - loss: 1.0 - acc: 0.0 - val_loss: 0.0 - val_acc: 1.0\n",
      "Epoch 39/100 : 0.00012302398681640625 s - loss: 1.0 - acc: 0.0 - val_loss: 0.0 - val_acc: 1.0\n",
      "Epoch 40/100 : 0.00011420249938964844 s - loss: 1.0 - acc: 0.0 - val_loss: 0.0 - val_acc: 1.0\n",
      "Epoch 41/100 : 0.00012993812561035156 s - loss: 1.0 - acc: 0.0 - val_loss: 0.0 - val_acc: 1.0\n",
      "Epoch 42/100 : 0.00012993812561035156 s - loss: 1.0 - acc: 0.0 - val_loss: 0.0 - val_acc: 1.0\n",
      "Epoch 43/100 : 0.00011420249938964844 s - loss: 1.0 - acc: 0.0 - val_loss: 0.0 - val_acc: 1.0\n",
      "Epoch 44/100 : 0.00015664100646972656 s - loss: 1.0 - acc: 0.0 - val_loss: 0.0 - val_acc: 1.0\n",
      "Epoch 45/100 : 0.00011301040649414062 s - loss: 1.0 - acc: 0.0 - val_loss: 0.0 - val_acc: 1.0\n",
      "Epoch 46/100 : 0.0001125335693359375 s - loss: 1.0 - acc: 0.0 - val_loss: 0.0 - val_acc: 1.0\n",
      "Epoch 47/100 : 0.00015544891357421875 s - loss: 1.0 - acc: 0.0 - val_loss: 0.0 - val_acc: 1.0\n",
      "Epoch 48/100 : 0.00013637542724609375 s - loss: 1.0 - acc: 0.0 - val_loss: 0.0 - val_acc: 1.0\n",
      "Epoch 49/100 : 0.00015497207641601562 s - loss: 1.0 - acc: 0.0 - val_loss: 0.0 - val_acc: 1.0\n",
      "Epoch 50/100 : 0.00011324882507324219 s - loss: 1.0 - acc: 0.0 - val_loss: 0.0 - val_acc: 1.0\n",
      "Epoch 51/100 : 0.00013017654418945312 s - loss: 1.0 - acc: 0.0 - val_loss: 0.0 - val_acc: 1.0\n",
      "Epoch 52/100 : 0.00011157989501953125 s - loss: 1.0 - acc: 0.0 - val_loss: 0.0 - val_acc: 1.0\n",
      "Epoch 53/100 : 0.00011134147644042969 s - loss: 1.0 - acc: 0.0 - val_loss: 0.0 - val_acc: 1.0\n",
      "Epoch 54/100 : 0.00011205673217773438 s - loss: 1.0 - acc: 0.0 - val_loss: 0.0 - val_acc: 1.0\n",
      "Epoch 55/100 : 0.00012946128845214844 s - loss: 1.0 - acc: 0.0 - val_loss: 0.0 - val_acc: 1.0\n",
      "Epoch 56/100 : 0.00011301040649414062 s - loss: 1.0 - acc: 0.0 - val_loss: 0.0 - val_acc: 1.0\n",
      "Epoch 57/100 : 0.00011134147644042969 s - loss: 1.0 - acc: 0.0 - val_loss: 0.0 - val_acc: 1.0\n",
      "Epoch 58/100 : 0.00011086463928222656 s - loss: 1.0 - acc: 0.0 - val_loss: 0.0 - val_acc: 1.0\n",
      "Epoch 59/100 : 0.00012969970703125 s - loss: 1.0 - acc: 0.0 - val_loss: 0.0 - val_acc: 1.0\n",
      "Epoch 60/100 : 0.0001575946807861328 s - loss: 1.0 - acc: 0.0 - val_loss: 0.0 - val_acc: 1.0\n",
      "Epoch 61/100 : 0.0001285076141357422 s - loss: 1.0 - acc: 0.0 - val_loss: 0.0 - val_acc: 1.0\n",
      "Epoch 62/100 : 0.00011110305786132812 s - loss: 1.0 - acc: 0.0 - val_loss: 0.0 - val_acc: 1.0\n",
      "Epoch 63/100 : 0.00012922286987304688 s - loss: 1.0 - acc: 0.0 - val_loss: 0.0 - val_acc: 1.0\n",
      "Epoch 64/100 : 0.00011372566223144531 s - loss: 1.0 - acc: 0.0 - val_loss: 0.0 - val_acc: 1.0\n",
      "Epoch 65/100 : 0.00011348724365234375 s - loss: 1.0 - acc: 0.0 - val_loss: 0.0 - val_acc: 1.0\n",
      "Epoch 66/100 : 0.00011301040649414062 s - loss: 1.0 - acc: 0.0 - val_loss: 0.0 - val_acc: 1.0\n",
      "Epoch 67/100 : 0.0001289844512939453 s - loss: 1.0 - acc: 0.0 - val_loss: 0.0 - val_acc: 1.0\n",
      "Epoch 68/100 : 0.00013017654418945312 s - loss: 1.0 - acc: 0.0 - val_loss: 0.0 - val_acc: 1.0\n",
      "Epoch 69/100 : 0.00011396408081054688 s - loss: 1.0 - acc: 0.0 - val_loss: 0.0 - val_acc: 1.0\n",
      "Epoch 70/100 : 0.00011396408081054688 s - loss: 1.0 - acc: 0.0 - val_loss: 0.0 - val_acc: 1.0\n",
      "Epoch 71/100 : 0.00011348724365234375 s - loss: 1.0 - acc: 0.0 - val_loss: 0.0 - val_acc: 1.0\n",
      "Epoch 72/100 : 0.00013017654418945312 s - loss: 1.0 - acc: 0.0 - val_loss: 0.0 - val_acc: 1.0\n",
      "Epoch 73/100 : 0.00012993812561035156 s - loss: 1.0 - acc: 0.0 - val_loss: 0.0 - val_acc: 1.0\n",
      "Epoch 74/100 : 0.00012993812561035156 s - loss: 1.0 - acc: 0.0 - val_loss: 0.0 - val_acc: 1.0\n",
      "Epoch 75/100 : 0.0001125335693359375 s - loss: 1.0 - acc: 0.0 - val_loss: 0.0 - val_acc: 1.0\n",
      "Epoch 76/100 : 0.00011324882507324219 s - loss: 1.0 - acc: 0.0 - val_loss: 0.0 - val_acc: 1.0\n",
      "Epoch 77/100 : 0.00011301040649414062 s - loss: 1.0 - acc: 0.0 - val_loss: 0.0 - val_acc: 1.0\n",
      "Epoch 78/100 : 0.00012922286987304688 s - loss: 1.0 - acc: 0.0 - val_loss: 0.0 - val_acc: 1.0\n",
      "Epoch 79/100 : 0.00013184547424316406 s - loss: 1.0 - acc: 0.0 - val_loss: 0.0 - val_acc: 1.0\n",
      "Epoch 80/100 : 0.00011157989501953125 s - loss: 1.0 - acc: 0.0 - val_loss: 0.0 - val_acc: 1.0\n",
      "Epoch 81/100 : 0.00011324882507324219 s - loss: 1.0 - acc: 0.0 - val_loss: 0.0 - val_acc: 1.0\n",
      "Epoch 82/100 : 0.00011181831359863281 s - loss: 1.0 - acc: 0.0 - val_loss: 0.0 - val_acc: 1.0\n",
      "Epoch 83/100 : 0.0001125335693359375 s - loss: 1.0 - acc: 0.0 - val_loss: 0.0 - val_acc: 1.0\n",
      "Epoch 84/100 : 0.000156402587890625 s - loss: 1.0 - acc: 0.0 - val_loss: 0.0 - val_acc: 1.0\n",
      "Epoch 85/100 : 0.0001227855682373047 s - loss: 1.0 - acc: 0.0 - val_loss: 0.0 - val_acc: 1.0\n",
      "Epoch 86/100 : 0.00011348724365234375 s - loss: 1.0 - acc: 0.0 - val_loss: 0.0 - val_acc: 1.0\n",
      "Epoch 87/100 : 0.00012969970703125 s - loss: 1.0 - acc: 0.0 - val_loss: 0.0 - val_acc: 1.0\n",
      "Epoch 88/100 : 0.00012731552124023438 s - loss: 1.0 - acc: 0.0 - val_loss: 0.0 - val_acc: 1.0\n",
      "Epoch 89/100 : 0.00018095970153808594 s - loss: 1.0 - acc: 0.0 - val_loss: 0.0 - val_acc: 1.0\n",
      "Epoch 90/100 : 0.00012946128845214844 s - loss: 1.0 - acc: 0.0 - val_loss: 0.0 - val_acc: 1.0\n",
      "Epoch 91/100 : 0.0001285076141357422 s - loss: 1.0 - acc: 0.0 - val_loss: 0.0 - val_acc: 1.0\n",
      "Epoch 92/100 : 0.00012826919555664062 s - loss: 1.0 - acc: 0.0 - val_loss: 0.0 - val_acc: 1.0\n",
      "Epoch 93/100 : 0.0001289844512939453 s - loss: 1.0 - acc: 0.0 - val_loss: 0.0 - val_acc: 1.0\n",
      "Epoch 94/100 : 0.00014972686767578125 s - loss: 1.0 - acc: 0.0 - val_loss: 0.0 - val_acc: 1.0\n",
      "Epoch 95/100 : 0.0001957416534423828 s - loss: 1.0 - acc: 0.0 - val_loss: 0.0 - val_acc: 1.0\n",
      "Epoch 96/100 : 0.00011420249938964844 s - loss: 1.0 - acc: 0.0 - val_loss: 0.0 - val_acc: 1.0\n",
      "Epoch 97/100 : 0.00011324882507324219 s - loss: 1.0 - acc: 0.0 - val_loss: 0.0 - val_acc: 1.0\n",
      "Epoch 98/100 : 0.0001423358917236328 s - loss: 1.0 - acc: 0.0 - val_loss: 0.0 - val_acc: 1.0\n",
      "Epoch 99/100 : 0.00016021728515625 s - loss: 1.0 - acc: 0.0 - val_loss: 0.0 - val_acc: 1.0\n",
      "Epoch 100/100 : 0.00011396408081054688 s - loss: 1.0 - acc: 0.0 - val_loss: 0.0 - val_acc: 1.0\n"
     ]
    }
   ],
   "source": [
    "neural_network1 = Network([4, 10, 8, 1])\n",
    "neural_network1.fit(train_data, 100, 1, 0.1, validation_split=0.1)"
   ]
  },
  {
   "cell_type": "code",
   "execution_count": 64,
   "metadata": {},
   "outputs": [],
   "source": [
    "end = time.time() - start"
   ]
  },
  {
   "cell_type": "code",
   "execution_count": 65,
   "metadata": {},
   "outputs": [
    {
     "data": {
      "image/png": "[encoded data removed]",
      "text/plain": [
       "<Figure size 432x288 with 1 Axes>"
      ]
     },
     "metadata": {},
     "output_type": "display_data"
    }
   ],
   "source": [
    "plt.plot(neural_network1.history['acc'])\n",
    "plt.plot(neural_network1.history['val_acc'])\n",
    "plt.title('Model accuracy')\n",
    "plt.ylabel('Accuracy')\n",
    "plt.xlabel('Epoch')\n",
    "plt.legend(['Train', 'Test'], loc='upper left')\n",
    "plt.show()"
   ]
  },
  {
   "cell_type": "code",
   "execution_count": 66,
   "metadata": {},
   "outputs": [
    {
     "data": {
      "image/png": "[encoded data removed]",
      "text/plain": [
       "<Figure size 432x288 with 1 Axes>"
      ]
     },
     "metadata": {},
     "output_type": "display_data"
    }
   ],
   "source": [
    "plt.plot(neural_network1.history['loss'])\n",
    "plt.plot(neural_network1.history['val_loss'])\n",
    "plt.title('Model loss')\n",
    "plt.ylabel('Loss')\n",
    "plt.xlabel('Epoch')\n",
    "plt.legend(['Train', 'Test'], loc='upper left')\n",
    "plt.show()"
   ]
  },
  {
   "cell_type": "code",
   "execution_count": 67,
   "metadata": {},
   "outputs": [],
   "source": [
    "accuracy1, loss1 = neural_network1.evaluate(test_data)"
   ]
  },
  {
   "cell_type": "code",
   "execution_count": 68,
   "metadata": {},
   "outputs": [
    {
     "name": "stdout",
     "output_type": "stream",
     "text": [
      "Loss: 50.0 %\n",
      "Accuracy 50.0 %\n",
      "Time: 0.25215768814086914 ms\n"
     ]
    }
   ],
   "source": [
    "print(\"Loss: {} %\".format(loss1*100.0))\n",
    "print(\"Accuracy {} %\".format(accuracy1*100.0))\n",
    "print(\"Time: {} ms\".format(end))"
   ]
  },
  {
   "cell_type": "markdown",
   "metadata": {},
   "source": [
    "##### 1.b.2.2.2 Keras Model"
   ]
  },
  {
   "cell_type": "markdown",
   "metadata": {},
   "source": [
    "Reinitialisasi model keras untuk eksperimen pertama."
   ]
  },
  {
   "cell_type": "code",
   "execution_count": 69,
   "metadata": {},
   "outputs": [],
   "source": [
    "network1 = Sequential([\n",
    "    Dense(4, input_shape=(4,)),\n",
    "    Dense(10, activation='sigmoid'),\n",
    "    Dense(8, activation='sigmoid'),\n",
    "    Dense(1, activation='sigmoid')\n",
    "])"
   ]
  },
  {
   "cell_type": "code",
   "execution_count": 70,
   "metadata": {},
   "outputs": [],
   "source": [
    "network1.compile(optimizer='SGD', loss='mse', metrics=['accuracy'])"
   ]
  },
  {
   "cell_type": "code",
   "execution_count": 71,
   "metadata": {},
   "outputs": [
    {
     "name": "stdout",
     "output_type": "stream",
     "text": [
      "_________________________________________________________________\n",
      "Layer (type)                 Output Shape              Param #   \n",
      "=================================================================\n",
      "dense_13 (Dense)             (None, 4)                 20        \n",
      "_________________________________________________________________\n",
      "dense_14 (Dense)             (None, 10)                50        \n",
      "_________________________________________________________________\n",
      "dense_15 (Dense)             (None, 8)                 88        \n",
      "_________________________________________________________________\n",
      "dense_16 (Dense)             (None, 1)                 9         \n",
      "=================================================================\n",
      "Total params: 167\n",
      "Trainable params: 167\n",
      "Non-trainable params: 0\n",
      "_________________________________________________________________\n"
     ]
    }
   ],
   "source": [
    "network1.summary()"
   ]
  },
  {
   "cell_type": "code",
   "execution_count": 72,
   "metadata": {},
   "outputs": [],
   "source": [
    "start = time.time()"
   ]
  },
  {
   "cell_type": "code",
   "execution_count": 73,
   "metadata": {
    "collapsed": true
   },
   "outputs": [
    {
     "name": "stdout",
     "output_type": "stream",
     "text": [
      "Train on 10 samples, validate on 2 samples\n",
      "Epoch 1/100\n",
      "10/10 [==============================] - 0s 16ms/step - loss: 0.2793 - acc: 0.6000 - val_loss: 0.0424 - val_acc: 1.0000\n",
      "Epoch 2/100\n",
      "10/10 [==============================] - 0s 792us/step - loss: 0.2777 - acc: 0.6000 - val_loss: 0.0441 - val_acc: 1.0000\n",
      "Epoch 3/100\n",
      "10/10 [==============================] - 0s 792us/step - loss: 0.2761 - acc: 0.6000 - val_loss: 0.0458 - val_acc: 1.0000\n",
      "Epoch 4/100\n",
      "10/10 [==============================] - 0s 917us/step - loss: 0.2745 - acc: 0.6000 - val_loss: 0.0476 - val_acc: 1.0000\n",
      "Epoch 5/100\n",
      "10/10 [==============================] - 0s 924us/step - loss: 0.2729 - acc: 0.6000 - val_loss: 0.0494 - val_acc: 1.0000\n",
      "Epoch 6/100\n",
      "10/10 [==============================] - 0s 1ms/step - loss: 0.2714 - acc: 0.6000 - val_loss: 0.0513 - val_acc: 1.0000\n",
      "Epoch 7/100\n",
      "10/10 [==============================] - 0s 977us/step - loss: 0.2700 - acc: 0.6000 - val_loss: 0.0531 - val_acc: 1.0000\n",
      "Epoch 8/100\n",
      "10/10 [==============================] - 0s 919us/step - loss: 0.2685 - acc: 0.6000 - val_loss: 0.0551 - val_acc: 1.0000\n",
      "Epoch 9/100\n",
      "10/10 [==============================] - 0s 993us/step - loss: 0.2671 - acc: 0.6000 - val_loss: 0.0570 - val_acc: 1.0000\n",
      "Epoch 10/100\n",
      "10/10 [==============================] - 0s 1ms/step - loss: 0.2658 - acc: 0.6000 - val_loss: 0.0590 - val_acc: 1.0000\n",
      "Epoch 11/100\n",
      "10/10 [==============================] - 0s 994us/step - loss: 0.2645 - acc: 0.6000 - val_loss: 0.0610 - val_acc: 1.0000\n",
      "Epoch 12/100\n",
      "10/10 [==============================] - 0s 836us/step - loss: 0.2632 - acc: 0.6000 - val_loss: 0.0630 - val_acc: 1.0000\n",
      "Epoch 13/100\n",
      "10/10 [==============================] - 0s 1ms/step - loss: 0.2620 - acc: 0.6000 - val_loss: 0.0651 - val_acc: 1.0000\n",
      "Epoch 14/100\n",
      "10/10 [==============================] - 0s 941us/step - loss: 0.2608 - acc: 0.6000 - val_loss: 0.0671 - val_acc: 1.0000\n",
      "Epoch 15/100\n",
      "10/10 [==============================] - 0s 809us/step - loss: 0.2597 - acc: 0.6000 - val_loss: 0.0692 - val_acc: 1.0000\n",
      "Epoch 16/100\n",
      "10/10 [==============================] - 0s 892us/step - loss: 0.2585 - acc: 0.6000 - val_loss: 0.0713 - val_acc: 1.0000\n",
      "Epoch 17/100\n",
      "10/10 [==============================] - 0s 1ms/step - loss: 0.2575 - acc: 0.6000 - val_loss: 0.0734 - val_acc: 1.0000\n",
      "Epoch 18/100\n",
      "10/10 [==============================] - 0s 978us/step - loss: 0.2565 - acc: 0.6000 - val_loss: 0.0754 - val_acc: 1.0000\n",
      "Epoch 19/100\n",
      "10/10 [==============================] - 0s 978us/step - loss: 0.2555 - acc: 0.6000 - val_loss: 0.0775 - val_acc: 1.0000\n",
      "Epoch 20/100\n",
      "10/10 [==============================] - 0s 884us/step - loss: 0.2546 - acc: 0.6000 - val_loss: 0.0796 - val_acc: 1.0000\n",
      "Epoch 21/100\n",
      "10/10 [==============================] - 0s 909us/step - loss: 0.2538 - acc: 0.6000 - val_loss: 0.0817 - val_acc: 1.0000\n",
      "Epoch 22/100\n",
      "10/10 [==============================] - 0s 1ms/step - loss: 0.2529 - acc: 0.6000 - val_loss: 0.0837 - val_acc: 1.0000\n",
      "Epoch 23/100\n",
      "10/10 [==============================] - 0s 1ms/step - loss: 0.2522 - acc: 0.6000 - val_loss: 0.0858 - val_acc: 1.0000\n",
      "Epoch 24/100\n",
      "10/10 [==============================] - 0s 794us/step - loss: 0.2514 - acc: 0.6000 - val_loss: 0.0877 - val_acc: 1.0000\n",
      "Epoch 25/100\n",
      "10/10 [==============================] - 0s 888us/step - loss: 0.2507 - acc: 0.6000 - val_loss: 0.0897 - val_acc: 1.0000\n",
      "Epoch 26/100\n",
      "10/10 [==============================] - 0s 961us/step - loss: 0.2501 - acc: 0.6000 - val_loss: 0.0917 - val_acc: 1.0000\n",
      "Epoch 27/100\n",
      "10/10 [==============================] - 0s 1ms/step - loss: 0.2494 - acc: 0.6000 - val_loss: 0.0937 - val_acc: 1.0000\n",
      "Epoch 28/100\n",
      "10/10 [==============================] - 0s 939us/step - loss: 0.2488 - acc: 0.6000 - val_loss: 0.0956 - val_acc: 1.0000\n",
      "Epoch 29/100\n",
      "10/10 [==============================] - 0s 839us/step - loss: 0.2483 - acc: 0.6000 - val_loss: 0.0975 - val_acc: 1.0000\n",
      "Epoch 30/100\n",
      "10/10 [==============================] - 0s 938us/step - loss: 0.2478 - acc: 0.6000 - val_loss: 0.0993 - val_acc: 1.0000\n",
      "Epoch 31/100\n",
      "10/10 [==============================] - 0s 829us/step - loss: 0.2473 - acc: 0.6000 - val_loss: 0.1011 - val_acc: 1.0000\n",
      "Epoch 32/100\n",
      "10/10 [==============================] - 0s 1ms/step - loss: 0.2468 - acc: 0.6000 - val_loss: 0.1028 - val_acc: 1.0000\n",
      "Epoch 33/100\n",
      "10/10 [==============================] - 0s 936us/step - loss: 0.2464 - acc: 0.6000 - val_loss: 0.1045 - val_acc: 1.0000\n",
      "Epoch 34/100\n",
      "10/10 [==============================] - 0s 992us/step - loss: 0.2460 - acc: 0.6000 - val_loss: 0.1063 - val_acc: 1.0000\n",
      "Epoch 35/100\n",
      "10/10 [==============================] - 0s 875us/step - loss: 0.2456 - acc: 0.6000 - val_loss: 0.1080 - val_acc: 1.0000\n",
      "Epoch 36/100\n",
      "10/10 [==============================] - 0s 910us/step - loss: 0.2452 - acc: 0.6000 - val_loss: 0.1097 - val_acc: 1.0000\n",
      "Epoch 37/100\n",
      "10/10 [==============================] - 0s 918us/step - loss: 0.2449 - acc: 0.6000 - val_loss: 0.1112 - val_acc: 1.0000\n",
      "Epoch 38/100\n",
      "10/10 [==============================] - 0s 825us/step - loss: 0.2446 - acc: 0.6000 - val_loss: 0.1129 - val_acc: 1.0000\n",
      "Epoch 39/100\n",
      "10/10 [==============================] - 0s 863us/step - loss: 0.2443 - acc: 0.6000 - val_loss: 0.1144 - val_acc: 1.0000\n",
      "Epoch 40/100\n",
      "10/10 [==============================] - 0s 931us/step - loss: 0.2440 - acc: 0.6000 - val_loss: 0.1159 - val_acc: 1.0000\n",
      "Epoch 41/100\n",
      "10/10 [==============================] - 0s 838us/step - loss: 0.2437 - acc: 0.6000 - val_loss: 0.1174 - val_acc: 1.0000\n",
      "Epoch 42/100\n",
      "10/10 [==============================] - 0s 973us/step - loss: 0.2435 - acc: 0.6000 - val_loss: 0.1189 - val_acc: 1.0000\n",
      "Epoch 43/100\n",
      "10/10 [==============================] - 0s 838us/step - loss: 0.2433 - acc: 0.6000 - val_loss: 0.1203 - val_acc: 1.0000\n",
      "Epoch 44/100\n",
      "10/10 [==============================] - 0s 926us/step - loss: 0.2431 - acc: 0.6000 - val_loss: 0.1216 - val_acc: 1.0000\n",
      "Epoch 45/100\n",
      "10/10 [==============================] - 0s 871us/step - loss: 0.2429 - acc: 0.6000 - val_loss: 0.1229 - val_acc: 1.0000\n",
      "Epoch 46/100\n",
      "10/10 [==============================] - 0s 1ms/step - loss: 0.2427 - acc: 0.6000 - val_loss: 0.1242 - val_acc: 1.0000\n",
      "Epoch 47/100\n",
      "10/10 [==============================] - 0s 891us/step - loss: 0.2425 - acc: 0.6000 - val_loss: 0.1254 - val_acc: 1.0000\n",
      "Epoch 48/100\n",
      "10/10 [==============================] - 0s 954us/step - loss: 0.2424 - acc: 0.6000 - val_loss: 0.1265 - val_acc: 1.0000\n",
      "Epoch 49/100\n",
      "10/10 [==============================] - 0s 881us/step - loss: 0.2422 - acc: 0.6000 - val_loss: 0.1277 - val_acc: 1.0000\n",
      "Epoch 50/100\n",
      "10/10 [==============================] - 0s 838us/step - loss: 0.2421 - acc: 0.6000 - val_loss: 0.1288 - val_acc: 1.0000\n",
      "Epoch 51/100\n",
      "10/10 [==============================] - 0s 939us/step - loss: 0.2420 - acc: 0.6000 - val_loss: 0.1299 - val_acc: 1.0000\n",
      "Epoch 52/100\n",
      "10/10 [==============================] - 0s 1ms/step - loss: 0.2418 - acc: 0.6000 - val_loss: 0.1309 - val_acc: 1.0000\n",
      "Epoch 53/100\n",
      "10/10 [==============================] - 0s 999us/step - loss: 0.2417 - acc: 0.6000 - val_loss: 0.1319 - val_acc: 1.0000\n",
      "Epoch 54/100\n",
      "10/10 [==============================] - 0s 939us/step - loss: 0.2416 - acc: 0.6000 - val_loss: 0.1328 - val_acc: 1.0000\n",
      "Epoch 55/100\n",
      "10/10 [==============================] - 0s 857us/step - loss: 0.2416 - acc: 0.6000 - val_loss: 0.1338 - val_acc: 1.0000\n",
      "Epoch 56/100\n",
      "10/10 [==============================] - 0s 989us/step - loss: 0.2415 - acc: 0.6000 - val_loss: 0.1347 - val_acc: 1.0000\n",
      "Epoch 57/100\n",
      "10/10 [==============================] - 0s 876us/step - loss: 0.2414 - acc: 0.6000 - val_loss: 0.1356 - val_acc: 1.0000\n",
      "Epoch 58/100\n",
      "10/10 [==============================] - 0s 938us/step - loss: 0.2413 - acc: 0.6000 - val_loss: 0.1364 - val_acc: 1.0000\n",
      "Epoch 59/100\n",
      "10/10 [==============================] - 0s 945us/step - loss: 0.2412 - acc: 0.6000 - val_loss: 0.1372 - val_acc: 1.0000\n",
      "Epoch 60/100\n",
      "10/10 [==============================] - 0s 937us/step - loss: 0.2412 - acc: 0.6000 - val_loss: 0.1382 - val_acc: 1.0000\n",
      "Epoch 61/100\n",
      "10/10 [==============================] - 0s 865us/step - loss: 0.2411 - acc: 0.6000 - val_loss: 0.1389 - val_acc: 1.0000\n",
      "Epoch 62/100\n"
     ]
    },
    {
     "name": "stdout",
     "output_type": "stream",
     "text": [
      "10/10 [==============================] - 0s 909us/step - loss: 0.2411 - acc: 0.6000 - val_loss: 0.1397 - val_acc: 1.0000\n",
      "Epoch 63/100\n",
      "10/10 [==============================] - 0s 1ms/step - loss: 0.2410 - acc: 0.6000 - val_loss: 0.1404 - val_acc: 1.0000\n",
      "Epoch 64/100\n",
      "10/10 [==============================] - 0s 895us/step - loss: 0.2410 - acc: 0.6000 - val_loss: 0.1410 - val_acc: 1.0000\n",
      "Epoch 65/100\n",
      "10/10 [==============================] - 0s 920us/step - loss: 0.2409 - acc: 0.6000 - val_loss: 0.1417 - val_acc: 1.0000\n",
      "Epoch 66/100\n",
      "10/10 [==============================] - 0s 936us/step - loss: 0.2409 - acc: 0.6000 - val_loss: 0.1423 - val_acc: 1.0000\n",
      "Epoch 67/100\n",
      "10/10 [==============================] - 0s 952us/step - loss: 0.2408 - acc: 0.6000 - val_loss: 0.1430 - val_acc: 1.0000\n",
      "Epoch 68/100\n",
      "10/10 [==============================] - 0s 1ms/step - loss: 0.2408 - acc: 0.6000 - val_loss: 0.1435 - val_acc: 1.0000\n",
      "Epoch 69/100\n",
      "10/10 [==============================] - 0s 1ms/step - loss: 0.2408 - acc: 0.6000 - val_loss: 0.1440 - val_acc: 1.0000\n",
      "Epoch 70/100\n",
      "10/10 [==============================] - 0s 917us/step - loss: 0.2408 - acc: 0.6000 - val_loss: 0.1446 - val_acc: 1.0000\n",
      "Epoch 71/100\n",
      "10/10 [==============================] - 0s 789us/step - loss: 0.2407 - acc: 0.6000 - val_loss: 0.1452 - val_acc: 1.0000\n",
      "Epoch 72/100\n",
      "10/10 [==============================] - 0s 974us/step - loss: 0.2407 - acc: 0.6000 - val_loss: 0.1457 - val_acc: 1.0000\n",
      "Epoch 73/100\n",
      "10/10 [==============================] - 0s 804us/step - loss: 0.2407 - acc: 0.6000 - val_loss: 0.1461 - val_acc: 1.0000\n",
      "Epoch 74/100\n",
      "10/10 [==============================] - 0s 980us/step - loss: 0.2407 - acc: 0.6000 - val_loss: 0.1466 - val_acc: 1.0000\n",
      "Epoch 75/100\n",
      "10/10 [==============================] - 0s 973us/step - loss: 0.2406 - acc: 0.6000 - val_loss: 0.1470 - val_acc: 1.0000\n",
      "Epoch 76/100\n",
      "10/10 [==============================] - 0s 806us/step - loss: 0.2406 - acc: 0.6000 - val_loss: 0.1474 - val_acc: 1.0000\n",
      "Epoch 77/100\n",
      "10/10 [==============================] - 0s 937us/step - loss: 0.2406 - acc: 0.6000 - val_loss: 0.1478 - val_acc: 1.0000\n",
      "Epoch 78/100\n",
      "10/10 [==============================] - 0s 840us/step - loss: 0.2406 - acc: 0.6000 - val_loss: 0.1482 - val_acc: 1.0000\n",
      "Epoch 79/100\n",
      "10/10 [==============================] - 0s 933us/step - loss: 0.2406 - acc: 0.6000 - val_loss: 0.1487 - val_acc: 1.0000\n",
      "Epoch 80/100\n",
      "10/10 [==============================] - 0s 1ms/step - loss: 0.2405 - acc: 0.6000 - val_loss: 0.1489 - val_acc: 1.0000\n",
      "Epoch 81/100\n",
      "10/10 [==============================] - 0s 780us/step - loss: 0.2405 - acc: 0.6000 - val_loss: 0.1492 - val_acc: 1.0000\n",
      "Epoch 82/100\n",
      "10/10 [==============================] - 0s 966us/step - loss: 0.2405 - acc: 0.6000 - val_loss: 0.1495 - val_acc: 1.0000\n",
      "Epoch 83/100\n",
      "10/10 [==============================] - 0s 1ms/step - loss: 0.2405 - acc: 0.6000 - val_loss: 0.1498 - val_acc: 1.0000\n",
      "Epoch 84/100\n",
      "10/10 [==============================] - 0s 830us/step - loss: 0.2405 - acc: 0.6000 - val_loss: 0.1502 - val_acc: 1.0000\n",
      "Epoch 85/100\n",
      "10/10 [==============================] - 0s 995us/step - loss: 0.2405 - acc: 0.6000 - val_loss: 0.1504 - val_acc: 1.0000\n",
      "Epoch 86/100\n",
      "10/10 [==============================] - 0s 1ms/step - loss: 0.2404 - acc: 0.6000 - val_loss: 0.1509 - val_acc: 1.0000\n",
      "Epoch 87/100\n",
      "10/10 [==============================] - 0s 909us/step - loss: 0.2405 - acc: 0.6000 - val_loss: 0.1513 - val_acc: 1.0000\n",
      "Epoch 88/100\n",
      "10/10 [==============================] - 0s 901us/step - loss: 0.2405 - acc: 0.6000 - val_loss: 0.1515 - val_acc: 1.0000\n",
      "Epoch 89/100\n",
      "10/10 [==============================] - 0s 845us/step - loss: 0.2405 - acc: 0.6000 - val_loss: 0.1518 - val_acc: 1.0000\n",
      "Epoch 90/100\n",
      "10/10 [==============================] - 0s 1ms/step - loss: 0.2405 - acc: 0.6000 - val_loss: 0.1521 - val_acc: 1.0000\n",
      "Epoch 91/100\n",
      "10/10 [==============================] - 0s 1ms/step - loss: 0.2404 - acc: 0.6000 - val_loss: 0.1524 - val_acc: 1.0000\n",
      "Epoch 92/100\n",
      "10/10 [==============================] - 0s 991us/step - loss: 0.2404 - acc: 0.6000 - val_loss: 0.1527 - val_acc: 1.0000\n",
      "Epoch 93/100\n",
      "10/10 [==============================] - 0s 1ms/step - loss: 0.2404 - acc: 0.6000 - val_loss: 0.1528 - val_acc: 1.0000\n",
      "Epoch 94/100\n",
      "10/10 [==============================] - 0s 915us/step - loss: 0.2404 - acc: 0.6000 - val_loss: 0.1530 - val_acc: 1.0000\n",
      "Epoch 95/100\n",
      "10/10 [==============================] - 0s 1ms/step - loss: 0.2404 - acc: 0.6000 - val_loss: 0.1532 - val_acc: 1.0000\n",
      "Epoch 96/100\n",
      "10/10 [==============================] - 0s 980us/step - loss: 0.2404 - acc: 0.6000 - val_loss: 0.1534 - val_acc: 1.0000\n",
      "Epoch 97/100\n",
      "10/10 [==============================] - 0s 823us/step - loss: 0.2404 - acc: 0.6000 - val_loss: 0.1535 - val_acc: 1.0000\n",
      "Epoch 98/100\n",
      "10/10 [==============================] - 0s 1ms/step - loss: 0.2404 - acc: 0.6000 - val_loss: 0.1538 - val_acc: 1.0000\n",
      "Epoch 99/100\n",
      "10/10 [==============================] - 0s 820us/step - loss: 0.2404 - acc: 0.6000 - val_loss: 0.1540 - val_acc: 1.0000\n",
      "Epoch 100/100\n",
      "10/10 [==============================] - 0s 945us/step - loss: 0.2404 - acc: 0.6000 - val_loss: 0.1542 - val_acc: 1.0000\n"
     ]
    }
   ],
   "source": [
    "history1 = network1.fit(X_train, y_train, epochs=100, batch_size=1, validation_split=0.1)"
   ]
  },
  {
   "cell_type": "code",
   "execution_count": 74,
   "metadata": {},
   "outputs": [],
   "source": [
    "end = time.time() - start"
   ]
  },
  {
   "cell_type": "code",
   "execution_count": 75,
   "metadata": {},
   "outputs": [
    {
     "data": {
      "image/png": "[encoded data removed]",
      "text/plain": [
       "<Figure size 432x288 with 1 Axes>"
      ]
     },
     "metadata": {},
     "output_type": "display_data"
    }
   ],
   "source": [
    "plt.plot(history1.history['acc'])\n",
    "plt.plot(history1.history['val_acc'])\n",
    "plt.title('Model accuracy')\n",
    "plt.ylabel('Accuracy')\n",
    "plt.xlabel('Epoch')\n",
    "plt.legend(['Train', 'Test'], loc='upper left')\n",
    "plt.show()"
   ]
  },
  {
   "cell_type": "code",
   "execution_count": 76,
   "metadata": {},
   "outputs": [
    {
     "data": {
      "image/png": "[encoded data removed]",
      "text/plain": [
       "<Figure size 432x288 with 1 Axes>"
      ]
     },
     "metadata": {},
     "output_type": "display_data"
    }
   ],
   "source": [
    "plt.plot(history1.history['loss'])\n",
    "plt.plot(history1.history['val_loss'])\n",
    "plt.title('Model loss')\n",
    "plt.ylabel('Loss')\n",
    "plt.xlabel('Epoch')\n",
    "plt.legend(['Train', 'Test'], loc='upper left')\n",
    "plt.show()"
   ]
  },
  {
   "cell_type": "code",
   "execution_count": 77,
   "metadata": {},
   "outputs": [
    {
     "name": "stdout",
     "output_type": "stream",
     "text": [
      "2/2 [==============================] - 0s 1ms/step\n"
     ]
    }
   ],
   "source": [
    "score1 = network1.evaluate(X_test, y_test, batch_size=1)"
   ]
  },
  {
   "cell_type": "code",
   "execution_count": 78,
   "metadata": {},
   "outputs": [
    {
     "name": "stdout",
     "output_type": "stream",
     "text": [
      "Loss: 25.379618257284164 %\n",
      "Accuracy 50.0 %\n",
      "Time: 1.3729908466339111 ms\n"
     ]
    }
   ],
   "source": [
    "print(\"Loss: {} %\".format(score1[0]*100.0))\n",
    "print(\"Accuracy {} %\".format(score1[1]*100.0))\n",
    "print(\"Time: {} ms\".format(end))"
   ]
  },
  {
   "cell_type": "markdown",
   "metadata": {},
   "source": [
    "### 1.b.2.3 Batch =  Jumlah Data Latih"
   ]
  },
  {
   "cell_type": "markdown",
   "metadata": {},
   "source": [
    "##### 1.b.2.3.1 Classifier Sendiri"
   ]
  },
  {
   "cell_type": "code",
   "execution_count": 79,
   "metadata": {},
   "outputs": [],
   "source": [
    "start = time.time()"
   ]
  },
  {
   "cell_type": "code",
   "execution_count": 80,
   "metadata": {
    "collapsed": true
   },
   "outputs": [
    {
     "name": "stdout",
     "output_type": "stream",
     "text": [
      "Train on 10 samples, validate on 2 samples\n",
      "Epoch 1/100 : 0.0007219314575195312 s - loss: 0.4 - acc: 0.6 - val_loss: 0.0 - val_acc: 1.0\n",
      "Epoch 2/100 : 0.0004329681396484375 s - loss: 0.4 - acc: 0.6 - val_loss: 0.0 - val_acc: 1.0\n",
      "Epoch 3/100 : 0.0004138946533203125 s - loss: 0.4 - acc: 0.6 - val_loss: 0.0 - val_acc: 1.0\n",
      "Epoch 4/100 : 0.0003635883331298828 s - loss: 0.4 - acc: 0.6 - val_loss: 0.0 - val_acc: 1.0\n",
      "Epoch 5/100 : 0.00034046173095703125 s - loss: 0.4 - acc: 0.6 - val_loss: 0.0 - val_acc: 1.0\n",
      "Epoch 6/100 : 0.0003230571746826172 s - loss: 0.4 - acc: 0.6 - val_loss: 0.0 - val_acc: 1.0\n",
      "Epoch 7/100 : 0.0003504753112792969 s - loss: 0.4 - acc: 0.6 - val_loss: 0.0 - val_acc: 1.0\n",
      "Epoch 8/100 : 0.0003190040588378906 s - loss: 0.4 - acc: 0.6 - val_loss: 0.0 - val_acc: 1.0\n",
      "Epoch 9/100 : 0.00032329559326171875 s - loss: 0.4 - acc: 0.6 - val_loss: 0.0 - val_acc: 1.0\n",
      "Epoch 10/100 : 0.0003185272216796875 s - loss: 0.4 - acc: 0.6 - val_loss: 0.0 - val_acc: 1.0\n",
      "Epoch 11/100 : 0.00031685829162597656 s - loss: 0.4 - acc: 0.6 - val_loss: 0.0 - val_acc: 1.0\n",
      "Epoch 12/100 : 0.00032019615173339844 s - loss: 0.4 - acc: 0.6 - val_loss: 0.0 - val_acc: 1.0\n",
      "Epoch 13/100 : 0.00032067298889160156 s - loss: 0.4 - acc: 0.6 - val_loss: 0.0 - val_acc: 1.0\n",
      "Epoch 14/100 : 0.00031757354736328125 s - loss: 0.4 - acc: 0.6 - val_loss: 0.0 - val_acc: 1.0\n",
      "Epoch 15/100 : 0.0003523826599121094 s - loss: 0.4 - acc: 0.6 - val_loss: 0.0 - val_acc: 1.0\n",
      "Epoch 16/100 : 0.00031638145446777344 s - loss: 0.4 - acc: 0.6 - val_loss: 0.0 - val_acc: 1.0\n",
      "Epoch 17/100 : 0.0003154277801513672 s - loss: 0.4 - acc: 0.6 - val_loss: 0.0 - val_acc: 1.0\n",
      "Epoch 18/100 : 0.00032138824462890625 s - loss: 0.4 - acc: 0.6 - val_loss: 0.0 - val_acc: 1.0\n",
      "Epoch 19/100 : 0.000316619873046875 s - loss: 0.4 - acc: 0.6 - val_loss: 0.0 - val_acc: 1.0\n",
      "Epoch 20/100 : 0.0003159046173095703 s - loss: 0.4 - acc: 0.6 - val_loss: 0.0 - val_acc: 1.0\n",
      "Epoch 21/100 : 0.0003211498260498047 s - loss: 0.4 - acc: 0.6 - val_loss: 0.0 - val_acc: 1.0\n",
      "Epoch 22/100 : 0.00031495094299316406 s - loss: 0.4 - acc: 0.6 - val_loss: 0.0 - val_acc: 1.0\n",
      "Epoch 23/100 : 0.00042700767517089844 s - loss: 0.4 - acc: 0.6 - val_loss: 0.0 - val_acc: 1.0\n",
      "Epoch 24/100 : 0.00042366981506347656 s - loss: 0.4 - acc: 0.6 - val_loss: 0.0 - val_acc: 1.0\n",
      "Epoch 25/100 : 0.0004210472106933594 s - loss: 0.4 - acc: 0.6 - val_loss: 0.0 - val_acc: 1.0\n",
      "Epoch 26/100 : 0.000423431396484375 s - loss: 0.4 - acc: 0.6 - val_loss: 0.0 - val_acc: 1.0\n",
      "Epoch 27/100 : 0.00041556358337402344 s - loss: 0.4 - acc: 0.6 - val_loss: 0.0 - val_acc: 1.0\n",
      "Epoch 28/100 : 0.00034308433532714844 s - loss: 0.4 - acc: 0.6 - val_loss: 0.0 - val_acc: 1.0\n",
      "Epoch 29/100 : 0.00034880638122558594 s - loss: 0.4 - acc: 0.6 - val_loss: 0.0 - val_acc: 1.0\n",
      "Epoch 30/100 : 0.00031876564025878906 s - loss: 0.4 - acc: 0.6 - val_loss: 0.0 - val_acc: 1.0\n",
      "Epoch 31/100 : 0.0003216266632080078 s - loss: 0.4 - acc: 0.6 - val_loss: 0.0 - val_acc: 1.0\n",
      "Epoch 32/100 : 0.0003180503845214844 s - loss: 0.4 - acc: 0.6 - val_loss: 0.0 - val_acc: 1.0\n",
      "Epoch 33/100 : 0.00031828880310058594 s - loss: 0.4 - acc: 0.6 - val_loss: 0.0 - val_acc: 1.0\n",
      "Epoch 34/100 : 0.0003228187561035156 s - loss: 0.4 - acc: 0.6 - val_loss: 0.0 - val_acc: 1.0\n",
      "Epoch 35/100 : 0.00031685829162597656 s - loss: 0.4 - acc: 0.6 - val_loss: 0.0 - val_acc: 1.0\n",
      "Epoch 36/100 : 0.00031757354736328125 s - loss: 0.4 - acc: 0.6 - val_loss: 0.0 - val_acc: 1.0\n",
      "Epoch 37/100 : 0.00035071372985839844 s - loss: 0.4 - acc: 0.6 - val_loss: 0.0 - val_acc: 1.0\n",
      "Epoch 38/100 : 0.0003178119659423828 s - loss: 0.4 - acc: 0.6 - val_loss: 0.0 - val_acc: 1.0\n",
      "Epoch 39/100 : 0.0003151893615722656 s - loss: 0.4 - acc: 0.6 - val_loss: 0.0 - val_acc: 1.0\n",
      "Epoch 40/100 : 0.0003228187561035156 s - loss: 0.4 - acc: 0.6 - val_loss: 0.0 - val_acc: 1.0\n",
      "Epoch 41/100 : 0.0003161430358886719 s - loss: 0.4 - acc: 0.6 - val_loss: 0.0 - val_acc: 1.0\n",
      "Epoch 42/100 : 0.00032448768615722656 s - loss: 0.4 - acc: 0.6 - val_loss: 0.0 - val_acc: 1.0\n",
      "Epoch 43/100 : 0.00032258033752441406 s - loss: 0.4 - acc: 0.6 - val_loss: 0.0 - val_acc: 1.0\n",
      "Epoch 44/100 : 0.0003178119659423828 s - loss: 0.4 - acc: 0.6 - val_loss: 0.0 - val_acc: 1.0\n",
      "Epoch 45/100 : 0.0004277229309082031 s - loss: 0.4 - acc: 0.6 - val_loss: 0.0 - val_acc: 1.0\n",
      "Epoch 46/100 : 0.0003170967102050781 s - loss: 0.4 - acc: 0.6 - val_loss: 0.0 - val_acc: 1.0\n",
      "Epoch 47/100 : 0.000316619873046875 s - loss: 0.4 - acc: 0.6 - val_loss: 0.0 - val_acc: 1.0\n",
      "Epoch 48/100 : 0.0003159046173095703 s - loss: 0.4 - acc: 0.6 - val_loss: 0.0 - val_acc: 1.0\n",
      "Epoch 49/100 : 0.0003223419189453125 s - loss: 0.4 - acc: 0.6 - val_loss: 0.0 - val_acc: 1.0\n",
      "Epoch 50/100 : 0.00031685829162597656 s - loss: 0.4 - acc: 0.6 - val_loss: 0.0 - val_acc: 1.0\n",
      "Epoch 51/100 : 0.0003178119659423828 s - loss: 0.4 - acc: 0.6 - val_loss: 0.0 - val_acc: 1.0\n",
      "Epoch 52/100 : 0.0003192424774169922 s - loss: 0.4 - acc: 0.6 - val_loss: 0.0 - val_acc: 1.0\n",
      "Epoch 53/100 : 0.0003287792205810547 s - loss: 0.4 - acc: 0.6 - val_loss: 0.0 - val_acc: 1.0\n",
      "Epoch 54/100 : 0.00031685829162597656 s - loss: 0.4 - acc: 0.6 - val_loss: 0.0 - val_acc: 1.0\n",
      "Epoch 55/100 : 0.00032210350036621094 s - loss: 0.4 - acc: 0.6 - val_loss: 0.0 - val_acc: 1.0\n",
      "Epoch 56/100 : 0.00031757354736328125 s - loss: 0.4 - acc: 0.6 - val_loss: 0.0 - val_acc: 1.0\n",
      "Epoch 57/100 : 0.0003180503845214844 s - loss: 0.4 - acc: 0.6 - val_loss: 0.0 - val_acc: 1.0\n",
      "Epoch 58/100 : 0.0003211498260498047 s - loss: 0.4 - acc: 0.6 - val_loss: 0.0 - val_acc: 1.0\n",
      "Epoch 59/100 : 0.0003192424774169922 s - loss: 0.4 - acc: 0.6 - val_loss: 0.0 - val_acc: 1.0\n",
      "Epoch 60/100 : 0.00031757354736328125 s - loss: 0.4 - acc: 0.6 - val_loss: 0.0 - val_acc: 1.0\n",
      "Epoch 61/100 : 0.00032258033752441406 s - loss: 0.4 - acc: 0.6 - val_loss: 0.0 - val_acc: 1.0\n",
      "Epoch 62/100 : 0.00034618377685546875 s - loss: 0.4 - acc: 0.6 - val_loss: 0.0 - val_acc: 1.0\n",
      "Epoch 63/100 : 0.000316619873046875 s - loss: 0.4 - acc: 0.6 - val_loss: 0.0 - val_acc: 1.0\n",
      "Epoch 64/100 : 0.0003380775451660156 s - loss: 0.4 - acc: 0.6 - val_loss: 0.0 - val_acc: 1.0\n",
      "Epoch 65/100 : 0.00032901763916015625 s - loss: 0.4 - acc: 0.6 - val_loss: 0.0 - val_acc: 1.0\n",
      "Epoch 66/100 : 0.0003178119659423828 s - loss: 0.4 - acc: 0.6 - val_loss: 0.0 - val_acc: 1.0\n",
      "Epoch 67/100 : 0.00032258033752441406 s - loss: 0.4 - acc: 0.6 - val_loss: 0.0 - val_acc: 1.0\n",
      "Epoch 68/100 : 0.0003464221954345703 s - loss: 0.4 - acc: 0.6 - val_loss: 0.0 - val_acc: 1.0\n",
      "Epoch 69/100 : 0.00031685829162597656 s - loss: 0.4 - acc: 0.6 - val_loss: 0.0 - val_acc: 1.0\n",
      "Epoch 70/100 : 0.0003211498260498047 s - loss: 0.4 - acc: 0.6 - val_loss: 0.0 - val_acc: 1.0\n",
      "Epoch 71/100 : 0.0003204345703125 s - loss: 0.4 - acc: 0.6 - val_loss: 0.0 - val_acc: 1.0\n",
      "Epoch 72/100 : 0.00031566619873046875 s - loss: 0.4 - acc: 0.6 - val_loss: 0.0 - val_acc: 1.0\n",
      "Epoch 73/100 : 0.00032329559326171875 s - loss: 0.4 - acc: 0.6 - val_loss: 0.0 - val_acc: 1.0\n",
      "Epoch 74/100 : 0.00031876564025878906 s - loss: 0.4 - acc: 0.6 - val_loss: 0.0 - val_acc: 1.0\n",
      "Epoch 75/100 : 0.0003173351287841797 s - loss: 0.4 - acc: 0.6 - val_loss: 0.0 - val_acc: 1.0\n",
      "Epoch 76/100 : 0.0003504753112792969 s - loss: 0.4 - acc: 0.6 - val_loss: 0.0 - val_acc: 1.0\n",
      "Epoch 77/100 : 0.0003178119659423828 s - loss: 0.4 - acc: 0.6 - val_loss: 0.0 - val_acc: 1.0\n",
      "Epoch 78/100 : 0.0003387928009033203 s - loss: 0.4 - acc: 0.6 - val_loss: 0.0 - val_acc: 1.0\n",
      "Epoch 79/100 : 0.0003223419189453125 s - loss: 0.4 - acc: 0.6 - val_loss: 0.0 - val_acc: 1.0\n",
      "Epoch 80/100 : 0.00031566619873046875 s - loss: 0.4 - acc: 0.6 - val_loss: 0.0 - val_acc: 1.0\n",
      "Epoch 81/100 : 0.0003139972686767578 s - loss: 0.4 - acc: 0.6 - val_loss: 0.0 - val_acc: 1.0\n",
      "Epoch 82/100 : 0.0003223419189453125 s - loss: 0.4 - acc: 0.6 - val_loss: 0.0 - val_acc: 1.0\n",
      "Epoch 83/100 : 0.00031685829162597656 s - loss: 0.4 - acc: 0.6 - val_loss: 0.0 - val_acc: 1.0\n",
      "Epoch 84/100 : 0.0003376007080078125 s - loss: 0.4 - acc: 0.6 - val_loss: 0.0 - val_acc: 1.0\n",
      "Epoch 85/100 : 0.00033211708068847656 s - loss: 0.4 - acc: 0.6 - val_loss: 0.0 - val_acc: 1.0\n",
      "Epoch 86/100 : 0.00032019615173339844 s - loss: 0.4 - acc: 0.6 - val_loss: 0.0 - val_acc: 1.0\n",
      "Epoch 87/100 : 0.00031447410583496094 s - loss: 0.4 - acc: 0.6 - val_loss: 0.0 - val_acc: 1.0\n",
      "Epoch 88/100 : 0.00032019615173339844 s - loss: 0.4 - acc: 0.6 - val_loss: 0.0 - val_acc: 1.0\n",
      "Epoch 89/100 : 0.0003190040588378906 s - loss: 0.4 - acc: 0.6 - val_loss: 0.0 - val_acc: 1.0\n"
     ]
    },
    {
     "name": "stdout",
     "output_type": "stream",
     "text": [
      "Epoch 90/100 : 0.0003173351287841797 s - loss: 0.4 - acc: 0.6 - val_loss: 0.0 - val_acc: 1.0\n",
      "Epoch 91/100 : 0.00041031837463378906 s - loss: 0.4 - acc: 0.6 - val_loss: 0.0 - val_acc: 1.0\n",
      "Epoch 92/100 : 0.0003485679626464844 s - loss: 0.4 - acc: 0.6 - val_loss: 0.0 - val_acc: 1.0\n",
      "Epoch 93/100 : 0.0003197193145751953 s - loss: 0.4 - acc: 0.6 - val_loss: 0.0 - val_acc: 1.0\n",
      "Epoch 94/100 : 0.00032210350036621094 s - loss: 0.4 - acc: 0.6 - val_loss: 0.0 - val_acc: 1.0\n",
      "Epoch 95/100 : 0.00035881996154785156 s - loss: 0.4 - acc: 0.6 - val_loss: 0.0 - val_acc: 1.0\n",
      "Epoch 96/100 : 0.00036525726318359375 s - loss: 0.4 - acc: 0.6 - val_loss: 0.0 - val_acc: 1.0\n",
      "Epoch 97/100 : 0.0003197193145751953 s - loss: 0.4 - acc: 0.6 - val_loss: 0.0 - val_acc: 1.0\n",
      "Epoch 98/100 : 0.00031566619873046875 s - loss: 0.4 - acc: 0.6 - val_loss: 0.0 - val_acc: 1.0\n",
      "Epoch 99/100 : 0.00034809112548828125 s - loss: 0.4 - acc: 0.6 - val_loss: 0.0 - val_acc: 1.0\n",
      "Epoch 100/100 : 0.00031828880310058594 s - loss: 0.4 - acc: 0.6 - val_loss: 0.0 - val_acc: 1.0\n"
     ]
    }
   ],
   "source": [
    "neural_network2 = Network([4, 1])\n",
    "neural_network2.fit(train_data, 100, len(X_train), 0.1, validation_split=0.1)"
   ]
  },
  {
   "cell_type": "code",
   "execution_count": 81,
   "metadata": {},
   "outputs": [],
   "source": [
    "end = time.time() - start"
   ]
  },
  {
   "cell_type": "code",
   "execution_count": 82,
   "metadata": {},
   "outputs": [
    {
     "data": {
      "image/png": "[encoded data removed]",
      "text/plain": [
       "<Figure size 432x288 with 1 Axes>"
      ]
     },
     "metadata": {},
     "output_type": "display_data"
    }
   ],
   "source": [
    "plt.plot(neural_network2.history['acc'])\n",
    "plt.plot(neural_network2.history['val_acc'])\n",
    "plt.title('Model accuracy')\n",
    "plt.ylabel('Accuracy')\n",
    "plt.xlabel('Epoch')\n",
    "plt.legend(['Train', 'Test'], loc='upper left')\n",
    "plt.show()"
   ]
  },
  {
   "cell_type": "code",
   "execution_count": 83,
   "metadata": {},
   "outputs": [
    {
     "data": {
      "image/png": "[encoded data removed]",
      "text/plain": [
       "<Figure size 432x288 with 1 Axes>"
      ]
     },
     "metadata": {},
     "output_type": "display_data"
    }
   ],
   "source": [
    "plt.plot(neural_network1.history['loss'])\n",
    "plt.plot(neural_network1.history['val_loss'])\n",
    "plt.title('Model loss')\n",
    "plt.ylabel('Loss')\n",
    "plt.xlabel('Epoch')\n",
    "plt.legend(['Train', 'Test'], loc='upper left')\n",
    "plt.show()"
   ]
  },
  {
   "cell_type": "code",
   "execution_count": 84,
   "metadata": {},
   "outputs": [],
   "source": [
    "accuracy2, loss2 = neural_network2.evaluate(test_data)"
   ]
  },
  {
   "cell_type": "code",
   "execution_count": 85,
   "metadata": {},
   "outputs": [
    {
     "name": "stdout",
     "output_type": "stream",
     "text": [
      "Loss: 50.0 %\n",
      "Accuracy 50.0 %\n",
      "Time: 0.15543508529663086 ms\n"
     ]
    }
   ],
   "source": [
    "print(\"Loss: {} %\".format(loss2*100.0))\n",
    "print(\"Accuracy {} %\".format(accuracy2*100.0))\n",
    "print(\"Time: {} ms\".format(end))"
   ]
  },
  {
   "cell_type": "markdown",
   "metadata": {},
   "source": [
    "##### 1.b.2.3.2 Keras Model"
   ]
  },
  {
   "cell_type": "markdown",
   "metadata": {},
   "source": [
    "Reinitialisasi model keras untuk eksperimen kedua."
   ]
  },
  {
   "cell_type": "code",
   "execution_count": 86,
   "metadata": {},
   "outputs": [],
   "source": [
    "network2 = Sequential([\n",
    "    Dense(4, input_shape=(4,)),\n",
    "    Dense(10, activation='sigmoid'),\n",
    "    Dense(8, activation='sigmoid'),\n",
    "    Dense(1, activation='sigmoid')\n",
    "])"
   ]
  },
  {
   "cell_type": "code",
   "execution_count": 87,
   "metadata": {},
   "outputs": [],
   "source": [
    "network2.compile(optimizer='SGD', loss='mse', metrics=['accuracy'])"
   ]
  },
  {
   "cell_type": "code",
   "execution_count": 88,
   "metadata": {},
   "outputs": [
    {
     "name": "stdout",
     "output_type": "stream",
     "text": [
      "_________________________________________________________________\n",
      "Layer (type)                 Output Shape              Param #   \n",
      "=================================================================\n",
      "dense_17 (Dense)             (None, 4)                 20        \n",
      "_________________________________________________________________\n",
      "dense_18 (Dense)             (None, 10)                50        \n",
      "_________________________________________________________________\n",
      "dense_19 (Dense)             (None, 8)                 88        \n",
      "_________________________________________________________________\n",
      "dense_20 (Dense)             (None, 1)                 9         \n",
      "=================================================================\n",
      "Total params: 167\n",
      "Trainable params: 167\n",
      "Non-trainable params: 0\n",
      "_________________________________________________________________\n"
     ]
    }
   ],
   "source": [
    "network2.summary()"
   ]
  },
  {
   "cell_type": "code",
   "execution_count": 89,
   "metadata": {},
   "outputs": [],
   "source": [
    "start = time.time()"
   ]
  },
  {
   "cell_type": "code",
   "execution_count": 90,
   "metadata": {
    "collapsed": true
   },
   "outputs": [
    {
     "name": "stdout",
     "output_type": "stream",
     "text": [
      "Train on 10 samples, validate on 2 samples\n",
      "Epoch 1/100\n",
      "10/10 [==============================] - 0s 16ms/step - loss: 0.3501 - acc: 0.4000 - val_loss: 0.5346 - val_acc: 0.0000e+00\n",
      "Epoch 2/100\n",
      "10/10 [==============================] - 0s 179us/step - loss: 0.3494 - acc: 0.4000 - val_loss: 0.5331 - val_acc: 0.0000e+00\n",
      "Epoch 3/100\n",
      "10/10 [==============================] - 0s 157us/step - loss: 0.3488 - acc: 0.4000 - val_loss: 0.5316 - val_acc: 0.0000e+00\n",
      "Epoch 4/100\n",
      "10/10 [==============================] - 0s 144us/step - loss: 0.3481 - acc: 0.4000 - val_loss: 0.5302 - val_acc: 0.0000e+00\n",
      "Epoch 5/100\n",
      "10/10 [==============================] - 0s 147us/step - loss: 0.3474 - acc: 0.4000 - val_loss: 0.5287 - val_acc: 0.0000e+00\n",
      "Epoch 6/100\n",
      "10/10 [==============================] - 0s 154us/step - loss: 0.3468 - acc: 0.4000 - val_loss: 0.5272 - val_acc: 0.0000e+00\n",
      "Epoch 7/100\n",
      "10/10 [==============================] - 0s 141us/step - loss: 0.3461 - acc: 0.4000 - val_loss: 0.5257 - val_acc: 0.0000e+00\n",
      "Epoch 8/100\n",
      "10/10 [==============================] - 0s 153us/step - loss: 0.3454 - acc: 0.4000 - val_loss: 0.5243 - val_acc: 0.0000e+00\n",
      "Epoch 9/100\n",
      "10/10 [==============================] - 0s 148us/step - loss: 0.3448 - acc: 0.4000 - val_loss: 0.5228 - val_acc: 0.0000e+00\n",
      "Epoch 10/100\n",
      "10/10 [==============================] - 0s 142us/step - loss: 0.3441 - acc: 0.4000 - val_loss: 0.5213 - val_acc: 0.0000e+00\n",
      "Epoch 11/100\n",
      "10/10 [==============================] - 0s 138us/step - loss: 0.3435 - acc: 0.4000 - val_loss: 0.5198 - val_acc: 0.0000e+00\n",
      "Epoch 12/100\n",
      "10/10 [==============================] - 0s 294us/step - loss: 0.3428 - acc: 0.4000 - val_loss: 0.5184 - val_acc: 0.0000e+00\n",
      "Epoch 13/100\n",
      "10/10 [==============================] - 0s 198us/step - loss: 0.3422 - acc: 0.4000 - val_loss: 0.5169 - val_acc: 0.0000e+00\n",
      "Epoch 14/100\n",
      "10/10 [==============================] - 0s 181us/step - loss: 0.3415 - acc: 0.4000 - val_loss: 0.5154 - val_acc: 0.0000e+00\n",
      "Epoch 15/100\n",
      "10/10 [==============================] - 0s 193us/step - loss: 0.3408 - acc: 0.4000 - val_loss: 0.5139 - val_acc: 0.0000e+00\n",
      "Epoch 16/100\n",
      "10/10 [==============================] - 0s 149us/step - loss: 0.3402 - acc: 0.4000 - val_loss: 0.5125 - val_acc: 0.0000e+00\n",
      "Epoch 17/100\n",
      "10/10 [==============================] - 0s 169us/step - loss: 0.3395 - acc: 0.4000 - val_loss: 0.5110 - val_acc: 0.0000e+00\n",
      "Epoch 18/100\n",
      "10/10 [==============================] - 0s 161us/step - loss: 0.3389 - acc: 0.4000 - val_loss: 0.5095 - val_acc: 0.0000e+00\n",
      "Epoch 19/100\n",
      "10/10 [==============================] - 0s 167us/step - loss: 0.3382 - acc: 0.4000 - val_loss: 0.5081 - val_acc: 0.0000e+00\n",
      "Epoch 20/100\n",
      "10/10 [==============================] - 0s 156us/step - loss: 0.3376 - acc: 0.4000 - val_loss: 0.5066 - val_acc: 0.0000e+00\n",
      "Epoch 21/100\n",
      "10/10 [==============================] - 0s 160us/step - loss: 0.3370 - acc: 0.4000 - val_loss: 0.5051 - val_acc: 0.0000e+00\n",
      "Epoch 22/100\n",
      "10/10 [==============================] - 0s 151us/step - loss: 0.3363 - acc: 0.4000 - val_loss: 0.5037 - val_acc: 0.0000e+00\n",
      "Epoch 23/100\n",
      "10/10 [==============================] - 0s 132us/step - loss: 0.3357 - acc: 0.4000 - val_loss: 0.5022 - val_acc: 0.0000e+00\n",
      "Epoch 24/100\n",
      "10/10 [==============================] - 0s 292us/step - loss: 0.3350 - acc: 0.4000 - val_loss: 0.5008 - val_acc: 0.0000e+00\n",
      "Epoch 25/100\n",
      "10/10 [==============================] - 0s 228us/step - loss: 0.3344 - acc: 0.4000 - val_loss: 0.4993 - val_acc: 0.0000e+00\n",
      "Epoch 26/100\n",
      "10/10 [==============================] - 0s 142us/step - loss: 0.3338 - acc: 0.4000 - val_loss: 0.4979 - val_acc: 0.0000e+00\n",
      "Epoch 27/100\n",
      "10/10 [==============================] - 0s 139us/step - loss: 0.3331 - acc: 0.4000 - val_loss: 0.4964 - val_acc: 0.0000e+00\n",
      "Epoch 28/100\n",
      "10/10 [==============================] - 0s 138us/step - loss: 0.3325 - acc: 0.4000 - val_loss: 0.4949 - val_acc: 0.0000e+00\n",
      "Epoch 29/100\n",
      "10/10 [==============================] - 0s 118us/step - loss: 0.3319 - acc: 0.4000 - val_loss: 0.4935 - val_acc: 0.0000e+00\n",
      "Epoch 30/100\n",
      "10/10 [==============================] - 0s 120us/step - loss: 0.3313 - acc: 0.4000 - val_loss: 0.4920 - val_acc: 0.0000e+00\n",
      "Epoch 31/100\n",
      "10/10 [==============================] - 0s 119us/step - loss: 0.3306 - acc: 0.4000 - val_loss: 0.4906 - val_acc: 0.0000e+00\n",
      "Epoch 32/100\n",
      "10/10 [==============================] - 0s 390us/step - loss: 0.3300 - acc: 0.4000 - val_loss: 0.4891 - val_acc: 0.0000e+00\n",
      "Epoch 33/100\n",
      "10/10 [==============================] - 0s 130us/step - loss: 0.3294 - acc: 0.4000 - val_loss: 0.4877 - val_acc: 0.0000e+00\n",
      "Epoch 34/100\n",
      "10/10 [==============================] - 0s 137us/step - loss: 0.3288 - acc: 0.4000 - val_loss: 0.4863 - val_acc: 0.0000e+00\n",
      "Epoch 35/100\n",
      "10/10 [==============================] - 0s 121us/step - loss: 0.3282 - acc: 0.4000 - val_loss: 0.4848 - val_acc: 0.0000e+00\n",
      "Epoch 36/100\n",
      "10/10 [==============================] - 0s 123us/step - loss: 0.3275 - acc: 0.4000 - val_loss: 0.4834 - val_acc: 0.0000e+00\n",
      "Epoch 37/100\n",
      "10/10 [==============================] - 0s 122us/step - loss: 0.3269 - acc: 0.4000 - val_loss: 0.4819 - val_acc: 0.0000e+00\n",
      "Epoch 38/100\n",
      "10/10 [==============================] - 0s 133us/step - loss: 0.3263 - acc: 0.4000 - val_loss: 0.4805 - val_acc: 0.0000e+00\n",
      "Epoch 39/100\n",
      "10/10 [==============================] - 0s 138us/step - loss: 0.3257 - acc: 0.4000 - val_loss: 0.4791 - val_acc: 0.0000e+00\n",
      "Epoch 40/100\n",
      "10/10 [==============================] - 0s 169us/step - loss: 0.3251 - acc: 0.4000 - val_loss: 0.4777 - val_acc: 0.0000e+00\n",
      "Epoch 41/100\n",
      "10/10 [==============================] - 0s 160us/step - loss: 0.3245 - acc: 0.4000 - val_loss: 0.4762 - val_acc: 0.0000e+00\n",
      "Epoch 42/100\n",
      "10/10 [==============================] - 0s 162us/step - loss: 0.3239 - acc: 0.4000 - val_loss: 0.4748 - val_acc: 0.0000e+00\n",
      "Epoch 43/100\n",
      "10/10 [==============================] - 0s 150us/step - loss: 0.3233 - acc: 0.4000 - val_loss: 0.4734 - val_acc: 0.0000e+00\n",
      "Epoch 44/100\n",
      "10/10 [==============================] - 0s 133us/step - loss: 0.3227 - acc: 0.4000 - val_loss: 0.4720 - val_acc: 0.0000e+00\n",
      "Epoch 45/100\n",
      "10/10 [==============================] - 0s 118us/step - loss: 0.3221 - acc: 0.4000 - val_loss: 0.4705 - val_acc: 0.0000e+00\n",
      "Epoch 46/100\n",
      "10/10 [==============================] - 0s 129us/step - loss: 0.3215 - acc: 0.4000 - val_loss: 0.4691 - val_acc: 0.0000e+00\n",
      "Epoch 47/100\n",
      "10/10 [==============================] - 0s 116us/step - loss: 0.3209 - acc: 0.4000 - val_loss: 0.4677 - val_acc: 0.0000e+00\n",
      "Epoch 48/100\n",
      "10/10 [==============================] - 0s 132us/step - loss: 0.3203 - acc: 0.4000 - val_loss: 0.4663 - val_acc: 0.0000e+00\n",
      "Epoch 49/100\n",
      "10/10 [==============================] - 0s 135us/step - loss: 0.3198 - acc: 0.4000 - val_loss: 0.4649 - val_acc: 0.0000e+00\n",
      "Epoch 50/100\n",
      "10/10 [==============================] - 0s 182us/step - loss: 0.3192 - acc: 0.4000 - val_loss: 0.4635 - val_acc: 0.0000e+00\n",
      "Epoch 51/100\n",
      "10/10 [==============================] - 0s 182us/step - loss: 0.3186 - acc: 0.4000 - val_loss: 0.4621 - val_acc: 0.0000e+00\n",
      "Epoch 52/100\n",
      "10/10 [==============================] - 0s 139us/step - loss: 0.3180 - acc: 0.4000 - val_loss: 0.4607 - val_acc: 0.0000e+00\n",
      "Epoch 53/100\n",
      "10/10 [==============================] - 0s 157us/step - loss: 0.3174 - acc: 0.4000 - val_loss: 0.4593 - val_acc: 0.0000e+00\n",
      "Epoch 54/100\n",
      "10/10 [==============================] - 0s 137us/step - loss: 0.3169 - acc: 0.4000 - val_loss: 0.4579 - val_acc: 0.0000e+00\n",
      "Epoch 55/100\n",
      "10/10 [==============================] - 0s 120us/step - loss: 0.3163 - acc: 0.4000 - val_loss: 0.4565 - val_acc: 0.0000e+00\n",
      "Epoch 56/100\n",
      "10/10 [==============================] - 0s 118us/step - loss: 0.3157 - acc: 0.4000 - val_loss: 0.4551 - val_acc: 0.0000e+00\n",
      "Epoch 57/100\n",
      "10/10 [==============================] - 0s 154us/step - loss: 0.3152 - acc: 0.4000 - val_loss: 0.4537 - val_acc: 0.0000e+00\n",
      "Epoch 58/100\n",
      "10/10 [==============================] - 0s 169us/step - loss: 0.3146 - acc: 0.4000 - val_loss: 0.4524 - val_acc: 0.0000e+00\n",
      "Epoch 59/100\n",
      "10/10 [==============================] - 0s 164us/step - loss: 0.3140 - acc: 0.4000 - val_loss: 0.4510 - val_acc: 0.0000e+00\n",
      "Epoch 60/100\n",
      "10/10 [==============================] - 0s 150us/step - loss: 0.3135 - acc: 0.4000 - val_loss: 0.4496 - val_acc: 0.0000e+00\n"
     ]
    },
    {
     "name": "stdout",
     "output_type": "stream",
     "text": [
      "Epoch 61/100\n",
      "10/10 [==============================] - 0s 158us/step - loss: 0.3129 - acc: 0.4000 - val_loss: 0.4482 - val_acc: 0.0000e+00\n",
      "Epoch 62/100\n",
      "10/10 [==============================] - 0s 143us/step - loss: 0.3124 - acc: 0.4000 - val_loss: 0.4469 - val_acc: 0.0000e+00\n",
      "Epoch 63/100\n",
      "10/10 [==============================] - 0s 115us/step - loss: 0.3118 - acc: 0.4000 - val_loss: 0.4455 - val_acc: 0.0000e+00\n",
      "Epoch 64/100\n",
      "10/10 [==============================] - 0s 121us/step - loss: 0.3113 - acc: 0.4000 - val_loss: 0.4441 - val_acc: 0.0000e+00\n",
      "Epoch 65/100\n",
      "10/10 [==============================] - 0s 172us/step - loss: 0.3107 - acc: 0.4000 - val_loss: 0.4428 - val_acc: 0.0000e+00\n",
      "Epoch 66/100\n",
      "10/10 [==============================] - 0s 126us/step - loss: 0.3102 - acc: 0.4000 - val_loss: 0.4414 - val_acc: 0.0000e+00\n",
      "Epoch 67/100\n",
      "10/10 [==============================] - 0s 144us/step - loss: 0.3096 - acc: 0.4000 - val_loss: 0.4400 - val_acc: 0.0000e+00\n",
      "Epoch 68/100\n",
      "10/10 [==============================] - 0s 133us/step - loss: 0.3091 - acc: 0.4000 - val_loss: 0.4387 - val_acc: 0.0000e+00\n",
      "Epoch 69/100\n",
      "10/10 [==============================] - 0s 161us/step - loss: 0.3086 - acc: 0.4000 - val_loss: 0.4373 - val_acc: 0.0000e+00\n",
      "Epoch 70/100\n",
      "10/10 [==============================] - 0s 199us/step - loss: 0.3080 - acc: 0.4000 - val_loss: 0.4360 - val_acc: 0.0000e+00\n",
      "Epoch 71/100\n",
      "10/10 [==============================] - 0s 128us/step - loss: 0.3075 - acc: 0.4000 - val_loss: 0.4346 - val_acc: 0.0000e+00\n",
      "Epoch 72/100\n",
      "10/10 [==============================] - 0s 149us/step - loss: 0.3070 - acc: 0.4000 - val_loss: 0.4333 - val_acc: 0.0000e+00\n",
      "Epoch 73/100\n",
      "10/10 [==============================] - 0s 123us/step - loss: 0.3064 - acc: 0.4000 - val_loss: 0.4320 - val_acc: 0.0000e+00\n",
      "Epoch 74/100\n",
      "10/10 [==============================] - 0s 119us/step - loss: 0.3059 - acc: 0.4000 - val_loss: 0.4306 - val_acc: 0.0000e+00\n",
      "Epoch 75/100\n",
      "10/10 [==============================] - 0s 143us/step - loss: 0.3054 - acc: 0.4000 - val_loss: 0.4293 - val_acc: 0.0000e+00\n",
      "Epoch 76/100\n",
      "10/10 [==============================] - 0s 166us/step - loss: 0.3049 - acc: 0.4000 - val_loss: 0.4279 - val_acc: 0.0000e+00\n",
      "Epoch 77/100\n",
      "10/10 [==============================] - 0s 151us/step - loss: 0.3044 - acc: 0.4000 - val_loss: 0.4266 - val_acc: 0.0000e+00\n",
      "Epoch 78/100\n",
      "10/10 [==============================] - 0s 138us/step - loss: 0.3038 - acc: 0.4000 - val_loss: 0.4253 - val_acc: 0.0000e+00\n",
      "Epoch 79/100\n",
      "10/10 [==============================] - 0s 128us/step - loss: 0.3033 - acc: 0.4000 - val_loss: 0.4240 - val_acc: 0.0000e+00\n",
      "Epoch 80/100\n",
      "10/10 [==============================] - 0s 116us/step - loss: 0.3028 - acc: 0.4000 - val_loss: 0.4226 - val_acc: 0.0000e+00\n",
      "Epoch 81/100\n",
      "10/10 [==============================] - 0s 145us/step - loss: 0.3023 - acc: 0.4000 - val_loss: 0.4213 - val_acc: 0.0000e+00\n",
      "Epoch 82/100\n",
      "10/10 [==============================] - 0s 123us/step - loss: 0.3018 - acc: 0.4000 - val_loss: 0.4200 - val_acc: 0.0000e+00\n",
      "Epoch 83/100\n",
      "10/10 [==============================] - 0s 136us/step - loss: 0.3013 - acc: 0.4000 - val_loss: 0.4187 - val_acc: 0.0000e+00\n",
      "Epoch 84/100\n",
      "10/10 [==============================] - 0s 200us/step - loss: 0.3008 - acc: 0.4000 - val_loss: 0.4173 - val_acc: 0.0000e+00\n",
      "Epoch 85/100\n",
      "10/10 [==============================] - 0s 135us/step - loss: 0.3003 - acc: 0.4000 - val_loss: 0.4160 - val_acc: 0.0000e+00\n",
      "Epoch 86/100\n",
      "10/10 [==============================] - 0s 123us/step - loss: 0.2998 - acc: 0.4000 - val_loss: 0.4147 - val_acc: 0.0000e+00\n",
      "Epoch 87/100\n",
      "10/10 [==============================] - 0s 123us/step - loss: 0.2993 - acc: 0.4000 - val_loss: 0.4134 - val_acc: 0.0000e+00\n",
      "Epoch 88/100\n",
      "10/10 [==============================] - 0s 121us/step - loss: 0.2988 - acc: 0.4000 - val_loss: 0.4120 - val_acc: 0.0000e+00\n",
      "Epoch 89/100\n",
      "10/10 [==============================] - 0s 120us/step - loss: 0.2983 - acc: 0.4000 - val_loss: 0.4107 - val_acc: 0.0000e+00\n",
      "Epoch 90/100\n",
      "10/10 [==============================] - 0s 119us/step - loss: 0.2978 - acc: 0.4000 - val_loss: 0.4094 - val_acc: 0.0000e+00\n",
      "Epoch 91/100\n",
      "10/10 [==============================] - 0s 107us/step - loss: 0.2973 - acc: 0.4000 - val_loss: 0.4080 - val_acc: 0.0000e+00\n",
      "Epoch 92/100\n",
      "10/10 [==============================] - 0s 131us/step - loss: 0.2968 - acc: 0.4000 - val_loss: 0.4067 - val_acc: 0.0000e+00\n",
      "Epoch 93/100\n",
      "10/10 [==============================] - 0s 111us/step - loss: 0.2963 - acc: 0.4000 - val_loss: 0.4053 - val_acc: 0.0000e+00\n",
      "Epoch 94/100\n",
      "10/10 [==============================] - 0s 134us/step - loss: 0.2958 - acc: 0.4000 - val_loss: 0.4039 - val_acc: 0.0000e+00\n",
      "Epoch 95/100\n",
      "10/10 [==============================] - 0s 134us/step - loss: 0.2953 - acc: 0.4000 - val_loss: 0.4026 - val_acc: 0.0000e+00\n",
      "Epoch 96/100\n",
      "10/10 [==============================] - 0s 162us/step - loss: 0.2948 - acc: 0.4000 - val_loss: 0.4012 - val_acc: 0.0000e+00\n",
      "Epoch 97/100\n",
      "10/10 [==============================] - 0s 131us/step - loss: 0.2943 - acc: 0.4000 - val_loss: 0.3997 - val_acc: 0.0000e+00\n",
      "Epoch 98/100\n",
      "10/10 [==============================] - 0s 142us/step - loss: 0.2938 - acc: 0.4000 - val_loss: 0.3983 - val_acc: 0.0000e+00\n",
      "Epoch 99/100\n",
      "10/10 [==============================] - 0s 167us/step - loss: 0.2933 - acc: 0.4000 - val_loss: 0.3969 - val_acc: 0.0000e+00\n",
      "Epoch 100/100\n",
      "10/10 [==============================] - 0s 221us/step - loss: 0.2927 - acc: 0.4000 - val_loss: 0.3954 - val_acc: 0.0000e+00\n"
     ]
    }
   ],
   "source": [
    "history2 = network2.fit(X_train, y_train, epochs=100, batch_size=len(X_train), validation_split=0.1)"
   ]
  },
  {
   "cell_type": "code",
   "execution_count": 91,
   "metadata": {},
   "outputs": [],
   "source": [
    "end = time.time() - start"
   ]
  },
  {
   "cell_type": "code",
   "execution_count": 92,
   "metadata": {},
   "outputs": [
    {
     "data": {
      "image/png": "[encoded data removed]",
      "text/plain": [
       "<Figure size 432x288 with 1 Axes>"
      ]
     },
     "metadata": {},
     "output_type": "display_data"
    }
   ],
   "source": [
    "plt.plot(history2.history['acc'])\n",
    "plt.plot(history2.history['val_acc'])\n",
    "plt.title('Model accuracy')\n",
    "plt.ylabel('Accuracy')\n",
    "plt.xlabel('Epoch')\n",
    "plt.legend(['Train', 'Test'], loc='upper left')\n",
    "plt.show()"
   ]
  },
  {
   "cell_type": "code",
   "execution_count": 93,
   "metadata": {},
   "outputs": [
    {
     "data": {
      "image/png": "[encoded data removed]",
      "text/plain": [
       "<Figure size 432x288 with 1 Axes>"
      ]
     },
     "metadata": {},
     "output_type": "display_data"
    }
   ],
   "source": [
    "plt.plot(history2.history['loss'])\n",
    "plt.plot(history2.history['val_loss'])\n",
    "plt.title('Model loss')\n",
    "plt.ylabel('Loss')\n",
    "plt.xlabel('Epoch')\n",
    "plt.legend(['Train', 'Test'], loc='upper left')\n",
    "plt.show()"
   ]
  },
  {
   "cell_type": "code",
   "execution_count": 94,
   "metadata": {},
   "outputs": [
    {
     "name": "stdout",
     "output_type": "stream",
     "text": [
      "\r",
      "2/2 [==============================] - 0s 381us/step\n"
     ]
    }
   ],
   "source": [
    "score2 = network2.evaluate(X_test, y_test, batch_size=len(X_train))"
   ]
  },
  {
   "cell_type": "code",
   "execution_count": 95,
   "metadata": {},
   "outputs": [
    {
     "name": "stdout",
     "output_type": "stream",
     "text": [
      "Loss: 26.761144399642944 %\n",
      "Accuracy 50.0 %\n",
      "Time: 0.5860557556152344 ms\n"
     ]
    }
   ],
   "source": [
    "print(\"Loss: {} %\".format(score2[0]*100.0))\n",
    "print(\"Accuracy {} %\".format(score2[1]*100.0))\n",
    "print(\"Time: {} ms\".format(end))"
   ]
  },
  {
   "cell_type": "markdown",
   "metadata": {},
   "source": [
    "### 1.b.2.4 Analisis Eksperimen"
   ]
  },
  {
   "cell_type": "markdown",
   "metadata": {},
   "source": [
    "Berdasarkan hasil eksperimen dengan classifier sendiri dan model keras, dapat disimpulkan dengan tabel berikut ini."
   ]
  },
  {
   "cell_type": "code",
   "execution_count": 112,
   "metadata": {
    "scrolled": true
   },
   "outputs": [
    {
     "data": {
      "text/html": [
       "<div>\n",
       "<style scoped>\n",
       "    .dataframe tbody tr th:only-of-type {\n",
       "        vertical-align: middle;\n",
       "    }\n",
       "\n",
       "    .dataframe tbody tr th {\n",
       "        vertical-align: top;\n",
       "    }\n",
       "\n",
       "    .dataframe thead th {\n",
       "        text-align: right;\n",
       "    }\n",
       "</style>\n",
       "<table border=\"1\" class=\"dataframe\">\n",
       "  <thead>\n",
       "    <tr style=\"text-align: right;\">\n",
       "      <th></th>\n",
       "      <th>Classifier</th>\n",
       "      <th>Batch</th>\n",
       "      <th>Loss</th>\n",
       "      <th>Accuracy</th>\n",
       "    </tr>\n",
       "  </thead>\n",
       "  <tbody>\n",
       "    <tr>\n",
       "      <th>0</th>\n",
       "      <td>Classifier Sendiri</td>\n",
       "      <td>1</td>\n",
       "      <td>0.500000</td>\n",
       "      <td>0.5</td>\n",
       "    </tr>\n",
       "    <tr>\n",
       "      <th>1</th>\n",
       "      <td>Keras Model</td>\n",
       "      <td>12</td>\n",
       "      <td>0.253796</td>\n",
       "      <td>0.5</td>\n",
       "    </tr>\n",
       "    <tr>\n",
       "      <th>2</th>\n",
       "      <td>Classifier Sendiri</td>\n",
       "      <td>1</td>\n",
       "      <td>0.500000</td>\n",
       "      <td>0.5</td>\n",
       "    </tr>\n",
       "    <tr>\n",
       "      <th>3</th>\n",
       "      <td>Keras Model</td>\n",
       "      <td>12</td>\n",
       "      <td>0.267611</td>\n",
       "      <td>0.5</td>\n",
       "    </tr>\n",
       "  </tbody>\n",
       "</table>\n",
       "</div>"
      ],
      "text/plain": [
       "           Classifier  Batch      Loss  Accuracy\n",
       "0  Classifier Sendiri      1  0.500000       0.5\n",
       "1         Keras Model     12  0.253796       0.5\n",
       "2  Classifier Sendiri      1  0.500000       0.5\n",
       "3         Keras Model     12  0.267611       0.5"
      ]
     },
     "execution_count": 112,
     "metadata": {},
     "output_type": "execute_result"
    }
   ],
   "source": [
    "pd.DataFrame({'Classifier' : ['Classifier Sendiri', 'Keras Model', 'Classifier Sendiri', 'Keras Model'],\n",
    "              'Batch' : [1, len(X_train), 1, len(X_train)],\n",
    "              'Loss' :[loss1, score1[0], loss2, score2[0]],\n",
    "              'Accuracy' :[accuracy1, score1[1], accuracy2, score2[1]]})"
   ]
  },
  {
   "cell_type": "markdown",
   "metadata": {},
   "source": [
    "Akurasi yang dihasilkan dari kedua classifier adalah sama. Namun, jika melihat grafik dari akurasi dan loss, terlihat bahwa classifier 4 menghasilkan model yang lebih baik dari yang lain."
   ]
  },
  {
   "cell_type": "markdown",
   "metadata": {},
   "source": [
    "### Pembagian Kerja"
   ]
  },
  {
   "cell_type": "markdown",
   "metadata": {},
   "source": []
  }
 ],
 "metadata": {
  "kernelspec": {
   "display_name": "Python 3",
   "language": "python",
   "name": "python3"
  },
  "language_info": {
   "codemirror_mode": {
    "name": "ipython",
    "version": 3
   },
   "file_extension": ".py",
   "mimetype": "text/x-python",
   "name": "python",
   "nbconvert_exporter": "python",
   "pygments_lexer": "ipython3",
   "version": "3.6.6"
  }
 },
 "nbformat": 4,
 "nbformat_minor": 2
}
