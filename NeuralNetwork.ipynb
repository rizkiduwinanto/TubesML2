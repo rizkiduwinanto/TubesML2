{
 "cells": [
  {
   "cell_type": "code",
   "execution_count": 1,
   "metadata": {},
   "outputs": [],
   "source": [
    "import random\n",
    "import numpy as np\n",
    "import time\n",
    "from sklearn.model_selection import train_test_split"
   ]
  },
  {
   "cell_type": "code",
   "execution_count": 2,
   "metadata": {},
   "outputs": [],
   "source": [
    "class Network(object):\n",
    "    def __init__(self, sizes):\n",
    "        self.sizes = sizes\n",
    "        self.num_layers = len(sizes)\n",
    "        self.biases = [np.random.randn(y, 1) for y in sizes[1:]]\n",
    "        self.weights = [np.random.randn(y, x) for x,y in zip(sizes[:-1], sizes[1:])]\n",
    "        self.history = d = {'acc': [], 'val_acc': [], 'loss': [], 'val_loss': []}\n",
    "    \n",
    "    def feed_forward(self, activation):\n",
    "        for bias, weight in zip(self.biases, self.weights):\n",
    "            activation = sigmoid(np.dot(weight, activation) + bias.transpose()[0])\n",
    "        return activation\n",
    "    \n",
    "    def fit(self, training_data, epochs, mini_batch_size, learning_rate,\n",
    "            momentum=0, validation_data=None, validation_split=0.0):\n",
    "        if validation_split != 0.0 and not validation_data :\n",
    "            training_data, validation_data = train_test_split(training_data, test_size=validation_split, random_state=42)\n",
    "        n_training = len(training_data)\n",
    "        if validation_data or validation_split != 0.0: \n",
    "            n_validation = len(validation_data)\n",
    "            print(\"Train on {} samples, validate on {} samples\".format(n_training, n_validation))\n",
    "        for epoch in range(epochs):\n",
    "            mini_batches = [training_data[k:k + mini_batch_size] for k in range(0, n_training, mini_batch_size)]\n",
    "            previous_weights = self.weights\n",
    "            previous_biases =self.biases\n",
    "            first = True\n",
    "            for mini_batch in mini_batches:\n",
    "                if first: previous_weights, previous_biases = self.weights, self.biases\n",
    "                start = time.time()\n",
    "                previous_weights, previous_biases = self.update_mini_batch(mini_batch, \n",
    "                                                                           learning_rate,\n",
    "                                                                           momentum, \n",
    "                                                                           previous_weights, \n",
    "                                                                           previous_biases)\n",
    "                end = time.time() - start\n",
    "            if validation_data or validation_split != 0:\n",
    "                training_accuracy, training_loss = self.evaluate(mini_batches[0])\n",
    "                validation_accuracy, validation_loss = self.evaluate(validation_data)\n",
    "                self.history['acc'].append(training_accuracy)\n",
    "                self.history['val_acc'].append(validation_accuracy)\n",
    "                self.history['loss'].append(training_loss)\n",
    "                self.history['val_loss'].append(validation_loss)\n",
    "                print(\"Epoch {}/{} : {} s - loss: {} - acc: {} - val_loss: {} - val_acc: {}\".format(epoch + 1, \n",
    "                                                                                                    epochs,\n",
    "                                                                                                    end,\n",
    "                                                                                                    training_loss,\n",
    "                                                                                                    training_accuracy,\n",
    "                                                                                                    validation_loss,\n",
    "                                                                                                    validation_accuracy))\n",
    "            else :\n",
    "                print(\"Epoch {} complete.\".format(epoch + 1))\n",
    "        \n",
    "    def update_mini_batch(self, mini_batch, learning_rate, momentum, previous_weights, previous_biases):\n",
    "        nabla_biases = [np.zeros(bias.shape) for bias in self.biases]\n",
    "        nabla_weights = [np.zeros(weight.shape) for weight in self.weights]\n",
    "        for x, y in mini_batch:\n",
    "            delta_nabla_bias, delta_nabla_weights = self.backpropagation(x, y)\n",
    "            nabla_biases = [nb + dnb for nb, dnb in zip(nabla_biases, delta_nabla_bias)]\n",
    "            nabla_weights = [nw + dnw for nw, dnw in zip(nabla_weights, delta_nabla_weights)]\n",
    "        temp_weights = self.weights\n",
    "        temp_biases = self.biases\n",
    "        self.weights = [w + momentum * pw + (learning_rate/len(mini_batch)) * nw \n",
    "                        for w, nw, pw in zip(self.weights, nabla_weights, previous_weights)]\n",
    "        self.biases = [b + momentum * pb + (learning_rate/len(mini_batch)) * nb \n",
    "                       for b, nb, pb in zip(self.biases, nabla_biases, previous_biases)]\n",
    "        return (temp_weights, temp_biases)\n",
    "        \n",
    "    def backpropagation(self, x, y):\n",
    "        nabla_bias = [np.zeros(bias.shape) for bias in self.biases]\n",
    "        nabla_weights = [np.zeros(weight.shape) for weight in self.weights]\n",
    "        \n",
    "        activation = x\n",
    "        activations = [x]\n",
    "        z_vectors = []\n",
    "        \n",
    "        for bias, weight in zip(self.biases, self.weights):\n",
    "            z = np.dot(weight, activation) + bias.transpose()[0]\n",
    "            z_vectors.append(z)\n",
    "            activation = sigmoid(z)\n",
    "            activations.append(activation)\n",
    "        \n",
    "        delta = self.cost_derivative(activations[-1], y) * sigmoid_prime(z_vectors[-1])\n",
    "        nabla_bias[-1] = delta\n",
    "        delta_newaxis = delta[:, np.newaxis]\n",
    "        m = len(activations[-2])\n",
    "        activations_newaxis = activations[-2][:, np.newaxis].reshape(1, m)\n",
    "        nabla_weights[-1] = np.dot(delta_newaxis, activations_newaxis)\n",
    "        \n",
    "        for layer in range(2, self.num_layers):\n",
    "            z = z_vectors[-layer]\n",
    "            sp = sigmoid_prime(z)\n",
    "            delta = np.dot(self.weights[-layer+1].transpose(), delta) * sp\n",
    "            nabla_bias[-layer] = delta\n",
    "            delta_newaxis = delta[:, np.newaxis]\n",
    "            m = len(activations[-layer-1].transpose())\n",
    "            activations_newaxis = activations[-layer-1].transpose()[:, np.newaxis].reshape(1, m)\n",
    "            nabla_weights[-layer] = np.dot(delta_newaxis, activations_newaxis)\n",
    "        \n",
    "        return (nabla_bias, nabla_weights)\n",
    "    \n",
    "    def evaluate(self, test_data):\n",
    "        test_results = [(1 if self.feed_forward(x) * 2 >= 1 else 0, y) for x, y in test_data]\n",
    "        accuracy = sum(int(x == y) for x, y in test_results)/len(test_results)\n",
    "        loss = sum(pow(int(y - x), 2) for x, y in test_results)/len(test_results)\n",
    "        return accuracy, loss\n",
    "    \n",
    "    def predict(self, test_data):\n",
    "        test_results = [1 if self.feed_forward(x) * 2 >= 1 else 0 for x, y in test_data]\n",
    "        return (test_results)\n",
    "    \n",
    "    def cost_derivative(self, output_activations, y):\n",
    "        return np.squeeze(y - output_activations)\n",
    "\n",
    "def sigmoid(z):\n",
    "    return 1.0/(1.0+np.exp(-z))\n",
    "\n",
    "def sigmoid_prime(z):\n",
    "    return sigmoid(z)*(1-sigmoid(z))"
   ]
  },
  {
   "cell_type": "code",
   "execution_count": 3,
   "metadata": {},
   "outputs": [],
   "source": [
    "from sklearn import datasets, metrics"
   ]
  },
  {
   "cell_type": "code",
   "execution_count": 4,
   "metadata": {},
   "outputs": [],
   "source": [
    "iris = datasets.load_iris()"
   ]
  },
  {
   "cell_type": "code",
   "execution_count": 5,
   "metadata": {},
   "outputs": [],
   "source": [
    "X_train, X_test, y_train, y_test = train_test_split(iris.data[0:100], iris.target[0:100],\n",
    "                                                    test_size=0.2, random_state=42)"
   ]
  },
  {
   "cell_type": "code",
   "execution_count": 6,
   "metadata": {},
   "outputs": [
    {
     "name": "stdout",
     "output_type": "stream",
     "text": [
      "Train on 60 samples, validate on 20 samples\n",
      "Epoch 1/50 : 0.00034880638122558594 s - loss: 0.4 - acc: 0.6 - val_loss: 0.6 - val_acc: 0.4\n",
      "Epoch 2/50 : 0.0003809928894042969 s - loss: 0.4 - acc: 0.6 - val_loss: 0.6 - val_acc: 0.4\n",
      "Epoch 3/50 : 0.00042319297790527344 s - loss: 0.4 - acc: 0.6 - val_loss: 0.6 - val_acc: 0.4\n",
      "Epoch 4/50 : 0.0004203319549560547 s - loss: 0.4 - acc: 0.6 - val_loss: 0.6 - val_acc: 0.4\n",
      "Epoch 5/50 : 0.00042247772216796875 s - loss: 0.4 - acc: 0.6 - val_loss: 0.6 - val_acc: 0.4\n",
      "Epoch 6/50 : 0.00042247772216796875 s - loss: 0.4 - acc: 0.6 - val_loss: 0.6 - val_acc: 0.4\n",
      "Epoch 7/50 : 0.0004222393035888672 s - loss: 0.4 - acc: 0.6 - val_loss: 0.6 - val_acc: 0.4\n",
      "Epoch 8/50 : 0.00042128562927246094 s - loss: 0.6 - acc: 0.4 - val_loss: 0.6 - val_acc: 0.4\n",
      "Epoch 9/50 : 0.00042700767517089844 s - loss: 0.6 - acc: 0.4 - val_loss: 0.5 - val_acc: 0.5\n",
      "Epoch 10/50 : 0.00042319297790527344 s - loss: 0.6 - acc: 0.4 - val_loss: 0.4 - val_acc: 0.6\n",
      "Epoch 11/50 : 0.0004222393035888672 s - loss: 0.2 - acc: 0.8 - val_loss: 0.35 - val_acc: 0.65\n",
      "Epoch 12/50 : 0.0004248619079589844 s - loss: 0.2 - acc: 0.8 - val_loss: 0.3 - val_acc: 0.7\n",
      "Epoch 13/50 : 0.00042247772216796875 s - loss: 0.2 - acc: 0.8 - val_loss: 0.3 - val_acc: 0.7\n",
      "Epoch 14/50 : 0.0003485679626464844 s - loss: 0.2 - acc: 0.8 - val_loss: 0.25 - val_acc: 0.75\n",
      "Epoch 15/50 : 0.000347137451171875 s - loss: 0.2 - acc: 0.8 - val_loss: 0.25 - val_acc: 0.75\n",
      "Epoch 16/50 : 0.0004410743713378906 s - loss: 0.2 - acc: 0.8 - val_loss: 0.25 - val_acc: 0.75\n",
      "Epoch 17/50 : 0.000347137451171875 s - loss: 0.2 - acc: 0.8 - val_loss: 0.25 - val_acc: 0.75\n",
      "Epoch 18/50 : 0.0004253387451171875 s - loss: 0.2 - acc: 0.8 - val_loss: 0.25 - val_acc: 0.75\n",
      "Epoch 19/50 : 0.0004227161407470703 s - loss: 0.2 - acc: 0.8 - val_loss: 0.2 - val_acc: 0.8\n",
      "Epoch 20/50 : 0.00042819976806640625 s - loss: 0.2 - acc: 0.8 - val_loss: 0.2 - val_acc: 0.8\n",
      "Epoch 21/50 : 0.0004277229309082031 s - loss: 0.2 - acc: 0.8 - val_loss: 0.2 - val_acc: 0.8\n",
      "Epoch 22/50 : 0.0004246234893798828 s - loss: 0.2 - acc: 0.8 - val_loss: 0.2 - val_acc: 0.8\n",
      "Epoch 23/50 : 0.00042700767517089844 s - loss: 0.2 - acc: 0.8 - val_loss: 0.2 - val_acc: 0.8\n",
      "Epoch 24/50 : 0.00042438507080078125 s - loss: 0.2 - acc: 0.8 - val_loss: 0.2 - val_acc: 0.8\n",
      "Epoch 25/50 : 0.00043272972106933594 s - loss: 0.2 - acc: 0.8 - val_loss: 0.2 - val_acc: 0.8\n",
      "Epoch 26/50 : 0.0004227161407470703 s - loss: 0.0 - acc: 1.0 - val_loss: 0.2 - val_acc: 0.8\n",
      "Epoch 27/50 : 0.0005910396575927734 s - loss: 0.0 - acc: 1.0 - val_loss: 0.2 - val_acc: 0.8\n",
      "Epoch 28/50 : 0.0004239082336425781 s - loss: 0.0 - acc: 1.0 - val_loss: 0.2 - val_acc: 0.8\n",
      "Epoch 29/50 : 0.0005011558532714844 s - loss: 0.0 - acc: 1.0 - val_loss: 0.2 - val_acc: 0.8\n",
      "Epoch 30/50 : 0.00042247772216796875 s - loss: 0.0 - acc: 1.0 - val_loss: 0.1 - val_acc: 0.9\n",
      "Epoch 31/50 : 0.0004439353942871094 s - loss: 0.0 - acc: 1.0 - val_loss: 0.1 - val_acc: 0.9\n",
      "Epoch 32/50 : 0.00042128562927246094 s - loss: 0.0 - acc: 1.0 - val_loss: 0.0 - val_acc: 1.0\n",
      "Epoch 33/50 : 0.0004239082336425781 s - loss: 0.0 - acc: 1.0 - val_loss: 0.0 - val_acc: 1.0\n",
      "Epoch 34/50 : 0.0004265308380126953 s - loss: 0.0 - acc: 1.0 - val_loss: 0.0 - val_acc: 1.0\n",
      "Epoch 35/50 : 0.0004241466522216797 s - loss: 0.0 - acc: 1.0 - val_loss: 0.0 - val_acc: 1.0\n",
      "Epoch 36/50 : 0.00042724609375 s - loss: 0.0 - acc: 1.0 - val_loss: 0.0 - val_acc: 1.0\n",
      "Epoch 37/50 : 0.00043964385986328125 s - loss: 0.0 - acc: 1.0 - val_loss: 0.0 - val_acc: 1.0\n",
      "Epoch 38/50 : 0.0004241466522216797 s - loss: 0.0 - acc: 1.0 - val_loss: 0.0 - val_acc: 1.0\n",
      "Epoch 39/50 : 0.00043129920959472656 s - loss: 0.0 - acc: 1.0 - val_loss: 0.0 - val_acc: 1.0\n",
      "Epoch 40/50 : 0.0004253387451171875 s - loss: 0.0 - acc: 1.0 - val_loss: 0.0 - val_acc: 1.0\n",
      "Epoch 41/50 : 0.0005097389221191406 s - loss: 0.0 - acc: 1.0 - val_loss: 0.0 - val_acc: 1.0\n",
      "Epoch 42/50 : 0.0004229545593261719 s - loss: 0.0 - acc: 1.0 - val_loss: 0.0 - val_acc: 1.0\n",
      "Epoch 43/50 : 0.0004267692565917969 s - loss: 0.0 - acc: 1.0 - val_loss: 0.0 - val_acc: 1.0\n",
      "Epoch 44/50 : 0.00042510032653808594 s - loss: 0.0 - acc: 1.0 - val_loss: 0.0 - val_acc: 1.0\n",
      "Epoch 45/50 : 0.000423431396484375 s - loss: 0.0 - acc: 1.0 - val_loss: 0.0 - val_acc: 1.0\n",
      "Epoch 46/50 : 0.00042247772216796875 s - loss: 0.0 - acc: 1.0 - val_loss: 0.0 - val_acc: 1.0\n",
      "Epoch 47/50 : 0.0004229545593261719 s - loss: 0.0 - acc: 1.0 - val_loss: 0.0 - val_acc: 1.0\n",
      "Epoch 48/50 : 0.000423431396484375 s - loss: 0.0 - acc: 1.0 - val_loss: 0.0 - val_acc: 1.0\n",
      "Epoch 49/50 : 0.00042176246643066406 s - loss: 0.0 - acc: 1.0 - val_loss: 0.0 - val_acc: 1.0\n",
      "Epoch 50/50 : 0.0004222393035888672 s - loss: 0.0 - acc: 1.0 - val_loss: 0.0 - val_acc: 1.0\n"
     ]
    }
   ],
   "source": [
    "train_data = [(x, y) for x, y in zip(X_train, y_train)]\n",
    "test_data = [(x, y) for x, y in zip(X_test, y_test)]\n",
    "\n",
    "neural_network = Network([4, 5, 10, 1])\n",
    "neural_network.fit(train_data, 50, 5, 0.1, momentum=0.0001, validation_split=0.25)"
   ]
  },
  {
   "cell_type": "code",
   "execution_count": 7,
   "metadata": {},
   "outputs": [],
   "source": [
    "import matplotlib.pyplot as plt"
   ]
  },
  {
   "cell_type": "code",
   "execution_count": 8,
   "metadata": {},
   "outputs": [
    {
     "data": {
      "image/png": "[encoded data removed]",
      "text/plain": [
       "<Figure size 432x288 with 1 Axes>"
      ]
     },
     "metadata": {},
     "output_type": "display_data"
    }
   ],
   "source": [
    "plt.plot(neural_network.history['acc'])\n",
    "plt.plot(neural_network.history['val_acc'])\n",
    "plt.title('Model accuracy')\n",
    "plt.ylabel('Accuracy')\n",
    "plt.xlabel('Epoch')\n",
    "plt.legend(['Train', 'Test'], loc='upper left')\n",
    "plt.show()"
   ]
  },
  {
   "cell_type": "code",
   "execution_count": 9,
   "metadata": {},
   "outputs": [
    {
     "data": {
      "image/png": "[encoded data removed]",
      "text/plain": [
       "<Figure size 432x288 with 1 Axes>"
      ]
     },
     "metadata": {},
     "output_type": "display_data"
    }
   ],
   "source": [
    "plt.plot(neural_network.history['loss'])\n",
    "plt.plot(neural_network.history['val_loss'])\n",
    "plt.title('Model loss')\n",
    "plt.ylabel('Loss')\n",
    "plt.xlabel('Epoch')\n",
    "plt.legend(['Train', 'Test'], loc='upper left')\n",
    "plt.show()"
   ]
  },
  {
   "cell_type": "code",
   "execution_count": 10,
   "metadata": {},
   "outputs": [
    {
     "data": {
      "text/plain": [
       "1.0"
      ]
     },
     "execution_count": 10,
     "metadata": {},
     "output_type": "execute_result"
    }
   ],
   "source": [
    "accuracy, loss = neural_network.evaluate(test_data)\n",
    "accuracy"
   ]
  }
 ],
 "metadata": {
  "kernelspec": {
   "display_name": "Python 3",
   "language": "python",
   "name": "python3"
  },
  "language_info": {
   "codemirror_mode": {
    "name": "ipython",
    "version": 3
   },
   "file_extension": ".py",
   "mimetype": "text/x-python",
   "name": "python",
   "nbconvert_exporter": "python",
   "pygments_lexer": "ipython3",
   "version": "3.6.6"
  }
 },
 "nbformat": 4,
 "nbformat_minor": 2
}
