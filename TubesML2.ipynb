{
 "cells": [
  {
   "cell_type": "markdown",
   "metadata": {},
   "source": [
    "# Tugas Besar Pembelajaran Mesin 2"
   ]
  },
  {
   "cell_type": "markdown",
   "metadata": {},
   "source": [
    "Muhammad Rizki Duwinanto - 13515006<br/>\n",
    "Kevin Erdiza Yogatama - 13515016<br/>\n",
    "Edwin Rachman - 13515042"
   ]
  },
  {
   "cell_type": "markdown",
   "metadata": {},
   "source": [
    "#### Pustaka Terkait"
   ]
  },
  {
   "cell_type": "code",
   "execution_count": 1,
   "metadata": {},
   "outputs": [],
   "source": [
    "import pandas as pd\n",
    "import numpy as np\n",
    "from sklearn.preprocessing import LabelEncoder\n",
    "from sklearn.model_selection import train_test_split\n",
    "from sklearn import datasets, metrics\n",
    "import time\n",
    "import random\n",
    "import matplotlib.pyplot as plt\n",
    "import math"
   ]
  },
  {
   "cell_type": "code",
   "execution_count": 2,
   "metadata": {},
   "outputs": [],
   "source": [
    "iris = datasets.load_iris()\n",
    "X_train, X_test, y_train, y_test = train_test_split(iris.data, iris.target, test_size=0.1)"
   ]
  },
  {
   "cell_type": "code",
   "execution_count": 3,
   "metadata": {},
   "outputs": [],
   "source": [
    "train_data = [(x, y) for x, y in zip(X_train, y_train)]\n",
    "test_data = [(x, y) for x, y in zip(X_test, y_test)]"
   ]
  },
  {
   "cell_type": "markdown",
   "metadata": {},
   "source": [
    "## 1.a. Create a Classifier "
   ]
  },
  {
   "cell_type": "markdown",
   "metadata": {},
   "source": [
    "#### Deskripsi Algoritma"
   ]
  },
  {
   "cell_type": "markdown",
   "metadata": {},
   "source": [
    "Inisialisasi model neural network ini menggunakan langkah-langkah sebagai berikut:\n",
    "1. Jumlah node setiap layer (parameter sizes) dispesifikasikan.\n",
    "2. Bias dan weight untuk setiap layer setelah layer pertama dihitung secara acak.\n",
    "\n",
    "Proses fitting model sebelumnya menggunakan algoritma sebagai berikut:\n",
    "1. Dalam fungsi fit dibutuhkan parameter jumlah data training (training_data), jumlah epoch (epochs), ukuran mini-batch (mini_batch_size), dan learning rate (learning_rate). Momentum (parameter momentum) jika diinginkan juga dapat dispesifikasikan. Data validasi (parameter validation_data) dapat dispesifikasikan secara langsung atau didapatkan dari training data jika parameter validation_split dispesifikasikan.\n",
    "2. Training data dibagi-bagi menjadi mini-batch berdasarkan ukuran mini-batch.\n",
    "3. Weight dan bias baru dihitung per mini-batch menggunakan fungsi update_mini_batch yang mengimplementasikan stochastic gradient. Dalam implementasi stochastic gradient digunakan fungsi backpropagation.\n",
    "4. Lakukan langkah 3 untuk setiap mini-batch\n",
    "5. Hitung akurasi dan loss training menggunakan fungsi evaluate dengan input mini-batch pertama. Fungsi evaluate menghasilkan nilai akurasi dan loss berdasarkan hasil feed-forward sigmoid (fungsi feed_forward). Hasil feed-forward setiap data jika lebih dari 0.5 akan menghasilkan 1, jika tidak menghasilkan 0. Akurasi dihitung dari rasio jumlah data setelah feed-forward yang sama dengan labelnya dengan jumlah seluruh data. Loss dihitung dari selisih kuadrat antara label dengan hasil data setelah feed-forward setiap data dibagi dengan jumlah semua data.\n",
    "6. Hitung akurasi dan loss validasi menggunakan fungsi evaluate dengan input validation_data.\n",
    "7. Lakukan langkah 2-6 untuk setiap epoch\n",
    "\n",
    "Untuk melakukan prediksi dapat digunakan fungsi predict dengan input test_data. Dalam fungsi ini setiap test_data akan dilakukan feed-forward seperti pada fungsi evaluate."
   ]
  },
  {
   "cell_type": "markdown",
   "metadata": {},
   "source": [
    "#### Source Code Program"
   ]
  },
  {
   "cell_type": "code",
   "execution_count": 4,
   "metadata": {},
   "outputs": [],
   "source": [
    "class Network(object):\n",
    "    def __init__(self, sizes):\n",
    "        self.sizes = sizes\n",
    "        self.num_layers = len(sizes)\n",
    "        self.biases = [np.random.rand(y, 1) for y in sizes[1:]]\n",
    "        self.weights = [np.random.rand(y, x) for x,y in zip(sizes[:-1], sizes[1:])]\n",
    "        self.history = d = {'acc': [], 'val_acc': [], 'loss': [], 'val_loss': []}\n",
    "    \n",
    "    def feed_forward(self, activation):\n",
    "        for bias, weight in zip(self.biases, self.weights):\n",
    "            activation = sigmoid(np.dot(weight, activation) + bias.transpose()[0])\n",
    "        return activation\n",
    "    \n",
    "    def fit(self, training_data, epochs, mini_batch_size, learning_rate,\n",
    "            momentum=0, validation_data=None, validation_split=0.0, verbose=1):\n",
    "        if validation_split != 0.0 and not validation_data :\n",
    "            training_data, validation_data = train_test_split(training_data, test_size=validation_split, random_state=42)\n",
    "        n_training = len(training_data)\n",
    "        if validation_data or validation_split != 0.0: \n",
    "            n_validation = len(validation_data)\n",
    "            if verbose != 0:\n",
    "                print(\"Train on {} samples, validate on {} samples\".format(n_training, n_validation))\n",
    "        for epoch in range(epochs):\n",
    "            mini_batches = [training_data[k:k + mini_batch_size] for k in range(0, n_training, mini_batch_size)]\n",
    "            previous_weights = self.weights\n",
    "            previous_biases =self.biases\n",
    "            first = True\n",
    "            for mini_batch in mini_batches:\n",
    "                if first: previous_weights, previous_biases = self.weights, self.biases\n",
    "                start = time.time()\n",
    "                previous_weights, previous_biases = self.update_mini_batch(mini_batch, \n",
    "                                                                           learning_rate,\n",
    "                                                                           momentum, \n",
    "                                                                           previous_weights, \n",
    "                                                                           previous_biases)\n",
    "                end = time.time() - start\n",
    "            if validation_data or validation_split != 0:\n",
    "                training_accuracy, training_loss = self.evaluate(mini_batches[0])\n",
    "                validation_accuracy, validation_loss = self.evaluate(validation_data)\n",
    "                self.history['acc'].append(training_accuracy)\n",
    "                self.history['val_acc'].append(validation_accuracy)\n",
    "                self.history['loss'].append(training_loss)\n",
    "                self.history['val_loss'].append(validation_loss)\n",
    "                if verbose == 1 :\n",
    "                    print(\"Epoch {}/{} : {} s - loss: {} - acc: {} - val_loss: {} - val_acc: {}\".format(epoch + 1, \n",
    "                                                                                                        epochs,\n",
    "                                                                                                        end,\n",
    "                                                                                                        training_loss,\n",
    "                                                                                                        training_accuracy,\n",
    "                                                                                                        validation_loss,\n",
    "                                                                                                        validation_accuracy))\n",
    "                elif verbose == 2 :\n",
    "                    print(\"Epoch {} complete.\".format(epoch + 1))\n",
    "            else :\n",
    "                if verbose != 0:\n",
    "                    print(\"Epoch {} complete.\".format(epoch + 1))\n",
    "        \n",
    "    def update_mini_batch(self, mini_batch, learning_rate, momentum, previous_weights, previous_biases):\n",
    "        nabla_biases = [np.zeros(bias.shape) for bias in self.biases]\n",
    "        nabla_weights = [np.zeros(weight.shape) for weight in self.weights]\n",
    "        for x, y in mini_batch:\n",
    "            delta_nabla_bias, delta_nabla_weights = self.backpropagation(x, y)\n",
    "            nabla_biases = [nb + dnb for nb, dnb in zip(nabla_biases, delta_nabla_bias)]\n",
    "            nabla_weights = [nw + dnw for nw, dnw in zip(nabla_weights, delta_nabla_weights)]\n",
    "        temp_weights = self.weights\n",
    "        temp_biases = self.biases\n",
    "        self.weights = [w + momentum * pw + (learning_rate/len(mini_batch)) * nw \n",
    "                        for w, nw, pw in zip(self.weights, nabla_weights, previous_weights)]\n",
    "        self.biases = [b + momentum * pb + (learning_rate/len(mini_batch)) * nb \n",
    "                       for b, nb, pb in zip(self.biases, nabla_biases, previous_biases)]\n",
    "        return (temp_weights, temp_biases)\n",
    "        \n",
    "    def backpropagation(self, x, y):\n",
    "        nabla_bias = [np.zeros(bias.shape) for bias in self.biases]\n",
    "        nabla_weights = [np.zeros(weight.shape) for weight in self.weights]\n",
    "        \n",
    "        activation = x\n",
    "        activations = [x]\n",
    "        z_vectors = []\n",
    "        \n",
    "        for bias, weight in zip(self.biases, self.weights):\n",
    "            z = np.dot(weight, activation) + bias.transpose()[0]\n",
    "            z_vectors.append(z)\n",
    "            activation = sigmoid(z)\n",
    "            activations.append(activation)\n",
    "        \n",
    "        delta = self.cost_derivative(activations[-1], y) * sigmoid_prime(z_vectors[-1])\n",
    "        nabla_bias[-1] = delta\n",
    "        delta_newaxis = delta[:, np.newaxis]\n",
    "        m = len(activations[-2])\n",
    "        activations_newaxis = activations[-2][:, np.newaxis].reshape(1, m)\n",
    "        nabla_weights[-1] = np.dot(delta_newaxis, activations_newaxis)\n",
    "        \n",
    "        for layer in range(2, self.num_layers):\n",
    "            z = z_vectors[-layer]\n",
    "            sp = sigmoid_prime(z)\n",
    "            delta = np.dot(self.weights[-layer+1].transpose(), delta) * sp\n",
    "            nabla_bias[-layer] = delta\n",
    "            delta_newaxis = delta[:, np.newaxis]\n",
    "            m = len(activations[-layer-1].transpose())\n",
    "            activations_newaxis = activations[-layer-1].transpose()[:, np.newaxis].reshape(1, m)\n",
    "            nabla_weights[-layer] = np.dot(delta_newaxis, activations_newaxis)\n",
    "        \n",
    "        return (nabla_bias, nabla_weights)\n",
    "    \n",
    "    def evaluate(self, test_data):\n",
    "        test_results = [(1 if self.feed_forward(x) * 2 >= 1 else 0, y) for x, y in test_data]\n",
    "        accuracy = sum(int(x == y) for x, y in test_results)/len(test_results)\n",
    "        loss = sum(math.pow((y - x), 2) for x, y in test_results)/len(test_results)\n",
    "        return accuracy, loss\n",
    "    \n",
    "    def predict(self, test_data):\n",
    "        test_results = [1 if self.feed_forward(x) * 2 >= 1 else 0 for x, y in test_data]\n",
    "        return (test_results)\n",
    "    \n",
    "    def cost_derivative(self, output_activations, y):\n",
    "        return np.squeeze(y - output_activations)\n",
    "\n",
    "def sigmoid(z):\n",
    "    return 1.0/(1.0+np.exp(-z))\n",
    "\n",
    "def sigmoid_prime(z):\n",
    "    return sigmoid(z)*(1-sigmoid(z))"
   ]
  },
  {
   "cell_type": "markdown",
   "metadata": {},
   "source": [
    "#### Cara Pengunaan"
   ]
  },
  {
   "cell_type": "code",
   "execution_count": 5,
   "metadata": {},
   "outputs": [],
   "source": [
    "neural_network = Network([4, 5, 10, 1])\n",
    "neural_network.fit(train_data, 50, 5, 0.1, momentum=0.0001, validation_split=0.25, verbose=0)"
   ]
  },
  {
   "cell_type": "markdown",
   "metadata": {},
   "source": [
    "Berikut adalah contoh penggunaan algoritma pada data latih iris. Namun, hasil tidak ditampilkan karena iris memiliki 3 label sedangkan classifier yang kami buat hanya biner. Untuk hasil classifier dapat dilihat pada bagian 1.b.2."
   ]
  },
  {
   "cell_type": "markdown",
   "metadata": {},
   "source": [
    "## 1.b.1 Explorasi Keras "
   ]
  },
  {
   "cell_type": "markdown",
   "metadata": {},
   "source": [
    "#### Deskripsi Algoritma"
   ]
  },
  {
   "cell_type": "markdown",
   "metadata": {},
   "source": [
    "Pembelajaran akan menggunakan kakas keras dengan model <i>sequential</i> dan lapisan <i>dense</i> .Model akan memakai input layer sebanyak 1 neuron dengan bentuk input 4 sesuai jumlah attribute data latih, kemudian dengan 3 hidden layer masing-masing 2, 3, 4 neuron dan 1 output layer dengan 1 neuron. Optimizer yang dipakai adalah SGD, dengan perhitungan loss dengan Mean Squared Error, dan Metrics Accuracy. "
   ]
  },
  {
   "cell_type": "markdown",
   "metadata": {},
   "source": [
    "#### Source Code Program"
   ]
  },
  {
   "cell_type": "code",
   "execution_count": 6,
   "metadata": {},
   "outputs": [
    {
     "name": "stderr",
     "output_type": "stream",
     "text": [
      "Using TensorFlow backend.\n"
     ]
    }
   ],
   "source": [
    "from keras.models import Sequential\n",
    "from keras.layers import Dense, Activation"
   ]
  },
  {
   "cell_type": "code",
   "execution_count": 7,
   "metadata": {},
   "outputs": [],
   "source": [
    "network = Sequential()\n",
    "network.add(Dense(1, activation='sigmoid', input_shape=(4,)))\n",
    "network.add(Dense(2, activation='sigmoid'))\n",
    "network.add(Dense(3, activation='sigmoid'))\n",
    "network.add(Dense(4, activation='sigmoid'))\n",
    "network.add(Dense(1, activation='sigmoid'))"
   ]
  },
  {
   "cell_type": "code",
   "execution_count": 8,
   "metadata": {},
   "outputs": [],
   "source": [
    "network.compile(optimizer='SGD', loss='mse', metrics=['accuracy'])"
   ]
  },
  {
   "cell_type": "code",
   "execution_count": 9,
   "metadata": {
    "scrolled": true
   },
   "outputs": [
    {
     "name": "stdout",
     "output_type": "stream",
     "text": [
      "_________________________________________________________________\n",
      "Layer (type)                 Output Shape              Param #   \n",
      "=================================================================\n",
      "dense_1 (Dense)              (None, 1)                 5         \n",
      "_________________________________________________________________\n",
      "dense_2 (Dense)              (None, 2)                 4         \n",
      "_________________________________________________________________\n",
      "dense_3 (Dense)              (None, 3)                 9         \n",
      "_________________________________________________________________\n",
      "dense_4 (Dense)              (None, 4)                 16        \n",
      "_________________________________________________________________\n",
      "dense_5 (Dense)              (None, 1)                 5         \n",
      "=================================================================\n",
      "Total params: 39\n",
      "Trainable params: 39\n",
      "Non-trainable params: 0\n",
      "_________________________________________________________________\n"
     ]
    }
   ],
   "source": [
    "network.summary()"
   ]
  },
  {
   "cell_type": "markdown",
   "metadata": {},
   "source": [
    "<b>Percobaan pada iris</b>"
   ]
  },
  {
   "cell_type": "code",
   "execution_count": 10,
   "metadata": {},
   "outputs": [],
   "source": [
    "history = network.fit(X_train, y_train, epochs=200, verbose=0, batch_size=1, validation_split=0.1)"
   ]
  },
  {
   "cell_type": "code",
   "execution_count": 11,
   "metadata": {},
   "outputs": [
    {
     "name": "stdout",
     "output_type": "stream",
     "text": [
      "15/15 [==============================] - 0s 396us/step\n"
     ]
    }
   ],
   "source": [
    "score = network.evaluate(X_test, y_test, batch_size=1)"
   ]
  },
  {
   "cell_type": "code",
   "execution_count": 12,
   "metadata": {},
   "outputs": [
    {
     "name": "stdout",
     "output_type": "stream",
     "text": [
      "Loss: 53.36050633961956 %\n",
      "Accuracy 46.666666666666664 %\n"
     ]
    }
   ],
   "source": [
    "print(\"Loss: {} %\".format(score[0]*100.0))\n",
    "print(\"Accuracy {} %\".format(score[1]*100.0))"
   ]
  },
  {
   "cell_type": "code",
   "execution_count": 13,
   "metadata": {},
   "outputs": [
    {
     "data": {
      "image/png": "[encoded data removed]",
      "text/plain": [
       "<Figure size 432x288 with 1 Axes>"
      ]
     },
     "metadata": {},
     "output_type": "display_data"
    }
   ],
   "source": [
    "plt.plot(history.history['acc'])\n",
    "plt.plot(history.history['val_acc'])\n",
    "plt.title('Model accuracy')\n",
    "plt.ylabel('Accuracy')\n",
    "plt.xlabel('Epoch')\n",
    "plt.legend(['Train', 'Test'], loc='upper left')\n",
    "plt.show()"
   ]
  },
  {
   "cell_type": "code",
   "execution_count": 14,
   "metadata": {
    "scrolled": true
   },
   "outputs": [
    {
     "data": {
      "image/png": "[encoded data removed]",
      "text/plain": [
       "<Figure size 432x288 with 1 Axes>"
      ]
     },
     "metadata": {},
     "output_type": "display_data"
    }
   ],
   "source": [
    "plt.plot(history.history['loss'])\n",
    "plt.plot(history.history['val_loss'])\n",
    "plt.title('Model loss')\n",
    "plt.ylabel('Loss')\n",
    "plt.xlabel('Epoch')\n",
    "plt.legend(['Train', 'Test'], loc='upper left')\n",
    "plt.show()"
   ]
  },
  {
   "cell_type": "markdown",
   "metadata": {},
   "source": [
    "## 1.b.2 Eksperimen Data Categorization Framework"
   ]
  },
  {
   "cell_type": "markdown",
   "metadata": {},
   "source": [
    "### 1.b.2.1 Persiapan Data"
   ]
  },
  {
   "cell_type": "markdown",
   "metadata": {},
   "source": [
    "Hal pertama yang kami lakukan adalah menggunakan data latih Weather Categorization dari WEKA. "
   ]
  },
  {
   "cell_type": "code",
   "execution_count": 15,
   "metadata": {},
   "outputs": [
    {
     "data": {
      "text/html": [
       "<div>\n",
       "<style scoped>\n",
       "    .dataframe tbody tr th:only-of-type {\n",
       "        vertical-align: middle;\n",
       "    }\n",
       "\n",
       "    .dataframe tbody tr th {\n",
       "        vertical-align: top;\n",
       "    }\n",
       "\n",
       "    .dataframe thead th {\n",
       "        text-align: right;\n",
       "    }\n",
       "</style>\n",
       "<table border=\"1\" class=\"dataframe\">\n",
       "  <thead>\n",
       "    <tr style=\"text-align: right;\">\n",
       "      <th></th>\n",
       "      <th>outlook</th>\n",
       "      <th>temperature</th>\n",
       "      <th>humidity</th>\n",
       "      <th>windy</th>\n",
       "      <th>play</th>\n",
       "    </tr>\n",
       "  </thead>\n",
       "  <tbody>\n",
       "    <tr>\n",
       "      <th>0</th>\n",
       "      <td>sunny</td>\n",
       "      <td>85</td>\n",
       "      <td>85</td>\n",
       "      <td>False</td>\n",
       "      <td>no</td>\n",
       "    </tr>\n",
       "    <tr>\n",
       "      <th>1</th>\n",
       "      <td>sunny</td>\n",
       "      <td>80</td>\n",
       "      <td>90</td>\n",
       "      <td>True</td>\n",
       "      <td>no</td>\n",
       "    </tr>\n",
       "    <tr>\n",
       "      <th>2</th>\n",
       "      <td>overcast</td>\n",
       "      <td>83</td>\n",
       "      <td>86</td>\n",
       "      <td>False</td>\n",
       "      <td>yes</td>\n",
       "    </tr>\n",
       "    <tr>\n",
       "      <th>3</th>\n",
       "      <td>rainy</td>\n",
       "      <td>70</td>\n",
       "      <td>96</td>\n",
       "      <td>False</td>\n",
       "      <td>yes</td>\n",
       "    </tr>\n",
       "    <tr>\n",
       "      <th>4</th>\n",
       "      <td>rainy</td>\n",
       "      <td>68</td>\n",
       "      <td>80</td>\n",
       "      <td>False</td>\n",
       "      <td>yes</td>\n",
       "    </tr>\n",
       "    <tr>\n",
       "      <th>5</th>\n",
       "      <td>rainy</td>\n",
       "      <td>65</td>\n",
       "      <td>70</td>\n",
       "      <td>True</td>\n",
       "      <td>no</td>\n",
       "    </tr>\n",
       "    <tr>\n",
       "      <th>6</th>\n",
       "      <td>overcast</td>\n",
       "      <td>64</td>\n",
       "      <td>65</td>\n",
       "      <td>True</td>\n",
       "      <td>yes</td>\n",
       "    </tr>\n",
       "    <tr>\n",
       "      <th>7</th>\n",
       "      <td>sunny</td>\n",
       "      <td>72</td>\n",
       "      <td>95</td>\n",
       "      <td>False</td>\n",
       "      <td>no</td>\n",
       "    </tr>\n",
       "    <tr>\n",
       "      <th>8</th>\n",
       "      <td>sunny</td>\n",
       "      <td>69</td>\n",
       "      <td>70</td>\n",
       "      <td>False</td>\n",
       "      <td>yes</td>\n",
       "    </tr>\n",
       "    <tr>\n",
       "      <th>9</th>\n",
       "      <td>rainy</td>\n",
       "      <td>75</td>\n",
       "      <td>80</td>\n",
       "      <td>False</td>\n",
       "      <td>yes</td>\n",
       "    </tr>\n",
       "    <tr>\n",
       "      <th>10</th>\n",
       "      <td>sunny</td>\n",
       "      <td>75</td>\n",
       "      <td>70</td>\n",
       "      <td>True</td>\n",
       "      <td>yes</td>\n",
       "    </tr>\n",
       "    <tr>\n",
       "      <th>11</th>\n",
       "      <td>overcast</td>\n",
       "      <td>72</td>\n",
       "      <td>90</td>\n",
       "      <td>True</td>\n",
       "      <td>yes</td>\n",
       "    </tr>\n",
       "    <tr>\n",
       "      <th>12</th>\n",
       "      <td>overcast</td>\n",
       "      <td>81</td>\n",
       "      <td>75</td>\n",
       "      <td>False</td>\n",
       "      <td>yes</td>\n",
       "    </tr>\n",
       "    <tr>\n",
       "      <th>13</th>\n",
       "      <td>rainy</td>\n",
       "      <td>71</td>\n",
       "      <td>91</td>\n",
       "      <td>True</td>\n",
       "      <td>no</td>\n",
       "    </tr>\n",
       "  </tbody>\n",
       "</table>\n",
       "</div>"
      ],
      "text/plain": [
       "     outlook  temperature  humidity  windy play\n",
       "0      sunny           85        85  False   no\n",
       "1      sunny           80        90   True   no\n",
       "2   overcast           83        86  False  yes\n",
       "3      rainy           70        96  False  yes\n",
       "4      rainy           68        80  False  yes\n",
       "5      rainy           65        70   True   no\n",
       "6   overcast           64        65   True  yes\n",
       "7      sunny           72        95  False   no\n",
       "8      sunny           69        70  False  yes\n",
       "9      rainy           75        80  False  yes\n",
       "10     sunny           75        70   True  yes\n",
       "11  overcast           72        90   True  yes\n",
       "12  overcast           81        75  False  yes\n",
       "13     rainy           71        91   True   no"
      ]
     },
     "execution_count": 15,
     "metadata": {},
     "output_type": "execute_result"
    }
   ],
   "source": [
    "weather_df = pd.read_csv('dataset/weather.csv')\n",
    "\n",
    "weather_df"
   ]
  },
  {
   "cell_type": "markdown",
   "metadata": {},
   "source": [
    "Dapat dilihat data latih terdiri dari data numerik dan data kategorikal. Diperlukan preprocessing dengan kakas scikit-learn yaitu LabelEncoder sebagai berikut."
   ]
  },
  {
   "cell_type": "code",
   "execution_count": 16,
   "metadata": {},
   "outputs": [],
   "source": [
    "label_encoder = LabelEncoder()\n",
    "weather_df['outlook'] = label_encoder.fit_transform(weather_df.outlook)\n",
    "weather_df['windy'] = label_encoder.fit_transform(weather_df.windy)\n",
    "weather_df['play'] = label_encoder.fit_transform(weather_df.play)"
   ]
  },
  {
   "cell_type": "code",
   "execution_count": 17,
   "metadata": {},
   "outputs": [
    {
     "data": {
      "text/html": [
       "<div>\n",
       "<style scoped>\n",
       "    .dataframe tbody tr th:only-of-type {\n",
       "        vertical-align: middle;\n",
       "    }\n",
       "\n",
       "    .dataframe tbody tr th {\n",
       "        vertical-align: top;\n",
       "    }\n",
       "\n",
       "    .dataframe thead th {\n",
       "        text-align: right;\n",
       "    }\n",
       "</style>\n",
       "<table border=\"1\" class=\"dataframe\">\n",
       "  <thead>\n",
       "    <tr style=\"text-align: right;\">\n",
       "      <th></th>\n",
       "      <th>outlook</th>\n",
       "      <th>temperature</th>\n",
       "      <th>humidity</th>\n",
       "      <th>windy</th>\n",
       "      <th>play</th>\n",
       "    </tr>\n",
       "  </thead>\n",
       "  <tbody>\n",
       "    <tr>\n",
       "      <th>0</th>\n",
       "      <td>2</td>\n",
       "      <td>85</td>\n",
       "      <td>85</td>\n",
       "      <td>0</td>\n",
       "      <td>0</td>\n",
       "    </tr>\n",
       "    <tr>\n",
       "      <th>1</th>\n",
       "      <td>2</td>\n",
       "      <td>80</td>\n",
       "      <td>90</td>\n",
       "      <td>1</td>\n",
       "      <td>0</td>\n",
       "    </tr>\n",
       "    <tr>\n",
       "      <th>2</th>\n",
       "      <td>0</td>\n",
       "      <td>83</td>\n",
       "      <td>86</td>\n",
       "      <td>0</td>\n",
       "      <td>1</td>\n",
       "    </tr>\n",
       "    <tr>\n",
       "      <th>3</th>\n",
       "      <td>1</td>\n",
       "      <td>70</td>\n",
       "      <td>96</td>\n",
       "      <td>0</td>\n",
       "      <td>1</td>\n",
       "    </tr>\n",
       "    <tr>\n",
       "      <th>4</th>\n",
       "      <td>1</td>\n",
       "      <td>68</td>\n",
       "      <td>80</td>\n",
       "      <td>0</td>\n",
       "      <td>1</td>\n",
       "    </tr>\n",
       "    <tr>\n",
       "      <th>5</th>\n",
       "      <td>1</td>\n",
       "      <td>65</td>\n",
       "      <td>70</td>\n",
       "      <td>1</td>\n",
       "      <td>0</td>\n",
       "    </tr>\n",
       "    <tr>\n",
       "      <th>6</th>\n",
       "      <td>0</td>\n",
       "      <td>64</td>\n",
       "      <td>65</td>\n",
       "      <td>1</td>\n",
       "      <td>1</td>\n",
       "    </tr>\n",
       "    <tr>\n",
       "      <th>7</th>\n",
       "      <td>2</td>\n",
       "      <td>72</td>\n",
       "      <td>95</td>\n",
       "      <td>0</td>\n",
       "      <td>0</td>\n",
       "    </tr>\n",
       "    <tr>\n",
       "      <th>8</th>\n",
       "      <td>2</td>\n",
       "      <td>69</td>\n",
       "      <td>70</td>\n",
       "      <td>0</td>\n",
       "      <td>1</td>\n",
       "    </tr>\n",
       "    <tr>\n",
       "      <th>9</th>\n",
       "      <td>1</td>\n",
       "      <td>75</td>\n",
       "      <td>80</td>\n",
       "      <td>0</td>\n",
       "      <td>1</td>\n",
       "    </tr>\n",
       "    <tr>\n",
       "      <th>10</th>\n",
       "      <td>2</td>\n",
       "      <td>75</td>\n",
       "      <td>70</td>\n",
       "      <td>1</td>\n",
       "      <td>1</td>\n",
       "    </tr>\n",
       "    <tr>\n",
       "      <th>11</th>\n",
       "      <td>0</td>\n",
       "      <td>72</td>\n",
       "      <td>90</td>\n",
       "      <td>1</td>\n",
       "      <td>1</td>\n",
       "    </tr>\n",
       "    <tr>\n",
       "      <th>12</th>\n",
       "      <td>0</td>\n",
       "      <td>81</td>\n",
       "      <td>75</td>\n",
       "      <td>0</td>\n",
       "      <td>1</td>\n",
       "    </tr>\n",
       "    <tr>\n",
       "      <th>13</th>\n",
       "      <td>1</td>\n",
       "      <td>71</td>\n",
       "      <td>91</td>\n",
       "      <td>1</td>\n",
       "      <td>0</td>\n",
       "    </tr>\n",
       "  </tbody>\n",
       "</table>\n",
       "</div>"
      ],
      "text/plain": [
       "    outlook  temperature  humidity  windy  play\n",
       "0         2           85        85      0     0\n",
       "1         2           80        90      1     0\n",
       "2         0           83        86      0     1\n",
       "3         1           70        96      0     1\n",
       "4         1           68        80      0     1\n",
       "5         1           65        70      1     0\n",
       "6         0           64        65      1     1\n",
       "7         2           72        95      0     0\n",
       "8         2           69        70      0     1\n",
       "9         1           75        80      0     1\n",
       "10        2           75        70      1     1\n",
       "11        0           72        90      1     1\n",
       "12        0           81        75      0     1\n",
       "13        1           71        91      1     0"
      ]
     },
     "execution_count": 17,
     "metadata": {},
     "output_type": "execute_result"
    }
   ],
   "source": [
    "weather_df"
   ]
  },
  {
   "cell_type": "code",
   "execution_count": 18,
   "metadata": {},
   "outputs": [
    {
     "data": {
      "text/plain": [
       "array([[ 2, 85, 85,  0],\n",
       "       [ 2, 80, 90,  1],\n",
       "       [ 0, 83, 86,  0],\n",
       "       [ 1, 70, 96,  0],\n",
       "       [ 1, 68, 80,  0],\n",
       "       [ 1, 65, 70,  1],\n",
       "       [ 0, 64, 65,  1],\n",
       "       [ 2, 72, 95,  0],\n",
       "       [ 2, 69, 70,  0],\n",
       "       [ 1, 75, 80,  0],\n",
       "       [ 2, 75, 70,  1],\n",
       "       [ 0, 72, 90,  1],\n",
       "       [ 0, 81, 75,  0],\n",
       "       [ 1, 71, 91,  1]])"
      ]
     },
     "execution_count": 18,
     "metadata": {},
     "output_type": "execute_result"
    }
   ],
   "source": [
    "X_weather = weather_df.iloc[:,:4].values\n",
    "X_weather"
   ]
  },
  {
   "cell_type": "code",
   "execution_count": 19,
   "metadata": {},
   "outputs": [
    {
     "data": {
      "text/plain": [
       "array([0, 0, 1, 1, 1, 0, 1, 0, 1, 1, 1, 1, 1, 0])"
      ]
     },
     "execution_count": 19,
     "metadata": {},
     "output_type": "execute_result"
    }
   ],
   "source": [
    "y_weather = weather_df.play.values\n",
    "y_weather"
   ]
  },
  {
   "cell_type": "markdown",
   "metadata": {},
   "source": [
    "Kemudian, setelah kami menjadikan data latih tersebut numerik, kami melakukan pemisahan sebagian data latih (10%) menjadi data uji dengan proporsi."
   ]
  },
  {
   "cell_type": "code",
   "execution_count": 20,
   "metadata": {},
   "outputs": [],
   "source": [
    "X_train, X_test, y_train, y_test = train_test_split(X_weather, y_weather, test_size=0.1,shuffle=False)"
   ]
  },
  {
   "cell_type": "code",
   "execution_count": 21,
   "metadata": {},
   "outputs": [
    {
     "data": {
      "text/plain": [
       "array([[ 2, 85, 85,  0],\n",
       "       [ 2, 80, 90,  1],\n",
       "       [ 0, 83, 86,  0],\n",
       "       [ 1, 70, 96,  0],\n",
       "       [ 1, 68, 80,  0],\n",
       "       [ 1, 65, 70,  1],\n",
       "       [ 0, 64, 65,  1],\n",
       "       [ 2, 72, 95,  0],\n",
       "       [ 2, 69, 70,  0],\n",
       "       [ 1, 75, 80,  0],\n",
       "       [ 2, 75, 70,  1],\n",
       "       [ 0, 72, 90,  1]])"
      ]
     },
     "execution_count": 21,
     "metadata": {},
     "output_type": "execute_result"
    }
   ],
   "source": [
    "X_train"
   ]
  },
  {
   "cell_type": "code",
   "execution_count": 22,
   "metadata": {},
   "outputs": [
    {
     "data": {
      "text/plain": [
       "array([[ 0, 81, 75,  0],\n",
       "       [ 1, 71, 91,  1]])"
      ]
     },
     "execution_count": 22,
     "metadata": {},
     "output_type": "execute_result"
    }
   ],
   "source": [
    "X_test"
   ]
  },
  {
   "cell_type": "code",
   "execution_count": 23,
   "metadata": {},
   "outputs": [
    {
     "data": {
      "text/plain": [
       "array([0, 0, 1, 1, 1, 0, 1, 0, 1, 1, 1, 1])"
      ]
     },
     "execution_count": 23,
     "metadata": {},
     "output_type": "execute_result"
    }
   ],
   "source": [
    "y_train"
   ]
  },
  {
   "cell_type": "code",
   "execution_count": 24,
   "metadata": {},
   "outputs": [
    {
     "data": {
      "text/plain": [
       "array([1, 0])"
      ]
     },
     "execution_count": 24,
     "metadata": {},
     "output_type": "execute_result"
    }
   ],
   "source": [
    "y_test"
   ]
  },
  {
   "cell_type": "code",
   "execution_count": 25,
   "metadata": {},
   "outputs": [],
   "source": [
    "train_data = [(x, y) for x, y in zip(X_train, y_train)]\n",
    "test_data = [(x, y) for x, y in zip(X_test, y_test)]"
   ]
  },
  {
   "cell_type": "markdown",
   "metadata": {},
   "source": [
    "### 1.b.2.2 Batch = 1"
   ]
  },
  {
   "cell_type": "markdown",
   "metadata": {},
   "source": [
    "#####  1.b.2.2.1 Classifier Sendiri"
   ]
  },
  {
   "cell_type": "code",
   "execution_count": 26,
   "metadata": {},
   "outputs": [],
   "source": [
    "start = time.time()"
   ]
  },
  {
   "cell_type": "code",
   "execution_count": 27,
   "metadata": {},
   "outputs": [
    {
     "name": "stdout",
     "output_type": "stream",
     "text": [
      "Train on 10 samples, validate on 2 samples\n",
      "Epoch 1/100 : 0.00013327598571777344 s - loss: 1.0 - acc: 0.0 - val_loss: 0.0 - val_acc: 1.0\n",
      "Epoch 2/100 : 0.00013136863708496094 s - loss: 1.0 - acc: 0.0 - val_loss: 0.0 - val_acc: 1.0\n",
      "Epoch 3/100 : 0.00013065338134765625 s - loss: 1.0 - acc: 0.0 - val_loss: 0.0 - val_acc: 1.0\n",
      "Epoch 4/100 : 0.00013113021850585938 s - loss: 1.0 - acc: 0.0 - val_loss: 0.0 - val_acc: 1.0\n",
      "Epoch 5/100 : 0.00013017654418945312 s - loss: 1.0 - acc: 0.0 - val_loss: 0.0 - val_acc: 1.0\n",
      "Epoch 6/100 : 0.00013494491577148438 s - loss: 1.0 - acc: 0.0 - val_loss: 0.0 - val_acc: 1.0\n",
      "Epoch 7/100 : 0.0002455711364746094 s - loss: 1.0 - acc: 0.0 - val_loss: 0.0 - val_acc: 1.0\n",
      "Epoch 8/100 : 0.00013065338134765625 s - loss: 1.0 - acc: 0.0 - val_loss: 0.0 - val_acc: 1.0\n",
      "Epoch 9/100 : 0.00012993812561035156 s - loss: 1.0 - acc: 0.0 - val_loss: 0.0 - val_acc: 1.0\n",
      "Epoch 10/100 : 0.00013113021850585938 s - loss: 1.0 - acc: 0.0 - val_loss: 0.0 - val_acc: 1.0\n",
      "Epoch 11/100 : 0.0001316070556640625 s - loss: 1.0 - acc: 0.0 - val_loss: 0.0 - val_acc: 1.0\n",
      "Epoch 12/100 : 0.00013113021850585938 s - loss: 1.0 - acc: 0.0 - val_loss: 0.0 - val_acc: 1.0\n",
      "Epoch 13/100 : 0.00011491775512695312 s - loss: 1.0 - acc: 0.0 - val_loss: 0.0 - val_acc: 1.0\n",
      "Epoch 14/100 : 0.00011610984802246094 s - loss: 1.0 - acc: 0.0 - val_loss: 0.0 - val_acc: 1.0\n",
      "Epoch 15/100 : 0.00013113021850585938 s - loss: 1.0 - acc: 0.0 - val_loss: 0.0 - val_acc: 1.0\n",
      "Epoch 16/100 : 0.0001327991485595703 s - loss: 1.0 - acc: 0.0 - val_loss: 0.0 - val_acc: 1.0\n",
      "Epoch 17/100 : 0.00013065338134765625 s - loss: 1.0 - acc: 0.0 - val_loss: 0.0 - val_acc: 1.0\n",
      "Epoch 18/100 : 0.0001308917999267578 s - loss: 1.0 - acc: 0.0 - val_loss: 0.0 - val_acc: 1.0\n",
      "Epoch 19/100 : 0.00013065338134765625 s - loss: 1.0 - acc: 0.0 - val_loss: 0.0 - val_acc: 1.0\n",
      "Epoch 20/100 : 0.0001308917999267578 s - loss: 1.0 - acc: 0.0 - val_loss: 0.0 - val_acc: 1.0\n",
      "Epoch 21/100 : 0.00013113021850585938 s - loss: 1.0 - acc: 0.0 - val_loss: 0.0 - val_acc: 1.0\n",
      "Epoch 22/100 : 0.00013113021850585938 s - loss: 1.0 - acc: 0.0 - val_loss: 0.0 - val_acc: 1.0\n",
      "Epoch 23/100 : 0.00013113021850585938 s - loss: 1.0 - acc: 0.0 - val_loss: 0.0 - val_acc: 1.0\n",
      "Epoch 24/100 : 0.0001316070556640625 s - loss: 1.0 - acc: 0.0 - val_loss: 0.0 - val_acc: 1.0\n",
      "Epoch 25/100 : 0.00013208389282226562 s - loss: 1.0 - acc: 0.0 - val_loss: 0.0 - val_acc: 1.0\n",
      "Epoch 26/100 : 0.00013327598571777344 s - loss: 1.0 - acc: 0.0 - val_loss: 0.0 - val_acc: 1.0\n",
      "Epoch 27/100 : 0.00013208389282226562 s - loss: 1.0 - acc: 0.0 - val_loss: 0.0 - val_acc: 1.0\n",
      "Epoch 28/100 : 0.00011706352233886719 s - loss: 1.0 - acc: 0.0 - val_loss: 0.0 - val_acc: 1.0\n",
      "Epoch 29/100 : 0.00013208389282226562 s - loss: 1.0 - acc: 0.0 - val_loss: 0.0 - val_acc: 1.0\n",
      "Epoch 30/100 : 0.0001316070556640625 s - loss: 1.0 - acc: 0.0 - val_loss: 0.0 - val_acc: 1.0\n",
      "Epoch 31/100 : 0.00013184547424316406 s - loss: 1.0 - acc: 0.0 - val_loss: 0.0 - val_acc: 1.0\n",
      "Epoch 32/100 : 0.0001304149627685547 s - loss: 1.0 - acc: 0.0 - val_loss: 0.0 - val_acc: 1.0\n",
      "Epoch 33/100 : 0.0001316070556640625 s - loss: 1.0 - acc: 0.0 - val_loss: 0.0 - val_acc: 1.0\n",
      "Epoch 34/100 : 0.00013184547424316406 s - loss: 1.0 - acc: 0.0 - val_loss: 0.0 - val_acc: 1.0\n",
      "Epoch 35/100 : 0.0001304149627685547 s - loss: 1.0 - acc: 0.0 - val_loss: 0.0 - val_acc: 1.0\n",
      "Epoch 36/100 : 0.00011610984802246094 s - loss: 1.0 - acc: 0.0 - val_loss: 0.0 - val_acc: 1.0\n",
      "Epoch 37/100 : 0.00013113021850585938 s - loss: 1.0 - acc: 0.0 - val_loss: 0.0 - val_acc: 1.0\n",
      "Epoch 38/100 : 0.00013113021850585938 s - loss: 1.0 - acc: 0.0 - val_loss: 0.0 - val_acc: 1.0\n",
      "Epoch 39/100 : 0.0001323223114013672 s - loss: 1.0 - acc: 0.0 - val_loss: 0.0 - val_acc: 1.0\n",
      "Epoch 40/100 : 0.00013136863708496094 s - loss: 1.0 - acc: 0.0 - val_loss: 0.0 - val_acc: 1.0\n",
      "Epoch 41/100 : 0.00013113021850585938 s - loss: 1.0 - acc: 0.0 - val_loss: 0.0 - val_acc: 1.0\n",
      "Epoch 42/100 : 0.00013184547424316406 s - loss: 1.0 - acc: 0.0 - val_loss: 0.0 - val_acc: 1.0\n",
      "Epoch 43/100 : 0.0001308917999267578 s - loss: 1.0 - acc: 0.0 - val_loss: 0.0 - val_acc: 1.0\n",
      "Epoch 44/100 : 0.0001316070556640625 s - loss: 1.0 - acc: 0.0 - val_loss: 0.0 - val_acc: 1.0\n",
      "Epoch 45/100 : 0.0001304149627685547 s - loss: 1.0 - acc: 0.0 - val_loss: 0.0 - val_acc: 1.0\n",
      "Epoch 46/100 : 0.0001308917999267578 s - loss: 1.0 - acc: 0.0 - val_loss: 0.0 - val_acc: 1.0\n",
      "Epoch 47/100 : 0.00013208389282226562 s - loss: 1.0 - acc: 0.0 - val_loss: 0.0 - val_acc: 1.0\n",
      "Epoch 48/100 : 0.0001430511474609375 s - loss: 1.0 - acc: 0.0 - val_loss: 0.0 - val_acc: 1.0\n",
      "Epoch 49/100 : 0.00013113021850585938 s - loss: 1.0 - acc: 0.0 - val_loss: 0.0 - val_acc: 1.0\n",
      "Epoch 50/100 : 0.0001308917999267578 s - loss: 1.0 - acc: 0.0 - val_loss: 0.0 - val_acc: 1.0\n",
      "Epoch 51/100 : 0.00012993812561035156 s - loss: 1.0 - acc: 0.0 - val_loss: 0.0 - val_acc: 1.0\n",
      "Epoch 52/100 : 0.00013113021850585938 s - loss: 1.0 - acc: 0.0 - val_loss: 0.0 - val_acc: 1.0\n",
      "Epoch 53/100 : 0.00012993812561035156 s - loss: 1.0 - acc: 0.0 - val_loss: 0.0 - val_acc: 1.0\n",
      "Epoch 54/100 : 0.00013113021850585938 s - loss: 1.0 - acc: 0.0 - val_loss: 0.0 - val_acc: 1.0\n",
      "Epoch 55/100 : 0.00013017654418945312 s - loss: 1.0 - acc: 0.0 - val_loss: 0.0 - val_acc: 1.0\n",
      "Epoch 56/100 : 0.00013184547424316406 s - loss: 1.0 - acc: 0.0 - val_loss: 0.0 - val_acc: 1.0\n",
      "Epoch 57/100 : 0.00013113021850585938 s - loss: 1.0 - acc: 0.0 - val_loss: 0.0 - val_acc: 1.0\n",
      "Epoch 58/100 : 0.0001316070556640625 s - loss: 1.0 - acc: 0.0 - val_loss: 0.0 - val_acc: 1.0\n",
      "Epoch 59/100 : 0.00013113021850585938 s - loss: 1.0 - acc: 0.0 - val_loss: 0.0 - val_acc: 1.0\n",
      "Epoch 60/100 : 0.00013136863708496094 s - loss: 1.0 - acc: 0.0 - val_loss: 0.0 - val_acc: 1.0\n",
      "Epoch 61/100 : 0.0001316070556640625 s - loss: 1.0 - acc: 0.0 - val_loss: 0.0 - val_acc: 1.0\n",
      "Epoch 62/100 : 0.00013136863708496094 s - loss: 1.0 - acc: 0.0 - val_loss: 0.0 - val_acc: 1.0\n",
      "Epoch 63/100 : 0.00013208389282226562 s - loss: 1.0 - acc: 0.0 - val_loss: 0.0 - val_acc: 1.0\n",
      "Epoch 64/100 : 0.00013136863708496094 s - loss: 1.0 - acc: 0.0 - val_loss: 0.0 - val_acc: 1.0\n",
      "Epoch 65/100 : 0.0001316070556640625 s - loss: 1.0 - acc: 0.0 - val_loss: 0.0 - val_acc: 1.0\n",
      "Epoch 66/100 : 0.00013136863708496094 s - loss: 1.0 - acc: 0.0 - val_loss: 0.0 - val_acc: 1.0\n",
      "Epoch 67/100 : 0.0001316070556640625 s - loss: 1.0 - acc: 0.0 - val_loss: 0.0 - val_acc: 1.0\n",
      "Epoch 68/100 : 0.0001316070556640625 s - loss: 1.0 - acc: 0.0 - val_loss: 0.0 - val_acc: 1.0\n",
      "Epoch 69/100 : 0.00013113021850585938 s - loss: 1.0 - acc: 0.0 - val_loss: 0.0 - val_acc: 1.0\n",
      "Epoch 70/100 : 0.0001327991485595703 s - loss: 1.0 - acc: 0.0 - val_loss: 0.0 - val_acc: 1.0\n",
      "Epoch 71/100 : 0.00013184547424316406 s - loss: 1.0 - acc: 0.0 - val_loss: 0.0 - val_acc: 1.0\n",
      "Epoch 72/100 : 0.00013184547424316406 s - loss: 1.0 - acc: 0.0 - val_loss: 0.0 - val_acc: 1.0\n",
      "Epoch 73/100 : 0.00015211105346679688 s - loss: 1.0 - acc: 0.0 - val_loss: 0.0 - val_acc: 1.0\n",
      "Epoch 74/100 : 0.00013256072998046875 s - loss: 1.0 - acc: 0.0 - val_loss: 0.0 - val_acc: 1.0\n",
      "Epoch 75/100 : 0.0001323223114013672 s - loss: 1.0 - acc: 0.0 - val_loss: 0.0 - val_acc: 1.0\n",
      "Epoch 76/100 : 0.00034689903259277344 s - loss: 1.0 - acc: 0.0 - val_loss: 0.0 - val_acc: 1.0\n",
      "Epoch 77/100 : 0.00013208389282226562 s - loss: 1.0 - acc: 0.0 - val_loss: 0.0 - val_acc: 1.0\n",
      "Epoch 78/100 : 0.00013256072998046875 s - loss: 1.0 - acc: 0.0 - val_loss: 0.0 - val_acc: 1.0\n",
      "Epoch 79/100 : 0.00013256072998046875 s - loss: 1.0 - acc: 0.0 - val_loss: 0.0 - val_acc: 1.0\n",
      "Epoch 80/100 : 0.0001323223114013672 s - loss: 1.0 - acc: 0.0 - val_loss: 0.0 - val_acc: 1.0\n",
      "Epoch 81/100 : 0.0001323223114013672 s - loss: 1.0 - acc: 0.0 - val_loss: 0.0 - val_acc: 1.0\n",
      "Epoch 82/100 : 0.0001316070556640625 s - loss: 1.0 - acc: 0.0 - val_loss: 0.0 - val_acc: 1.0\n",
      "Epoch 83/100 : 0.00011610984802246094 s - loss: 1.0 - acc: 0.0 - val_loss: 0.0 - val_acc: 1.0\n",
      "Epoch 84/100 : 0.0001163482666015625 s - loss: 1.0 - acc: 0.0 - val_loss: 0.0 - val_acc: 1.0\n",
      "Epoch 85/100 : 0.0001163482666015625 s - loss: 1.0 - acc: 0.0 - val_loss: 0.0 - val_acc: 1.0\n",
      "Epoch 86/100 : 0.00011610984802246094 s - loss: 1.0 - acc: 0.0 - val_loss: 0.0 - val_acc: 1.0\n",
      "Epoch 87/100 : 0.0001270771026611328 s - loss: 1.0 - acc: 0.0 - val_loss: 0.0 - val_acc: 1.0\n",
      "Epoch 88/100 : 0.0001316070556640625 s - loss: 1.0 - acc: 0.0 - val_loss: 0.0 - val_acc: 1.0\n",
      "Epoch 89/100 : 0.0001308917999267578 s - loss: 1.0 - acc: 0.0 - val_loss: 0.0 - val_acc: 1.0\n",
      "Epoch 90/100 : 0.00013113021850585938 s - loss: 1.0 - acc: 0.0 - val_loss: 0.0 - val_acc: 1.0\n",
      "Epoch 91/100 : 0.00013327598571777344 s - loss: 1.0 - acc: 0.0 - val_loss: 0.0 - val_acc: 1.0\n",
      "Epoch 92/100 : 0.0001380443572998047 s - loss: 1.0 - acc: 0.0 - val_loss: 0.0 - val_acc: 1.0\n",
      "Epoch 93/100 : 0.00013184547424316406 s - loss: 1.0 - acc: 0.0 - val_loss: 0.0 - val_acc: 1.0\n",
      "Epoch 94/100 : 0.00013184547424316406 s - loss: 1.0 - acc: 0.0 - val_loss: 0.0 - val_acc: 1.0\n",
      "Epoch 95/100 : 0.0001308917999267578 s - loss: 1.0 - acc: 0.0 - val_loss: 0.0 - val_acc: 1.0\n",
      "Epoch 96/100 : 0.0001316070556640625 s - loss: 1.0 - acc: 0.0 - val_loss: 0.0 - val_acc: 1.0\n",
      "Epoch 97/100 : 0.0001354217529296875 s - loss: 1.0 - acc: 0.0 - val_loss: 0.0 - val_acc: 1.0\n",
      "Epoch 98/100 : 0.00013208389282226562 s - loss: 1.0 - acc: 0.0 - val_loss: 0.0 - val_acc: 1.0\n",
      "Epoch 99/100 : 0.00013184547424316406 s - loss: 1.0 - acc: 0.0 - val_loss: 0.0 - val_acc: 1.0\n",
      "Epoch 100/100 : 0.00013256072998046875 s - loss: 1.0 - acc: 0.0 - val_loss: 0.0 - val_acc: 1.0\n"
     ]
    }
   ],
   "source": [
    "neural_network1 = Network([4, 10, 8, 1])\n",
    "neural_network1.fit(train_data, 100, 1, 0.1, validation_split=0.1)"
   ]
  },
  {
   "cell_type": "code",
   "execution_count": 28,
   "metadata": {},
   "outputs": [],
   "source": [
    "end = time.time() - start"
   ]
  },
  {
   "cell_type": "code",
   "execution_count": 29,
   "metadata": {},
   "outputs": [
    {
     "data": {
      "image/png": "[encoded data removed]",
      "text/plain": [
       "<Figure size 432x288 with 1 Axes>"
      ]
     },
     "metadata": {},
     "output_type": "display_data"
    }
   ],
   "source": [
    "plt.plot(neural_network1.history['acc'])\n",
    "plt.plot(neural_network1.history['val_acc'])\n",
    "plt.title('Model accuracy')\n",
    "plt.ylabel('Accuracy')\n",
    "plt.xlabel('Epoch')\n",
    "plt.legend(['Train', 'Test'], loc='upper left')\n",
    "plt.show()"
   ]
  },
  {
   "cell_type": "code",
   "execution_count": 30,
   "metadata": {},
   "outputs": [
    {
     "data": {
      "image/png": "[encoded data removed]",
      "text/plain": [
       "<Figure size 432x288 with 1 Axes>"
      ]
     },
     "metadata": {},
     "output_type": "display_data"
    }
   ],
   "source": [
    "plt.plot(neural_network1.history['loss'])\n",
    "plt.plot(neural_network1.history['val_loss'])\n",
    "plt.title('Model loss')\n",
    "plt.ylabel('Loss')\n",
    "plt.xlabel('Epoch')\n",
    "plt.legend(['Train', 'Test'], loc='upper left')\n",
    "plt.show()"
   ]
  },
  {
   "cell_type": "code",
   "execution_count": 31,
   "metadata": {},
   "outputs": [],
   "source": [
    "accuracy1, loss1 = neural_network1.evaluate(test_data)"
   ]
  },
  {
   "cell_type": "code",
   "execution_count": 32,
   "metadata": {},
   "outputs": [
    {
     "name": "stdout",
     "output_type": "stream",
     "text": [
      "Loss: 50.0 %\n",
      "Accuracy 50.0 %\n",
      "Time: 0.24604177474975586 ms\n"
     ]
    }
   ],
   "source": [
    "print(\"Loss: {} %\".format(loss1*100.0))\n",
    "print(\"Accuracy {} %\".format(accuracy1*100.0))\n",
    "print(\"Time: {} ms\".format(end))"
   ]
  },
  {
   "cell_type": "markdown",
   "metadata": {},
   "source": [
    "##### 1.b.2.2.2 Keras Model"
   ]
  },
  {
   "cell_type": "markdown",
   "metadata": {},
   "source": [
    "Reinitialisasi model keras untuk eksperimen pertama."
   ]
  },
  {
   "cell_type": "code",
   "execution_count": 33,
   "metadata": {},
   "outputs": [],
   "source": [
    "network1 = Sequential([\n",
    "    Dense(4, input_shape=(4,)),\n",
    "    Dense(10, activation='sigmoid'),\n",
    "    Dense(8, activation='sigmoid'),\n",
    "    Dense(1, activation='sigmoid')\n",
    "])"
   ]
  },
  {
   "cell_type": "code",
   "execution_count": 34,
   "metadata": {},
   "outputs": [],
   "source": [
    "network1.compile(optimizer='SGD', loss='mse', metrics=['accuracy'])"
   ]
  },
  {
   "cell_type": "code",
   "execution_count": 35,
   "metadata": {},
   "outputs": [
    {
     "name": "stdout",
     "output_type": "stream",
     "text": [
      "_________________________________________________________________\n",
      "Layer (type)                 Output Shape              Param #   \n",
      "=================================================================\n",
      "dense_6 (Dense)              (None, 4)                 20        \n",
      "_________________________________________________________________\n",
      "dense_7 (Dense)              (None, 10)                50        \n",
      "_________________________________________________________________\n",
      "dense_8 (Dense)              (None, 8)                 88        \n",
      "_________________________________________________________________\n",
      "dense_9 (Dense)              (None, 1)                 9         \n",
      "=================================================================\n",
      "Total params: 167\n",
      "Trainable params: 167\n",
      "Non-trainable params: 0\n",
      "_________________________________________________________________\n"
     ]
    }
   ],
   "source": [
    "network1.summary()"
   ]
  },
  {
   "cell_type": "code",
   "execution_count": 36,
   "metadata": {},
   "outputs": [],
   "source": [
    "start = time.time()"
   ]
  },
  {
   "cell_type": "code",
   "execution_count": 37,
   "metadata": {},
   "outputs": [
    {
     "name": "stdout",
     "output_type": "stream",
     "text": [
      "Train on 10 samples, validate on 2 samples\n",
      "Epoch 1/100\n",
      "10/10 [==============================] - 0s 13ms/step - loss: 0.2789 - acc: 0.4000 - val_loss: 0.3352 - val_acc: 0.0000e+00\n",
      "Epoch 2/100\n",
      "10/10 [==============================] - 0s 857us/step - loss: 0.2713 - acc: 0.4000 - val_loss: 0.3209 - val_acc: 0.0000e+00\n",
      "Epoch 3/100\n",
      "10/10 [==============================] - 0s 729us/step - loss: 0.2666 - acc: 0.4000 - val_loss: 0.3048 - val_acc: 0.0000e+00\n",
      "Epoch 4/100\n",
      "10/10 [==============================] - 0s 931us/step - loss: 0.2640 - acc: 0.4000 - val_loss: 0.2945 - val_acc: 0.0000e+00\n",
      "Epoch 5/100\n",
      "10/10 [==============================] - 0s 1ms/step - loss: 0.2613 - acc: 0.4000 - val_loss: 0.2860 - val_acc: 0.0000e+00\n",
      "Epoch 6/100\n",
      "10/10 [==============================] - 0s 770us/step - loss: 0.2589 - acc: 0.4000 - val_loss: 0.2787 - val_acc: 0.0000e+00\n",
      "Epoch 7/100\n",
      "10/10 [==============================] - 0s 1ms/step - loss: 0.2570 - acc: 0.4000 - val_loss: 0.2718 - val_acc: 0.0000e+00\n",
      "Epoch 8/100\n",
      "10/10 [==============================] - 0s 808us/step - loss: 0.2554 - acc: 0.4000 - val_loss: 0.2656 - val_acc: 0.0000e+00\n",
      "Epoch 9/100\n",
      "10/10 [==============================] - 0s 1ms/step - loss: 0.2540 - acc: 0.4000 - val_loss: 0.2596 - val_acc: 0.0000e+00\n",
      "Epoch 10/100\n",
      "10/10 [==============================] - 0s 870us/step - loss: 0.2528 - acc: 0.3000 - val_loss: 0.2542 - val_acc: 0.0000e+00\n",
      "Epoch 11/100\n",
      "10/10 [==============================] - 0s 980us/step - loss: 0.2517 - acc: 0.3000 - val_loss: 0.2490 - val_acc: 1.0000\n",
      "Epoch 12/100\n",
      "10/10 [==============================] - 0s 924us/step - loss: 0.2506 - acc: 0.4000 - val_loss: 0.2440 - val_acc: 1.0000\n",
      "Epoch 13/100\n",
      "10/10 [==============================] - 0s 931us/step - loss: 0.2497 - acc: 0.6000 - val_loss: 0.2396 - val_acc: 1.0000\n",
      "Epoch 14/100\n",
      "10/10 [==============================] - 0s 923us/step - loss: 0.2489 - acc: 0.6000 - val_loss: 0.2354 - val_acc: 1.0000\n",
      "Epoch 15/100\n",
      "10/10 [==============================] - 0s 965us/step - loss: 0.2482 - acc: 0.6000 - val_loss: 0.2312 - val_acc: 1.0000\n",
      "Epoch 16/100\n",
      "10/10 [==============================] - 0s 941us/step - loss: 0.2475 - acc: 0.6000 - val_loss: 0.2276 - val_acc: 1.0000\n",
      "Epoch 17/100\n",
      "10/10 [==============================] - 0s 773us/step - loss: 0.2469 - acc: 0.6000 - val_loss: 0.2240 - val_acc: 1.0000\n",
      "Epoch 18/100\n",
      "10/10 [==============================] - 0s 1ms/step - loss: 0.2464 - acc: 0.6000 - val_loss: 0.2208 - val_acc: 1.0000\n",
      "Epoch 19/100\n",
      "10/10 [==============================] - 0s 864us/step - loss: 0.2459 - acc: 0.6000 - val_loss: 0.2175 - val_acc: 1.0000\n",
      "Epoch 20/100\n",
      "10/10 [==============================] - 0s 866us/step - loss: 0.2454 - acc: 0.6000 - val_loss: 0.2145 - val_acc: 1.0000\n",
      "Epoch 21/100\n",
      "10/10 [==============================] - 0s 746us/step - loss: 0.2450 - acc: 0.6000 - val_loss: 0.2113 - val_acc: 1.0000\n",
      "Epoch 22/100\n",
      "10/10 [==============================] - 0s 976us/step - loss: 0.2446 - acc: 0.6000 - val_loss: 0.2086 - val_acc: 1.0000\n",
      "Epoch 23/100\n",
      "10/10 [==============================] - 0s 1ms/step - loss: 0.2443 - acc: 0.6000 - val_loss: 0.2061 - val_acc: 1.0000\n",
      "Epoch 24/100\n",
      "10/10 [==============================] - 0s 1ms/step - loss: 0.2440 - acc: 0.6000 - val_loss: 0.2038 - val_acc: 1.0000\n",
      "Epoch 25/100\n",
      "10/10 [==============================] - 0s 873us/step - loss: 0.2437 - acc: 0.6000 - val_loss: 0.2016 - val_acc: 1.0000\n",
      "Epoch 26/100\n",
      "10/10 [==============================] - 0s 955us/step - loss: 0.2435 - acc: 0.6000 - val_loss: 0.1994 - val_acc: 1.0000\n",
      "Epoch 27/100\n",
      "10/10 [==============================] - 0s 2ms/step - loss: 0.2433 - acc: 0.6000 - val_loss: 0.1975 - val_acc: 1.0000\n",
      "Epoch 28/100\n",
      "10/10 [==============================] - 0s 1ms/step - loss: 0.2431 - acc: 0.6000 - val_loss: 0.1955 - val_acc: 1.0000\n",
      "Epoch 29/100\n",
      "10/10 [==============================] - 0s 1ms/step - loss: 0.2429 - acc: 0.6000 - val_loss: 0.1938 - val_acc: 1.0000\n",
      "Epoch 30/100\n",
      "10/10 [==============================] - 0s 1ms/step - loss: 0.2427 - acc: 0.6000 - val_loss: 0.1922 - val_acc: 1.0000\n",
      "Epoch 31/100\n",
      "10/10 [==============================] - 0s 1ms/step - loss: 0.2426 - acc: 0.6000 - val_loss: 0.1907 - val_acc: 1.0000\n",
      "Epoch 32/100\n",
      "10/10 [==============================] - 0s 1ms/step - loss: 0.2425 - acc: 0.6000 - val_loss: 0.1890 - val_acc: 1.0000\n",
      "Epoch 33/100\n",
      "10/10 [==============================] - 0s 1ms/step - loss: 0.2423 - acc: 0.6000 - val_loss: 0.1877 - val_acc: 1.0000\n",
      "Epoch 34/100\n",
      "10/10 [==============================] - 0s 995us/step - loss: 0.2422 - acc: 0.6000 - val_loss: 0.1862 - val_acc: 1.0000\n",
      "Epoch 35/100\n",
      "10/10 [==============================] - 0s 943us/step - loss: 0.2421 - acc: 0.6000 - val_loss: 0.1849 - val_acc: 1.0000\n",
      "Epoch 36/100\n",
      "10/10 [==============================] - 0s 1ms/step - loss: 0.2420 - acc: 0.6000 - val_loss: 0.1835 - val_acc: 1.0000\n",
      "Epoch 37/100\n",
      "10/10 [==============================] - 0s 804us/step - loss: 0.2419 - acc: 0.6000 - val_loss: 0.1824 - val_acc: 1.0000\n",
      "Epoch 38/100\n",
      "10/10 [==============================] - 0s 865us/step - loss: 0.2419 - acc: 0.6000 - val_loss: 0.1813 - val_acc: 1.0000\n",
      "Epoch 39/100\n",
      "10/10 [==============================] - 0s 2ms/step - loss: 0.2418 - acc: 0.6000 - val_loss: 0.1802 - val_acc: 1.0000\n",
      "Epoch 40/100\n",
      "10/10 [==============================] - 0s 905us/step - loss: 0.2417 - acc: 0.6000 - val_loss: 0.1791 - val_acc: 1.0000\n",
      "Epoch 41/100\n",
      "10/10 [==============================] - 0s 793us/step - loss: 0.2417 - acc: 0.6000 - val_loss: 0.1782 - val_acc: 1.0000\n",
      "Epoch 42/100\n",
      "10/10 [==============================] - 0s 1ms/step - loss: 0.2416 - acc: 0.6000 - val_loss: 0.1772 - val_acc: 1.0000\n",
      "Epoch 43/100\n",
      "10/10 [==============================] - 0s 935us/step - loss: 0.2416 - acc: 0.6000 - val_loss: 0.1764 - val_acc: 1.0000\n",
      "Epoch 44/100\n",
      "10/10 [==============================] - 0s 1ms/step - loss: 0.2415 - acc: 0.6000 - val_loss: 0.1756 - val_acc: 1.0000\n",
      "Epoch 45/100\n",
      "10/10 [==============================] - 0s 904us/step - loss: 0.2415 - acc: 0.6000 - val_loss: 0.1748 - val_acc: 1.0000\n",
      "Epoch 46/100\n",
      "10/10 [==============================] - 0s 1ms/step - loss: 0.2415 - acc: 0.6000 - val_loss: 0.1741 - val_acc: 1.0000\n",
      "Epoch 47/100\n",
      "10/10 [==============================] - 0s 858us/step - loss: 0.2414 - acc: 0.6000 - val_loss: 0.1733 - val_acc: 1.0000\n",
      "Epoch 48/100\n",
      "10/10 [==============================] - 0s 848us/step - loss: 0.2414 - acc: 0.6000 - val_loss: 0.1726 - val_acc: 1.0000\n",
      "Epoch 49/100\n",
      "10/10 [==============================] - 0s 1ms/step - loss: 0.2414 - acc: 0.6000 - val_loss: 0.1720 - val_acc: 1.0000\n",
      "Epoch 50/100\n",
      "10/10 [==============================] - 0s 974us/step - loss: 0.2413 - acc: 0.6000 - val_loss: 0.1715 - val_acc: 1.0000\n",
      "Epoch 51/100\n",
      "10/10 [==============================] - 0s 797us/step - loss: 0.2413 - acc: 0.6000 - val_loss: 0.1710 - val_acc: 1.0000\n",
      "Epoch 52/100\n",
      "10/10 [==============================] - 0s 866us/step - loss: 0.2413 - acc: 0.6000 - val_loss: 0.1703 - val_acc: 1.0000\n",
      "Epoch 53/100\n",
      "10/10 [==============================] - 0s 887us/step - loss: 0.2413 - acc: 0.6000 - val_loss: 0.1698 - val_acc: 1.0000\n",
      "Epoch 54/100\n",
      "10/10 [==============================] - 0s 848us/step - loss: 0.2413 - acc: 0.6000 - val_loss: 0.1694 - val_acc: 1.0000\n",
      "Epoch 55/100\n",
      "10/10 [==============================] - 0s 1ms/step - loss: 0.2412 - acc: 0.6000 - val_loss: 0.1691 - val_acc: 1.0000\n",
      "Epoch 56/100\n",
      "10/10 [==============================] - 0s 935us/step - loss: 0.2412 - acc: 0.6000 - val_loss: 0.1685 - val_acc: 1.0000\n",
      "Epoch 57/100\n",
      "10/10 [==============================] - 0s 982us/step - loss: 0.2412 - acc: 0.6000 - val_loss: 0.1681 - val_acc: 1.0000\n",
      "Epoch 58/100\n",
      "10/10 [==============================] - 0s 1ms/step - loss: 0.2412 - acc: 0.6000 - val_loss: 0.1676 - val_acc: 1.0000\n",
      "Epoch 59/100\n",
      "10/10 [==============================] - 0s 802us/step - loss: 0.2412 - acc: 0.6000 - val_loss: 0.1672 - val_acc: 1.0000\n",
      "Epoch 60/100\n",
      "10/10 [==============================] - 0s 831us/step - loss: 0.2412 - acc: 0.6000 - val_loss: 0.1668 - val_acc: 1.0000\n",
      "Epoch 61/100\n",
      "10/10 [==============================] - 0s 864us/step - loss: 0.2412 - acc: 0.6000 - val_loss: 0.1664 - val_acc: 1.0000\n"
     ]
    },
    {
     "name": "stdout",
     "output_type": "stream",
     "text": [
      "Epoch 62/100\n",
      "10/10 [==============================] - 0s 812us/step - loss: 0.2412 - acc: 0.6000 - val_loss: 0.1660 - val_acc: 1.0000\n",
      "Epoch 63/100\n",
      "10/10 [==============================] - 0s 928us/step - loss: 0.2412 - acc: 0.6000 - val_loss: 0.1656 - val_acc: 1.0000\n",
      "Epoch 64/100\n",
      "10/10 [==============================] - 0s 878us/step - loss: 0.2412 - acc: 0.6000 - val_loss: 0.1653 - val_acc: 1.0000\n",
      "Epoch 65/100\n",
      "10/10 [==============================] - 0s 840us/step - loss: 0.2411 - acc: 0.6000 - val_loss: 0.1649 - val_acc: 1.0000\n",
      "Epoch 66/100\n",
      "10/10 [==============================] - 0s 901us/step - loss: 0.2412 - acc: 0.6000 - val_loss: 0.1645 - val_acc: 1.0000\n",
      "Epoch 67/100\n",
      "10/10 [==============================] - 0s 1ms/step - loss: 0.2412 - acc: 0.6000 - val_loss: 0.1642 - val_acc: 1.0000\n",
      "Epoch 68/100\n",
      "10/10 [==============================] - 0s 1ms/step - loss: 0.2411 - acc: 0.6000 - val_loss: 0.1640 - val_acc: 1.0000\n",
      "Epoch 69/100\n",
      "10/10 [==============================] - 0s 1ms/step - loss: 0.2411 - acc: 0.6000 - val_loss: 0.1637 - val_acc: 1.0000\n",
      "Epoch 70/100\n",
      "10/10 [==============================] - 0s 996us/step - loss: 0.2411 - acc: 0.6000 - val_loss: 0.1634 - val_acc: 1.0000\n",
      "Epoch 71/100\n",
      "10/10 [==============================] - 0s 954us/step - loss: 0.2411 - acc: 0.6000 - val_loss: 0.1634 - val_acc: 1.0000\n",
      "Epoch 72/100\n",
      "10/10 [==============================] - 0s 780us/step - loss: 0.2411 - acc: 0.6000 - val_loss: 0.1633 - val_acc: 1.0000\n",
      "Epoch 73/100\n",
      "10/10 [==============================] - 0s 1ms/step - loss: 0.2411 - acc: 0.6000 - val_loss: 0.1632 - val_acc: 1.0000\n",
      "Epoch 74/100\n",
      "10/10 [==============================] - 0s 788us/step - loss: 0.2411 - acc: 0.6000 - val_loss: 0.1630 - val_acc: 1.0000\n",
      "Epoch 75/100\n",
      "10/10 [==============================] - 0s 844us/step - loss: 0.2411 - acc: 0.6000 - val_loss: 0.1630 - val_acc: 1.0000\n",
      "Epoch 76/100\n",
      "10/10 [==============================] - 0s 924us/step - loss: 0.2411 - acc: 0.6000 - val_loss: 0.1627 - val_acc: 1.0000\n",
      "Epoch 77/100\n",
      "10/10 [==============================] - 0s 1ms/step - loss: 0.2411 - acc: 0.6000 - val_loss: 0.1628 - val_acc: 1.0000\n",
      "Epoch 78/100\n",
      "10/10 [==============================] - 0s 1ms/step - loss: 0.2411 - acc: 0.6000 - val_loss: 0.1626 - val_acc: 1.0000\n",
      "Epoch 79/100\n",
      "10/10 [==============================] - 0s 843us/step - loss: 0.2411 - acc: 0.6000 - val_loss: 0.1625 - val_acc: 1.0000\n",
      "Epoch 80/100\n",
      "10/10 [==============================] - 0s 987us/step - loss: 0.2411 - acc: 0.6000 - val_loss: 0.1623 - val_acc: 1.0000\n",
      "Epoch 81/100\n",
      "10/10 [==============================] - 0s 1ms/step - loss: 0.2411 - acc: 0.6000 - val_loss: 0.1621 - val_acc: 1.0000\n",
      "Epoch 82/100\n",
      "10/10 [==============================] - 0s 978us/step - loss: 0.2411 - acc: 0.6000 - val_loss: 0.1618 - val_acc: 1.0000\n",
      "Epoch 83/100\n",
      "10/10 [==============================] - 0s 1ms/step - loss: 0.2411 - acc: 0.6000 - val_loss: 0.1618 - val_acc: 1.0000\n",
      "Epoch 84/100\n",
      "10/10 [==============================] - 0s 820us/step - loss: 0.2411 - acc: 0.6000 - val_loss: 0.1616 - val_acc: 1.0000\n",
      "Epoch 85/100\n",
      "10/10 [==============================] - 0s 929us/step - loss: 0.2411 - acc: 0.6000 - val_loss: 0.1616 - val_acc: 1.0000\n",
      "Epoch 86/100\n",
      "10/10 [==============================] - 0s 782us/step - loss: 0.2411 - acc: 0.6000 - val_loss: 0.1615 - val_acc: 1.0000\n",
      "Epoch 87/100\n",
      "10/10 [==============================] - 0s 870us/step - loss: 0.2411 - acc: 0.6000 - val_loss: 0.1616 - val_acc: 1.0000\n",
      "Epoch 88/100\n",
      "10/10 [==============================] - 0s 952us/step - loss: 0.2411 - acc: 0.6000 - val_loss: 0.1615 - val_acc: 1.0000\n",
      "Epoch 89/100\n",
      "10/10 [==============================] - 0s 976us/step - loss: 0.2411 - acc: 0.6000 - val_loss: 0.1616 - val_acc: 1.0000\n",
      "Epoch 90/100\n",
      "10/10 [==============================] - 0s 968us/step - loss: 0.2411 - acc: 0.6000 - val_loss: 0.1614 - val_acc: 1.0000\n",
      "Epoch 91/100\n",
      "10/10 [==============================] - 0s 891us/step - loss: 0.2411 - acc: 0.6000 - val_loss: 0.1613 - val_acc: 1.0000\n",
      "Epoch 92/100\n",
      "10/10 [==============================] - 0s 950us/step - loss: 0.2411 - acc: 0.6000 - val_loss: 0.1614 - val_acc: 1.0000\n",
      "Epoch 93/100\n",
      "10/10 [==============================] - 0s 933us/step - loss: 0.2411 - acc: 0.6000 - val_loss: 0.1613 - val_acc: 1.0000\n",
      "Epoch 94/100\n",
      "10/10 [==============================] - 0s 863us/step - loss: 0.2411 - acc: 0.6000 - val_loss: 0.1613 - val_acc: 1.0000\n",
      "Epoch 95/100\n",
      "10/10 [==============================] - 0s 878us/step - loss: 0.2411 - acc: 0.6000 - val_loss: 0.1613 - val_acc: 1.0000\n",
      "Epoch 96/100\n",
      "10/10 [==============================] - 0s 830us/step - loss: 0.2411 - acc: 0.6000 - val_loss: 0.1613 - val_acc: 1.0000\n",
      "Epoch 97/100\n",
      "10/10 [==============================] - 0s 937us/step - loss: 0.2411 - acc: 0.6000 - val_loss: 0.1611 - val_acc: 1.0000\n",
      "Epoch 98/100\n",
      "10/10 [==============================] - 0s 788us/step - loss: 0.2411 - acc: 0.6000 - val_loss: 0.1611 - val_acc: 1.0000\n",
      "Epoch 99/100\n",
      "10/10 [==============================] - 0s 788us/step - loss: 0.2411 - acc: 0.6000 - val_loss: 0.1610 - val_acc: 1.0000\n",
      "Epoch 100/100\n",
      "10/10 [==============================] - 0s 943us/step - loss: 0.2411 - acc: 0.6000 - val_loss: 0.1610 - val_acc: 1.0000\n"
     ]
    }
   ],
   "source": [
    "history1 = network1.fit(X_train, y_train, epochs=100, batch_size=1, validation_split=0.1)"
   ]
  },
  {
   "cell_type": "code",
   "execution_count": 38,
   "metadata": {},
   "outputs": [],
   "source": [
    "end = time.time() - start"
   ]
  },
  {
   "cell_type": "code",
   "execution_count": 39,
   "metadata": {},
   "outputs": [
    {
     "data": {
      "image/png": "[encoded data removed]",
      "text/plain": [
       "<Figure size 432x288 with 1 Axes>"
      ]
     },
     "metadata": {},
     "output_type": "display_data"
    }
   ],
   "source": [
    "plt.plot(history1.history['acc'])\n",
    "plt.plot(history1.history['val_acc'])\n",
    "plt.title('Model accuracy')\n",
    "plt.ylabel('Accuracy')\n",
    "plt.xlabel('Epoch')\n",
    "plt.legend(['Train', 'Test'], loc='upper left')\n",
    "plt.show()"
   ]
  },
  {
   "cell_type": "code",
   "execution_count": 40,
   "metadata": {},
   "outputs": [
    {
     "data": {
      "image/png": "[encoded data removed]",
      "text/plain": [
       "<Figure size 432x288 with 1 Axes>"
      ]
     },
     "metadata": {},
     "output_type": "display_data"
    }
   ],
   "source": [
    "plt.plot(history1.history['loss'])\n",
    "plt.plot(history1.history['val_loss'])\n",
    "plt.title('Model loss')\n",
    "plt.ylabel('Loss')\n",
    "plt.xlabel('Epoch')\n",
    "plt.legend(['Train', 'Test'], loc='upper left')\n",
    "plt.show()"
   ]
  },
  {
   "cell_type": "code",
   "execution_count": 41,
   "metadata": {},
   "outputs": [
    {
     "name": "stdout",
     "output_type": "stream",
     "text": [
      "2/2 [==============================] - 0s 804us/step\n"
     ]
    }
   ],
   "source": [
    "score1 = network1.evaluate(X_test, y_test, batch_size=1)"
   ]
  },
  {
   "cell_type": "code",
   "execution_count": 42,
   "metadata": {},
   "outputs": [
    {
     "name": "stdout",
     "output_type": "stream",
     "text": [
      "Loss: 25.96431076526642 %\n",
      "Accuracy 50.0 %\n",
      "Time: 1.3786225318908691 ms\n"
     ]
    }
   ],
   "source": [
    "print(\"Loss: {} %\".format(score1[0]*100.0))\n",
    "print(\"Accuracy {} %\".format(score1[1]*100.0))\n",
    "print(\"Time: {} ms\".format(end))"
   ]
  },
  {
   "cell_type": "markdown",
   "metadata": {},
   "source": [
    "### 1.b.2.3 Batch =  Jumlah Data Latih"
   ]
  },
  {
   "cell_type": "markdown",
   "metadata": {},
   "source": [
    "##### 1.b.2.3.1 Classifier Sendiri"
   ]
  },
  {
   "cell_type": "code",
   "execution_count": 43,
   "metadata": {},
   "outputs": [],
   "source": [
    "start = time.time()"
   ]
  },
  {
   "cell_type": "code",
   "execution_count": 44,
   "metadata": {},
   "outputs": [
    {
     "name": "stdout",
     "output_type": "stream",
     "text": [
      "Train on 10 samples, validate on 2 samples\n",
      "Epoch 1/100 : 0.0010251998901367188 s - loss: 0.4 - acc: 0.6 - val_loss: 0.0 - val_acc: 1.0\n",
      "Epoch 2/100 : 0.0005500316619873047 s - loss: 0.4 - acc: 0.6 - val_loss: 0.0 - val_acc: 1.0\n",
      "Epoch 3/100 : 0.00043773651123046875 s - loss: 0.4 - acc: 0.6 - val_loss: 0.0 - val_acc: 1.0\n",
      "Epoch 4/100 : 0.000377655029296875 s - loss: 0.4 - acc: 0.6 - val_loss: 0.0 - val_acc: 1.0\n",
      "Epoch 5/100 : 0.0003705024719238281 s - loss: 0.4 - acc: 0.6 - val_loss: 0.0 - val_acc: 1.0\n",
      "Epoch 6/100 : 0.0003674030303955078 s - loss: 0.4 - acc: 0.6 - val_loss: 0.0 - val_acc: 1.0\n",
      "Epoch 7/100 : 0.00034165382385253906 s - loss: 0.4 - acc: 0.6 - val_loss: 0.0 - val_acc: 1.0\n",
      "Epoch 8/100 : 0.00033736228942871094 s - loss: 0.4 - acc: 0.6 - val_loss: 0.0 - val_acc: 1.0\n",
      "Epoch 9/100 : 0.0003371238708496094 s - loss: 0.4 - acc: 0.6 - val_loss: 0.0 - val_acc: 1.0\n",
      "Epoch 10/100 : 0.0003418922424316406 s - loss: 0.4 - acc: 0.6 - val_loss: 0.0 - val_acc: 1.0\n",
      "Epoch 11/100 : 0.0003342628479003906 s - loss: 0.4 - acc: 0.6 - val_loss: 0.0 - val_acc: 1.0\n",
      "Epoch 12/100 : 0.0003380775451660156 s - loss: 0.4 - acc: 0.6 - val_loss: 0.0 - val_acc: 1.0\n",
      "Epoch 13/100 : 0.000339508056640625 s - loss: 0.4 - acc: 0.6 - val_loss: 0.0 - val_acc: 1.0\n",
      "Epoch 14/100 : 0.0004336833953857422 s - loss: 0.4 - acc: 0.6 - val_loss: 0.0 - val_acc: 1.0\n",
      "Epoch 15/100 : 0.00034117698669433594 s - loss: 0.4 - acc: 0.6 - val_loss: 0.0 - val_acc: 1.0\n",
      "Epoch 16/100 : 0.000339508056640625 s - loss: 0.4 - acc: 0.6 - val_loss: 0.0 - val_acc: 1.0\n",
      "Epoch 17/100 : 0.0003371238708496094 s - loss: 0.4 - acc: 0.6 - val_loss: 0.0 - val_acc: 1.0\n",
      "Epoch 18/100 : 0.0003352165222167969 s - loss: 0.4 - acc: 0.6 - val_loss: 0.0 - val_acc: 1.0\n",
      "Epoch 19/100 : 0.0003376007080078125 s - loss: 0.4 - acc: 0.6 - val_loss: 0.0 - val_acc: 1.0\n",
      "Epoch 20/100 : 0.0003330707550048828 s - loss: 0.4 - acc: 0.6 - val_loss: 0.0 - val_acc: 1.0\n",
      "Epoch 21/100 : 0.00039124488830566406 s - loss: 0.4 - acc: 0.6 - val_loss: 0.0 - val_acc: 1.0\n",
      "Epoch 22/100 : 0.0003428459167480469 s - loss: 0.4 - acc: 0.6 - val_loss: 0.0 - val_acc: 1.0\n",
      "Epoch 23/100 : 0.000331878662109375 s - loss: 0.4 - acc: 0.6 - val_loss: 0.0 - val_acc: 1.0\n",
      "Epoch 24/100 : 0.0003342628479003906 s - loss: 0.4 - acc: 0.6 - val_loss: 0.0 - val_acc: 1.0\n",
      "Epoch 25/100 : 0.0003349781036376953 s - loss: 0.4 - acc: 0.6 - val_loss: 0.0 - val_acc: 1.0\n",
      "Epoch 26/100 : 0.0003364086151123047 s - loss: 0.4 - acc: 0.6 - val_loss: 0.0 - val_acc: 1.0\n",
      "Epoch 27/100 : 0.00033473968505859375 s - loss: 0.4 - acc: 0.6 - val_loss: 0.0 - val_acc: 1.0\n",
      "Epoch 28/100 : 0.0004756450653076172 s - loss: 0.4 - acc: 0.6 - val_loss: 0.0 - val_acc: 1.0\n",
      "Epoch 29/100 : 0.0003476142883300781 s - loss: 0.4 - acc: 0.6 - val_loss: 0.0 - val_acc: 1.0\n",
      "Epoch 30/100 : 0.00034689903259277344 s - loss: 0.4 - acc: 0.6 - val_loss: 0.0 - val_acc: 1.0\n",
      "Epoch 31/100 : 0.0003516674041748047 s - loss: 0.4 - acc: 0.6 - val_loss: 0.0 - val_acc: 1.0\n",
      "Epoch 32/100 : 0.00034499168395996094 s - loss: 0.4 - acc: 0.6 - val_loss: 0.0 - val_acc: 1.0\n",
      "Epoch 33/100 : 0.0003452301025390625 s - loss: 0.4 - acc: 0.6 - val_loss: 0.0 - val_acc: 1.0\n",
      "Epoch 34/100 : 0.00034618377685546875 s - loss: 0.4 - acc: 0.6 - val_loss: 0.0 - val_acc: 1.0\n",
      "Epoch 35/100 : 0.0003490447998046875 s - loss: 0.4 - acc: 0.6 - val_loss: 0.0 - val_acc: 1.0\n",
      "Epoch 36/100 : 0.0003495216369628906 s - loss: 0.4 - acc: 0.6 - val_loss: 0.0 - val_acc: 1.0\n",
      "Epoch 37/100 : 0.000354766845703125 s - loss: 0.4 - acc: 0.6 - val_loss: 0.0 - val_acc: 1.0\n",
      "Epoch 38/100 : 0.00034809112548828125 s - loss: 0.4 - acc: 0.6 - val_loss: 0.0 - val_acc: 1.0\n",
      "Epoch 39/100 : 0.00034356117248535156 s - loss: 0.4 - acc: 0.6 - val_loss: 0.0 - val_acc: 1.0\n",
      "Epoch 40/100 : 0.0003504753112792969 s - loss: 0.4 - acc: 0.6 - val_loss: 0.0 - val_acc: 1.0\n",
      "Epoch 41/100 : 0.000347137451171875 s - loss: 0.4 - acc: 0.6 - val_loss: 0.0 - val_acc: 1.0\n",
      "Epoch 42/100 : 0.00034618377685546875 s - loss: 0.4 - acc: 0.6 - val_loss: 0.0 - val_acc: 1.0\n",
      "Epoch 43/100 : 0.00035834312438964844 s - loss: 0.4 - acc: 0.6 - val_loss: 0.0 - val_acc: 1.0\n",
      "Epoch 44/100 : 0.0003333091735839844 s - loss: 0.4 - acc: 0.6 - val_loss: 0.0 - val_acc: 1.0\n",
      "Epoch 45/100 : 0.0003345012664794922 s - loss: 0.4 - acc: 0.6 - val_loss: 0.0 - val_acc: 1.0\n",
      "Epoch 46/100 : 0.0003387928009033203 s - loss: 0.4 - acc: 0.6 - val_loss: 0.0 - val_acc: 1.0\n",
      "Epoch 47/100 : 0.0003459453582763672 s - loss: 0.4 - acc: 0.6 - val_loss: 0.0 - val_acc: 1.0\n",
      "Epoch 48/100 : 0.0003376007080078125 s - loss: 0.4 - acc: 0.6 - val_loss: 0.0 - val_acc: 1.0\n",
      "Epoch 49/100 : 0.00033974647521972656 s - loss: 0.4 - acc: 0.6 - val_loss: 0.0 - val_acc: 1.0\n",
      "Epoch 50/100 : 0.0003764629364013672 s - loss: 0.4 - acc: 0.6 - val_loss: 0.0 - val_acc: 1.0\n",
      "Epoch 51/100 : 0.00033926963806152344 s - loss: 0.4 - acc: 0.6 - val_loss: 0.0 - val_acc: 1.0\n",
      "Epoch 52/100 : 0.0003418922424316406 s - loss: 0.4 - acc: 0.6 - val_loss: 0.0 - val_acc: 1.0\n",
      "Epoch 53/100 : 0.00034546852111816406 s - loss: 0.4 - acc: 0.6 - val_loss: 0.0 - val_acc: 1.0\n",
      "Epoch 54/100 : 0.00034737586975097656 s - loss: 0.4 - acc: 0.6 - val_loss: 0.0 - val_acc: 1.0\n",
      "Epoch 55/100 : 0.0003497600555419922 s - loss: 0.4 - acc: 0.6 - val_loss: 0.0 - val_acc: 1.0\n",
      "Epoch 56/100 : 0.0003478527069091797 s - loss: 0.4 - acc: 0.6 - val_loss: 0.0 - val_acc: 1.0\n",
      "Epoch 57/100 : 0.0003426074981689453 s - loss: 0.4 - acc: 0.6 - val_loss: 0.0 - val_acc: 1.0\n",
      "Epoch 58/100 : 0.0005254745483398438 s - loss: 0.4 - acc: 0.6 - val_loss: 0.0 - val_acc: 1.0\n",
      "Epoch 59/100 : 0.0003502368927001953 s - loss: 0.4 - acc: 0.6 - val_loss: 0.0 - val_acc: 1.0\n",
      "Epoch 60/100 : 0.0003504753112792969 s - loss: 0.4 - acc: 0.6 - val_loss: 0.0 - val_acc: 1.0\n",
      "Epoch 61/100 : 0.00034880638122558594 s - loss: 0.4 - acc: 0.6 - val_loss: 0.0 - val_acc: 1.0\n",
      "Epoch 62/100 : 0.0003445148468017578 s - loss: 0.4 - acc: 0.6 - val_loss: 0.0 - val_acc: 1.0\n",
      "Epoch 63/100 : 0.00035119056701660156 s - loss: 0.4 - acc: 0.6 - val_loss: 0.0 - val_acc: 1.0\n",
      "Epoch 64/100 : 0.00036525726318359375 s - loss: 0.4 - acc: 0.6 - val_loss: 0.0 - val_acc: 1.0\n",
      "Epoch 65/100 : 0.0003437995910644531 s - loss: 0.4 - acc: 0.6 - val_loss: 0.0 - val_acc: 1.0\n",
      "Epoch 66/100 : 0.0003457069396972656 s - loss: 0.4 - acc: 0.6 - val_loss: 0.0 - val_acc: 1.0\n",
      "Epoch 67/100 : 0.0003459453582763672 s - loss: 0.4 - acc: 0.6 - val_loss: 0.0 - val_acc: 1.0\n",
      "Epoch 68/100 : 0.000347137451171875 s - loss: 0.4 - acc: 0.6 - val_loss: 0.0 - val_acc: 1.0\n",
      "Epoch 69/100 : 0.00034928321838378906 s - loss: 0.4 - acc: 0.6 - val_loss: 0.0 - val_acc: 1.0\n",
      "Epoch 70/100 : 0.00034618377685546875 s - loss: 0.4 - acc: 0.6 - val_loss: 0.0 - val_acc: 1.0\n",
      "Epoch 71/100 : 0.0003466606140136719 s - loss: 0.4 - acc: 0.6 - val_loss: 0.0 - val_acc: 1.0\n",
      "Epoch 72/100 : 0.0003669261932373047 s - loss: 0.4 - acc: 0.6 - val_loss: 0.0 - val_acc: 1.0\n",
      "Epoch 73/100 : 0.00034618377685546875 s - loss: 0.4 - acc: 0.6 - val_loss: 0.0 - val_acc: 1.0\n",
      "Epoch 74/100 : 0.00034546852111816406 s - loss: 0.4 - acc: 0.6 - val_loss: 0.0 - val_acc: 1.0\n",
      "Epoch 75/100 : 0.0003514289855957031 s - loss: 0.4 - acc: 0.6 - val_loss: 0.0 - val_acc: 1.0\n",
      "Epoch 76/100 : 0.00034737586975097656 s - loss: 0.4 - acc: 0.6 - val_loss: 0.0 - val_acc: 1.0\n",
      "Epoch 77/100 : 0.00034308433532714844 s - loss: 0.4 - acc: 0.6 - val_loss: 0.0 - val_acc: 1.0\n",
      "Epoch 78/100 : 0.0003516674041748047 s - loss: 0.4 - acc: 0.6 - val_loss: 0.0 - val_acc: 1.0\n",
      "Epoch 79/100 : 0.00039458274841308594 s - loss: 0.4 - acc: 0.6 - val_loss: 0.0 - val_acc: 1.0\n",
      "Epoch 80/100 : 0.0003371238708496094 s - loss: 0.4 - acc: 0.6 - val_loss: 0.0 - val_acc: 1.0\n",
      "Epoch 81/100 : 0.00034236907958984375 s - loss: 0.4 - acc: 0.6 - val_loss: 0.0 - val_acc: 1.0\n",
      "Epoch 82/100 : 0.0003342628479003906 s - loss: 0.4 - acc: 0.6 - val_loss: 0.0 - val_acc: 1.0\n",
      "Epoch 83/100 : 0.00033545494079589844 s - loss: 0.4 - acc: 0.6 - val_loss: 0.0 - val_acc: 1.0\n",
      "Epoch 84/100 : 0.0003390312194824219 s - loss: 0.4 - acc: 0.6 - val_loss: 0.0 - val_acc: 1.0\n",
      "Epoch 85/100 : 0.0003380775451660156 s - loss: 0.4 - acc: 0.6 - val_loss: 0.0 - val_acc: 1.0\n",
      "Epoch 86/100 : 0.000335693359375 s - loss: 0.4 - acc: 0.6 - val_loss: 0.0 - val_acc: 1.0\n",
      "Epoch 87/100 : 0.00034117698669433594 s - loss: 0.4 - acc: 0.6 - val_loss: 0.0 - val_acc: 1.0\n",
      "Epoch 88/100 : 0.0003726482391357422 s - loss: 0.4 - acc: 0.6 - val_loss: 0.0 - val_acc: 1.0\n",
      "Epoch 89/100 : 0.0003483295440673828 s - loss: 0.4 - acc: 0.6 - val_loss: 0.0 - val_acc: 1.0\n",
      "Epoch 90/100 : 0.00035381317138671875 s - loss: 0.4 - acc: 0.6 - val_loss: 0.0 - val_acc: 1.0\n",
      "Epoch 91/100 : 0.0003504753112792969 s - loss: 0.4 - acc: 0.6 - val_loss: 0.0 - val_acc: 1.0\n",
      "Epoch 92/100 : 0.0003452301025390625 s - loss: 0.4 - acc: 0.6 - val_loss: 0.0 - val_acc: 1.0\n",
      "Epoch 93/100 : 0.0003495216369628906 s - loss: 0.4 - acc: 0.6 - val_loss: 0.0 - val_acc: 1.0\n",
      "Epoch 94/100 : 0.0003485679626464844 s - loss: 0.4 - acc: 0.6 - val_loss: 0.0 - val_acc: 1.0\n",
      "Epoch 95/100 : 0.0003459453582763672 s - loss: 0.4 - acc: 0.6 - val_loss: 0.0 - val_acc: 1.0\n",
      "Epoch 96/100 : 0.0003523826599121094 s - loss: 0.4 - acc: 0.6 - val_loss: 0.0 - val_acc: 1.0\n",
      "Epoch 97/100 : 0.0003466606140136719 s - loss: 0.4 - acc: 0.6 - val_loss: 0.0 - val_acc: 1.0\n",
      "Epoch 98/100 : 0.00034165382385253906 s - loss: 0.4 - acc: 0.6 - val_loss: 0.0 - val_acc: 1.0\n",
      "Epoch 99/100 : 0.00034999847412109375 s - loss: 0.4 - acc: 0.6 - val_loss: 0.0 - val_acc: 1.0\n",
      "Epoch 100/100 : 0.00034737586975097656 s - loss: 0.4 - acc: 0.6 - val_loss: 0.0 - val_acc: 1.0\n"
     ]
    }
   ],
   "source": [
    "neural_network2 = Network([4, 1])\n",
    "neural_network2.fit(train_data, 100, len(X_train), 0.1, validation_split=0.1)"
   ]
  },
  {
   "cell_type": "code",
   "execution_count": 45,
   "metadata": {},
   "outputs": [],
   "source": [
    "end = time.time() - start"
   ]
  },
  {
   "cell_type": "code",
   "execution_count": 46,
   "metadata": {},
   "outputs": [
    {
     "data": {
      "image/png": "[encoded data removed]",
      "text/plain": [
       "<Figure size 432x288 with 1 Axes>"
      ]
     },
     "metadata": {},
     "output_type": "display_data"
    }
   ],
   "source": [
    "plt.plot(neural_network2.history['acc'])\n",
    "plt.plot(neural_network2.history['val_acc'])\n",
    "plt.title('Model accuracy')\n",
    "plt.ylabel('Accuracy')\n",
    "plt.xlabel('Epoch')\n",
    "plt.legend(['Train', 'Test'], loc='upper left')\n",
    "plt.show()"
   ]
  },
  {
   "cell_type": "code",
   "execution_count": 47,
   "metadata": {},
   "outputs": [
    {
     "data": {
      "image/png": "[encoded data removed]",
      "text/plain": [
       "<Figure size 432x288 with 1 Axes>"
      ]
     },
     "metadata": {},
     "output_type": "display_data"
    }
   ],
   "source": [
    "plt.plot(neural_network1.history['loss'])\n",
    "plt.plot(neural_network1.history['val_loss'])\n",
    "plt.title('Model loss')\n",
    "plt.ylabel('Loss')\n",
    "plt.xlabel('Epoch')\n",
    "plt.legend(['Train', 'Test'], loc='upper left')\n",
    "plt.show()"
   ]
  },
  {
   "cell_type": "code",
   "execution_count": 48,
   "metadata": {},
   "outputs": [],
   "source": [
    "accuracy2, loss2 = neural_network2.evaluate(test_data)"
   ]
  },
  {
   "cell_type": "code",
   "execution_count": 49,
   "metadata": {},
   "outputs": [
    {
     "name": "stdout",
     "output_type": "stream",
     "text": [
      "Loss: 50.0 %\n",
      "Accuracy 50.0 %\n",
      "Time: 0.15588736534118652 ms\n"
     ]
    }
   ],
   "source": [
    "print(\"Loss: {} %\".format(loss2*100.0))\n",
    "print(\"Accuracy {} %\".format(accuracy2*100.0))\n",
    "print(\"Time: {} ms\".format(end))"
   ]
  },
  {
   "cell_type": "markdown",
   "metadata": {},
   "source": [
    "##### 1.b.2.3.2 Keras Model"
   ]
  },
  {
   "cell_type": "markdown",
   "metadata": {},
   "source": [
    "Reinitialisasi model keras untuk eksperimen kedua."
   ]
  },
  {
   "cell_type": "code",
   "execution_count": 50,
   "metadata": {},
   "outputs": [],
   "source": [
    "network2 = Sequential([\n",
    "    Dense(4, input_shape=(4,)),\n",
    "    Dense(10, activation='sigmoid'),\n",
    "    Dense(8, activation='sigmoid'),\n",
    "    Dense(1, activation='sigmoid')\n",
    "])"
   ]
  },
  {
   "cell_type": "code",
   "execution_count": 51,
   "metadata": {},
   "outputs": [],
   "source": [
    "network2.compile(optimizer='SGD', loss='mse', metrics=['accuracy'])"
   ]
  },
  {
   "cell_type": "code",
   "execution_count": 52,
   "metadata": {},
   "outputs": [
    {
     "name": "stdout",
     "output_type": "stream",
     "text": [
      "_________________________________________________________________\n",
      "Layer (type)                 Output Shape              Param #   \n",
      "=================================================================\n",
      "dense_10 (Dense)             (None, 4)                 20        \n",
      "_________________________________________________________________\n",
      "dense_11 (Dense)             (None, 10)                50        \n",
      "_________________________________________________________________\n",
      "dense_12 (Dense)             (None, 8)                 88        \n",
      "_________________________________________________________________\n",
      "dense_13 (Dense)             (None, 1)                 9         \n",
      "=================================================================\n",
      "Total params: 167\n",
      "Trainable params: 167\n",
      "Non-trainable params: 0\n",
      "_________________________________________________________________\n"
     ]
    }
   ],
   "source": [
    "network2.summary()"
   ]
  },
  {
   "cell_type": "code",
   "execution_count": 53,
   "metadata": {},
   "outputs": [],
   "source": [
    "start = time.time()"
   ]
  },
  {
   "cell_type": "code",
   "execution_count": 54,
   "metadata": {},
   "outputs": [
    {
     "name": "stdout",
     "output_type": "stream",
     "text": [
      "Train on 10 samples, validate on 2 samples\n",
      "Epoch 1/100\n",
      "10/10 [==============================] - 0s 14ms/step - loss: 0.2505 - acc: 0.5000 - val_loss: 0.2551 - val_acc: 0.5000\n",
      "Epoch 2/100\n",
      "10/10 [==============================] - 0s 174us/step - loss: 0.2504 - acc: 0.4000 - val_loss: 0.2543 - val_acc: 0.5000\n",
      "Epoch 3/100\n",
      "10/10 [==============================] - 0s 166us/step - loss: 0.2502 - acc: 0.4000 - val_loss: 0.2536 - val_acc: 0.5000\n",
      "Epoch 4/100\n",
      "10/10 [==============================] - 0s 138us/step - loss: 0.2501 - acc: 0.5000 - val_loss: 0.2528 - val_acc: 0.5000\n",
      "Epoch 5/100\n",
      "10/10 [==============================] - 0s 158us/step - loss: 0.2500 - acc: 0.5000 - val_loss: 0.2521 - val_acc: 0.5000\n",
      "Epoch 6/100\n",
      "10/10 [==============================] - 0s 142us/step - loss: 0.2499 - acc: 0.5000 - val_loss: 0.2515 - val_acc: 0.5000\n",
      "Epoch 7/100\n",
      "10/10 [==============================] - 0s 168us/step - loss: 0.2498 - acc: 0.5000 - val_loss: 0.2508 - val_acc: 0.5000\n",
      "Epoch 8/100\n",
      "10/10 [==============================] - 0s 186us/step - loss: 0.2497 - acc: 0.6000 - val_loss: 0.2501 - val_acc: 0.5000\n",
      "Epoch 9/100\n",
      "10/10 [==============================] - 0s 123us/step - loss: 0.2496 - acc: 0.6000 - val_loss: 0.2495 - val_acc: 0.5000\n",
      "Epoch 10/100\n",
      "10/10 [==============================] - 0s 105us/step - loss: 0.2495 - acc: 0.6000 - val_loss: 0.2489 - val_acc: 0.5000\n",
      "Epoch 11/100\n",
      "10/10 [==============================] - 0s 127us/step - loss: 0.2493 - acc: 0.6000 - val_loss: 0.2483 - val_acc: 0.5000\n",
      "Epoch 12/100\n",
      "10/10 [==============================] - 0s 111us/step - loss: 0.2492 - acc: 0.6000 - val_loss: 0.2477 - val_acc: 0.5000\n",
      "Epoch 13/100\n",
      "10/10 [==============================] - 0s 124us/step - loss: 0.2491 - acc: 0.6000 - val_loss: 0.2471 - val_acc: 0.5000\n",
      "Epoch 14/100\n",
      "10/10 [==============================] - 0s 125us/step - loss: 0.2490 - acc: 0.6000 - val_loss: 0.2465 - val_acc: 0.5000\n",
      "Epoch 15/100\n",
      "10/10 [==============================] - 0s 109us/step - loss: 0.2490 - acc: 0.6000 - val_loss: 0.2460 - val_acc: 1.0000\n",
      "Epoch 16/100\n",
      "10/10 [==============================] - 0s 124us/step - loss: 0.2489 - acc: 0.6000 - val_loss: 0.2454 - val_acc: 1.0000\n",
      "Epoch 17/100\n",
      "10/10 [==============================] - 0s 138us/step - loss: 0.2488 - acc: 0.6000 - val_loss: 0.2449 - val_acc: 1.0000\n",
      "Epoch 18/100\n",
      "10/10 [==============================] - 0s 217us/step - loss: 0.2487 - acc: 0.6000 - val_loss: 0.2443 - val_acc: 1.0000\n",
      "Epoch 19/100\n",
      "10/10 [==============================] - 0s 168us/step - loss: 0.2486 - acc: 0.6000 - val_loss: 0.2438 - val_acc: 1.0000\n",
      "Epoch 20/100\n",
      "10/10 [==============================] - 0s 165us/step - loss: 0.2485 - acc: 0.6000 - val_loss: 0.2432 - val_acc: 1.0000\n",
      "Epoch 21/100\n",
      "10/10 [==============================] - 0s 155us/step - loss: 0.2484 - acc: 0.6000 - val_loss: 0.2427 - val_acc: 1.0000\n",
      "Epoch 22/100\n",
      "10/10 [==============================] - 0s 159us/step - loss: 0.2483 - acc: 0.6000 - val_loss: 0.2422 - val_acc: 1.0000\n",
      "Epoch 23/100\n",
      "10/10 [==============================] - 0s 145us/step - loss: 0.2482 - acc: 0.6000 - val_loss: 0.2417 - val_acc: 1.0000\n",
      "Epoch 24/100\n",
      "10/10 [==============================] - 0s 129us/step - loss: 0.2481 - acc: 0.6000 - val_loss: 0.2412 - val_acc: 1.0000\n",
      "Epoch 25/100\n",
      "10/10 [==============================] - 0s 113us/step - loss: 0.2481 - acc: 0.6000 - val_loss: 0.2407 - val_acc: 1.0000\n",
      "Epoch 26/100\n",
      "10/10 [==============================] - 0s 119us/step - loss: 0.2480 - acc: 0.6000 - val_loss: 0.2402 - val_acc: 1.0000\n",
      "Epoch 27/100\n",
      "10/10 [==============================] - 0s 167us/step - loss: 0.2479 - acc: 0.6000 - val_loss: 0.2397 - val_acc: 1.0000\n",
      "Epoch 28/100\n",
      "10/10 [==============================] - 0s 124us/step - loss: 0.2478 - acc: 0.6000 - val_loss: 0.2393 - val_acc: 1.0000\n",
      "Epoch 29/100\n",
      "10/10 [==============================] - 0s 111us/step - loss: 0.2477 - acc: 0.6000 - val_loss: 0.2388 - val_acc: 1.0000\n",
      "Epoch 30/100\n",
      "10/10 [==============================] - 0s 115us/step - loss: 0.2477 - acc: 0.6000 - val_loss: 0.2383 - val_acc: 1.0000\n",
      "Epoch 31/100\n",
      "10/10 [==============================] - 0s 120us/step - loss: 0.2476 - acc: 0.6000 - val_loss: 0.2378 - val_acc: 1.0000\n",
      "Epoch 32/100\n",
      "10/10 [==============================] - 0s 110us/step - loss: 0.2475 - acc: 0.6000 - val_loss: 0.2374 - val_acc: 1.0000\n",
      "Epoch 33/100\n",
      "10/10 [==============================] - 0s 125us/step - loss: 0.2474 - acc: 0.6000 - val_loss: 0.2369 - val_acc: 1.0000\n",
      "Epoch 34/100\n",
      "10/10 [==============================] - 0s 118us/step - loss: 0.2473 - acc: 0.6000 - val_loss: 0.2365 - val_acc: 1.0000\n",
      "Epoch 35/100\n",
      "10/10 [==============================] - 0s 112us/step - loss: 0.2473 - acc: 0.6000 - val_loss: 0.2360 - val_acc: 1.0000\n",
      "Epoch 36/100\n",
      "10/10 [==============================] - 0s 140us/step - loss: 0.2472 - acc: 0.6000 - val_loss: 0.2356 - val_acc: 1.0000\n",
      "Epoch 37/100\n",
      "10/10 [==============================] - 0s 139us/step - loss: 0.2471 - acc: 0.6000 - val_loss: 0.2351 - val_acc: 1.0000\n",
      "Epoch 38/100\n",
      "10/10 [==============================] - 0s 213us/step - loss: 0.2471 - acc: 0.6000 - val_loss: 0.2347 - val_acc: 1.0000\n",
      "Epoch 39/100\n",
      "10/10 [==============================] - 0s 227us/step - loss: 0.2470 - acc: 0.6000 - val_loss: 0.2343 - val_acc: 1.0000\n",
      "Epoch 40/100\n",
      "10/10 [==============================] - 0s 183us/step - loss: 0.2469 - acc: 0.6000 - val_loss: 0.2338 - val_acc: 1.0000\n",
      "Epoch 41/100\n",
      "10/10 [==============================] - 0s 150us/step - loss: 0.2468 - acc: 0.6000 - val_loss: 0.2334 - val_acc: 1.0000\n",
      "Epoch 42/100\n",
      "10/10 [==============================] - 0s 125us/step - loss: 0.2468 - acc: 0.6000 - val_loss: 0.2330 - val_acc: 1.0000\n",
      "Epoch 43/100\n",
      "10/10 [==============================] - 0s 131us/step - loss: 0.2467 - acc: 0.6000 - val_loss: 0.2326 - val_acc: 1.0000\n",
      "Epoch 44/100\n",
      "10/10 [==============================] - 0s 121us/step - loss: 0.2466 - acc: 0.6000 - val_loss: 0.2322 - val_acc: 1.0000\n",
      "Epoch 45/100\n",
      "10/10 [==============================] - 0s 110us/step - loss: 0.2466 - acc: 0.6000 - val_loss: 0.2318 - val_acc: 1.0000\n",
      "Epoch 46/100\n",
      "10/10 [==============================] - 0s 112us/step - loss: 0.2465 - acc: 0.6000 - val_loss: 0.2313 - val_acc: 1.0000\n",
      "Epoch 47/100\n",
      "10/10 [==============================] - 0s 139us/step - loss: 0.2464 - acc: 0.6000 - val_loss: 0.2309 - val_acc: 1.0000\n",
      "Epoch 48/100\n",
      "10/10 [==============================] - 0s 114us/step - loss: 0.2464 - acc: 0.6000 - val_loss: 0.2305 - val_acc: 1.0000\n",
      "Epoch 49/100\n",
      "10/10 [==============================] - 0s 121us/step - loss: 0.2463 - acc: 0.6000 - val_loss: 0.2301 - val_acc: 1.0000\n",
      "Epoch 50/100\n",
      "10/10 [==============================] - 0s 133us/step - loss: 0.2462 - acc: 0.6000 - val_loss: 0.2297 - val_acc: 1.0000\n",
      "Epoch 51/100\n",
      "10/10 [==============================] - 0s 161us/step - loss: 0.2462 - acc: 0.6000 - val_loss: 0.2294 - val_acc: 1.0000\n",
      "Epoch 52/100\n",
      "10/10 [==============================] - 0s 310us/step - loss: 0.2461 - acc: 0.6000 - val_loss: 0.2290 - val_acc: 1.0000\n",
      "Epoch 53/100\n",
      "10/10 [==============================] - 0s 246us/step - loss: 0.2461 - acc: 0.6000 - val_loss: 0.2286 - val_acc: 1.0000\n",
      "Epoch 54/100\n",
      "10/10 [==============================] - 0s 155us/step - loss: 0.2460 - acc: 0.6000 - val_loss: 0.2282 - val_acc: 1.0000\n",
      "Epoch 55/100\n",
      "10/10 [==============================] - 0s 139us/step - loss: 0.2459 - acc: 0.6000 - val_loss: 0.2278 - val_acc: 1.0000\n",
      "Epoch 56/100\n",
      "10/10 [==============================] - 0s 128us/step - loss: 0.2459 - acc: 0.6000 - val_loss: 0.2274 - val_acc: 1.0000\n",
      "Epoch 57/100\n",
      "10/10 [==============================] - 0s 109us/step - loss: 0.2458 - acc: 0.6000 - val_loss: 0.2271 - val_acc: 1.0000\n",
      "Epoch 58/100\n",
      "10/10 [==============================] - 0s 129us/step - loss: 0.2458 - acc: 0.6000 - val_loss: 0.2267 - val_acc: 1.0000\n",
      "Epoch 59/100\n",
      "10/10 [==============================] - 0s 124us/step - loss: 0.2457 - acc: 0.6000 - val_loss: 0.2263 - val_acc: 1.0000\n",
      "Epoch 60/100\n",
      "10/10 [==============================] - 0s 158us/step - loss: 0.2457 - acc: 0.6000 - val_loss: 0.2259 - val_acc: 1.0000\n",
      "Epoch 61/100\n",
      "10/10 [==============================] - 0s 153us/step - loss: 0.2456 - acc: 0.6000 - val_loss: 0.2256 - val_acc: 1.0000\n"
     ]
    },
    {
     "name": "stdout",
     "output_type": "stream",
     "text": [
      "Epoch 62/100\n",
      "10/10 [==============================] - 0s 124us/step - loss: 0.2455 - acc: 0.6000 - val_loss: 0.2252 - val_acc: 1.0000\n",
      "Epoch 63/100\n",
      "10/10 [==============================] - 0s 148us/step - loss: 0.2455 - acc: 0.6000 - val_loss: 0.2249 - val_acc: 1.0000\n",
      "Epoch 64/100\n",
      "10/10 [==============================] - 0s 161us/step - loss: 0.2454 - acc: 0.6000 - val_loss: 0.2245 - val_acc: 1.0000\n",
      "Epoch 65/100\n",
      "10/10 [==============================] - 0s 155us/step - loss: 0.2454 - acc: 0.6000 - val_loss: 0.2241 - val_acc: 1.0000\n",
      "Epoch 66/100\n",
      "10/10 [==============================] - 0s 324us/step - loss: 0.2453 - acc: 0.6000 - val_loss: 0.2238 - val_acc: 1.0000\n",
      "Epoch 67/100\n",
      "10/10 [==============================] - 0s 233us/step - loss: 0.2453 - acc: 0.6000 - val_loss: 0.2234 - val_acc: 1.0000\n",
      "Epoch 68/100\n",
      "10/10 [==============================] - 0s 163us/step - loss: 0.2452 - acc: 0.6000 - val_loss: 0.2231 - val_acc: 1.0000\n",
      "Epoch 69/100\n",
      "10/10 [==============================] - 0s 147us/step - loss: 0.2452 - acc: 0.6000 - val_loss: 0.2227 - val_acc: 1.0000\n",
      "Epoch 70/100\n",
      "10/10 [==============================] - 0s 134us/step - loss: 0.2451 - acc: 0.6000 - val_loss: 0.2224 - val_acc: 1.0000\n",
      "Epoch 71/100\n",
      "10/10 [==============================] - 0s 138us/step - loss: 0.2451 - acc: 0.6000 - val_loss: 0.2221 - val_acc: 1.0000\n",
      "Epoch 72/100\n",
      "10/10 [==============================] - 0s 106us/step - loss: 0.2450 - acc: 0.6000 - val_loss: 0.2217 - val_acc: 1.0000\n",
      "Epoch 73/100\n",
      "10/10 [==============================] - 0s 106us/step - loss: 0.2450 - acc: 0.6000 - val_loss: 0.2214 - val_acc: 1.0000\n",
      "Epoch 74/100\n",
      "10/10 [==============================] - 0s 119us/step - loss: 0.2449 - acc: 0.6000 - val_loss: 0.2210 - val_acc: 1.0000\n",
      "Epoch 75/100\n",
      "10/10 [==============================] - 0s 127us/step - loss: 0.2449 - acc: 0.6000 - val_loss: 0.2207 - val_acc: 1.0000\n",
      "Epoch 76/100\n",
      "10/10 [==============================] - 0s 151us/step - loss: 0.2448 - acc: 0.6000 - val_loss: 0.2204 - val_acc: 1.0000\n",
      "Epoch 77/100\n",
      "10/10 [==============================] - 0s 153us/step - loss: 0.2448 - acc: 0.6000 - val_loss: 0.2200 - val_acc: 1.0000\n",
      "Epoch 78/100\n",
      "10/10 [==============================] - 0s 157us/step - loss: 0.2447 - acc: 0.6000 - val_loss: 0.2197 - val_acc: 1.0000\n",
      "Epoch 79/100\n",
      "10/10 [==============================] - 0s 136us/step - loss: 0.2447 - acc: 0.6000 - val_loss: 0.2194 - val_acc: 1.0000\n",
      "Epoch 80/100\n",
      "10/10 [==============================] - 0s 130us/step - loss: 0.2446 - acc: 0.6000 - val_loss: 0.2191 - val_acc: 1.0000\n",
      "Epoch 81/100\n",
      "10/10 [==============================] - 0s 136us/step - loss: 0.2446 - acc: 0.6000 - val_loss: 0.2188 - val_acc: 1.0000\n",
      "Epoch 82/100\n",
      "10/10 [==============================] - 0s 374us/step - loss: 0.2445 - acc: 0.6000 - val_loss: 0.2184 - val_acc: 1.0000\n",
      "Epoch 83/100\n",
      "10/10 [==============================] - 0s 225us/step - loss: 0.2445 - acc: 0.6000 - val_loss: 0.2181 - val_acc: 1.0000\n",
      "Epoch 84/100\n",
      "10/10 [==============================] - 0s 208us/step - loss: 0.2445 - acc: 0.6000 - val_loss: 0.2178 - val_acc: 1.0000\n",
      "Epoch 85/100\n",
      "10/10 [==============================] - 0s 173us/step - loss: 0.2444 - acc: 0.6000 - val_loss: 0.2175 - val_acc: 1.0000\n",
      "Epoch 86/100\n",
      "10/10 [==============================] - 0s 204us/step - loss: 0.2444 - acc: 0.6000 - val_loss: 0.2172 - val_acc: 1.0000\n",
      "Epoch 87/100\n",
      "10/10 [==============================] - 0s 171us/step - loss: 0.2443 - acc: 0.6000 - val_loss: 0.2169 - val_acc: 1.0000\n",
      "Epoch 88/100\n",
      "10/10 [==============================] - 0s 162us/step - loss: 0.2443 - acc: 0.6000 - val_loss: 0.2166 - val_acc: 1.0000\n",
      "Epoch 89/100\n",
      "10/10 [==============================] - 0s 463us/step - loss: 0.2442 - acc: 0.6000 - val_loss: 0.2163 - val_acc: 1.0000\n",
      "Epoch 90/100\n",
      "10/10 [==============================] - 0s 158us/step - loss: 0.2442 - acc: 0.6000 - val_loss: 0.2160 - val_acc: 1.0000\n",
      "Epoch 91/100\n",
      "10/10 [==============================] - 0s 167us/step - loss: 0.2442 - acc: 0.6000 - val_loss: 0.2157 - val_acc: 1.0000\n",
      "Epoch 92/100\n",
      "10/10 [==============================] - 0s 313us/step - loss: 0.2441 - acc: 0.6000 - val_loss: 0.2154 - val_acc: 1.0000\n",
      "Epoch 93/100\n",
      "10/10 [==============================] - 0s 182us/step - loss: 0.2441 - acc: 0.6000 - val_loss: 0.2151 - val_acc: 1.0000\n",
      "Epoch 94/100\n",
      "10/10 [==============================] - 0s 164us/step - loss: 0.2440 - acc: 0.6000 - val_loss: 0.2148 - val_acc: 1.0000\n",
      "Epoch 95/100\n",
      "10/10 [==============================] - 0s 127us/step - loss: 0.2440 - acc: 0.6000 - val_loss: 0.2145 - val_acc: 1.0000\n",
      "Epoch 96/100\n",
      "10/10 [==============================] - 0s 136us/step - loss: 0.2440 - acc: 0.6000 - val_loss: 0.2142 - val_acc: 1.0000\n",
      "Epoch 97/100\n",
      "10/10 [==============================] - 0s 131us/step - loss: 0.2439 - acc: 0.6000 - val_loss: 0.2139 - val_acc: 1.0000\n",
      "Epoch 98/100\n",
      "10/10 [==============================] - 0s 135us/step - loss: 0.2439 - acc: 0.6000 - val_loss: 0.2136 - val_acc: 1.0000\n",
      "Epoch 99/100\n",
      "10/10 [==============================] - 0s 136us/step - loss: 0.2438 - acc: 0.6000 - val_loss: 0.2133 - val_acc: 1.0000\n",
      "Epoch 100/100\n",
      "10/10 [==============================] - 0s 257us/step - loss: 0.2438 - acc: 0.6000 - val_loss: 0.2130 - val_acc: 1.0000\n"
     ]
    }
   ],
   "source": [
    "history2 = network2.fit(X_train, y_train, epochs=100, batch_size=len(X_train), validation_split=0.1)"
   ]
  },
  {
   "cell_type": "code",
   "execution_count": 55,
   "metadata": {},
   "outputs": [],
   "source": [
    "end = time.time() - start"
   ]
  },
  {
   "cell_type": "code",
   "execution_count": 56,
   "metadata": {},
   "outputs": [
    {
     "data": {
      "image/png": "[encoded data removed]",
      "text/plain": [
       "<Figure size 432x288 with 1 Axes>"
      ]
     },
     "metadata": {},
     "output_type": "display_data"
    }
   ],
   "source": [
    "plt.plot(history2.history['acc'])\n",
    "plt.plot(history2.history['val_acc'])\n",
    "plt.title('Model accuracy')\n",
    "plt.ylabel('Accuracy')\n",
    "plt.xlabel('Epoch')\n",
    "plt.legend(['Train', 'Test'], loc='upper left')\n",
    "plt.show()"
   ]
  },
  {
   "cell_type": "code",
   "execution_count": 57,
   "metadata": {},
   "outputs": [
    {
     "data": {
      "image/png": "[encoded data removed]",
      "text/plain": [
       "<Figure size 432x288 with 1 Axes>"
      ]
     },
     "metadata": {},
     "output_type": "display_data"
    }
   ],
   "source": [
    "plt.plot(history2.history['loss'])\n",
    "plt.plot(history2.history['val_loss'])\n",
    "plt.title('Model loss')\n",
    "plt.ylabel('Loss')\n",
    "plt.xlabel('Epoch')\n",
    "plt.legend(['Train', 'Test'], loc='upper left')\n",
    "plt.show()"
   ]
  },
  {
   "cell_type": "code",
   "execution_count": 58,
   "metadata": {},
   "outputs": [
    {
     "name": "stdout",
     "output_type": "stream",
     "text": [
      "\r",
      "2/2 [==============================] - 0s 434us/step\n"
     ]
    }
   ],
   "source": [
    "score2 = network2.evaluate(X_test, y_test, batch_size=len(X_train))"
   ]
  },
  {
   "cell_type": "code",
   "execution_count": 59,
   "metadata": {},
   "outputs": [
    {
     "name": "stdout",
     "output_type": "stream",
     "text": [
      "Loss: 25.39905309677124 %\n",
      "Accuracy 50.0 %\n",
      "Time: 0.570594310760498 ms\n"
     ]
    }
   ],
   "source": [
    "print(\"Loss: {} %\".format(score2[0]*100.0))\n",
    "print(\"Accuracy {} %\".format(score2[1]*100.0))\n",
    "print(\"Time: {} ms\".format(end))"
   ]
  },
  {
   "cell_type": "markdown",
   "metadata": {},
   "source": [
    "### 1.b.2.4 Analisis Eksperimen"
   ]
  },
  {
   "cell_type": "markdown",
   "metadata": {},
   "source": [
    "Berdasarkan hasil eksperimen dengan classifier sendiri dan model keras, dapat disimpulkan dengan tabel berikut ini."
   ]
  },
  {
   "cell_type": "code",
   "execution_count": 61,
   "metadata": {
    "scrolled": true
   },
   "outputs": [
    {
     "data": {
      "text/html": [
       "<div>\n",
       "<style scoped>\n",
       "    .dataframe tbody tr th:only-of-type {\n",
       "        vertical-align: middle;\n",
       "    }\n",
       "\n",
       "    .dataframe tbody tr th {\n",
       "        vertical-align: top;\n",
       "    }\n",
       "\n",
       "    .dataframe thead th {\n",
       "        text-align: right;\n",
       "    }\n",
       "</style>\n",
       "<table border=\"1\" class=\"dataframe\">\n",
       "  <thead>\n",
       "    <tr style=\"text-align: right;\">\n",
       "      <th></th>\n",
       "      <th>Classifier</th>\n",
       "      <th>Batch</th>\n",
       "      <th>Loss</th>\n",
       "      <th>Accuracy</th>\n",
       "    </tr>\n",
       "  </thead>\n",
       "  <tbody>\n",
       "    <tr>\n",
       "      <th>0</th>\n",
       "      <td>Classifier Sendiri</td>\n",
       "      <td>1</td>\n",
       "      <td>0.500000</td>\n",
       "      <td>0.5</td>\n",
       "    </tr>\n",
       "    <tr>\n",
       "      <th>1</th>\n",
       "      <td>Keras Model</td>\n",
       "      <td>12</td>\n",
       "      <td>0.259643</td>\n",
       "      <td>0.5</td>\n",
       "    </tr>\n",
       "    <tr>\n",
       "      <th>2</th>\n",
       "      <td>Classifier Sendiri</td>\n",
       "      <td>1</td>\n",
       "      <td>0.500000</td>\n",
       "      <td>0.5</td>\n",
       "    </tr>\n",
       "    <tr>\n",
       "      <th>3</th>\n",
       "      <td>Keras Model</td>\n",
       "      <td>12</td>\n",
       "      <td>0.253991</td>\n",
       "      <td>0.5</td>\n",
       "    </tr>\n",
       "  </tbody>\n",
       "</table>\n",
       "</div>"
      ],
      "text/plain": [
       "           Classifier  Batch      Loss  Accuracy\n",
       "0  Classifier Sendiri      1  0.500000       0.5\n",
       "1         Keras Model     12  0.259643       0.5\n",
       "2  Classifier Sendiri      1  0.500000       0.5\n",
       "3         Keras Model     12  0.253991       0.5"
      ]
     },
     "execution_count": 61,
     "metadata": {},
     "output_type": "execute_result"
    }
   ],
   "source": [
    "pd.DataFrame({'Classifier' : ['Classifier Sendiri', 'Keras Model', 'Classifier Sendiri', 'Keras Model'],\n",
    "              'Batch' : [1, len(X_train), 1, len(X_train)],\n",
    "              'Loss' :[loss1, score1[0], loss2, score2[0]],\n",
    "              'Accuracy' :[accuracy1, score1[1], accuracy2, score2[1]]})"
   ]
  },
  {
   "cell_type": "markdown",
   "metadata": {},
   "source": [
    "Akurasi yang dihasilkan dari kedua classifier adalah sama. Namun, jika melihat grafik dari akurasi dan loss di setiap cluster, terlihat bahwa classifier 4, dengan model keras dan batch = 12 atau sama dengan jumlah data, menghasilkan model yang lebih baik dari yang lain. Jika dibandingkan, proses pembelajaran berjalan lebih baik di keras dikarenakan lebih teroptimasi daripada algoritma kami, sehingga memiliki performa yang lebih baik walaupun tidak memakai adam. \n",
    "\n",
    "Sehingga dapat disimpulkan bahwa classifier terbaik dalam eksperimen ini adalah classifier 4 dengan model keras dan batch = 12 atau jumlah data. Hal lain yang dapat disim"
   ]
  },
  {
   "cell_type": "markdown",
   "metadata": {},
   "source": [
    "### Pembagian Kerja"
   ]
  },
  {
   "cell_type": "markdown",
   "metadata": {},
   "source": [
    "Muhammad Rizki Duwinanto - 13515006 : Algoritma, Keras, Laporan <br/>\n",
    "Kevin Erdiza Yogatama - 13515016 : Algoritma, Keras, Laporan <br/>\n",
    "Edwin Rachman - 13515042 : Algoritma, Keras, Laporan"
   ]
  }
 ],
 "metadata": {
  "kernelspec": {
   "display_name": "Python 3",
   "language": "python",
   "name": "python3"
  },
  "language_info": {
   "codemirror_mode": {
    "name": "ipython",
    "version": 3
   },
   "file_extension": ".py",
   "mimetype": "text/x-python",
   "name": "python",
   "nbconvert_exporter": "python",
   "pygments_lexer": "ipython3",
   "version": "3.6.6"
  }
 },
 "nbformat": 4,
 "nbformat_minor": 2
}
